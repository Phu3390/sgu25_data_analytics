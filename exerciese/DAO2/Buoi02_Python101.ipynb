{
  "cells": [
    {
      "cell_type": "markdown",
      "id": "be0daa98",
      "metadata": {
        "id": "be0daa98"
      },
      "source": [
        "# Buổi 02 - Python101\n"
      ]
    },
    {
      "cell_type": "markdown",
      "id": "59b9d6d9",
      "metadata": {
        "id": "59b9d6d9"
      },
      "source": [
        "## Python Programming"
      ]
    },
    {
      "cell_type": "code",
      "execution_count": null,
      "id": "2cca9652",
      "metadata": {
        "id": "2cca9652",
        "outputId": "19b29a1f-755b-4cc5-a15f-beba9dd218a7"
      },
      "outputs": [
        {
          "name": "stdout",
          "output_type": "stream",
          "text": [
            "Hello World\n"
          ]
        }
      ],
      "source": [
        "#Python Hello World\n",
        "print(\"Hello World\")"
      ]
    },
    {
      "cell_type": "code",
      "execution_count": null,
      "id": "8bb66d8c",
      "metadata": {
        "id": "8bb66d8c"
      },
      "outputs": [],
      "source": [
        "#Python Syntax\n",
        "# comment"
      ]
    },
    {
      "cell_type": "code",
      "execution_count": null,
      "id": "07813930",
      "metadata": {
        "id": "07813930",
        "outputId": "ef3c9574-a4a9-4c7e-a96d-25c7c58f2dda"
      },
      "outputs": [
        {
          "name": "stdout",
          "output_type": "stream",
          "text": [
            "Pass\n"
          ]
        }
      ],
      "source": [
        "#Python Syntax\n",
        "score = 80\n",
        "if score >=60 : # score lớn hoặc bằng 60 thì in ra Pass\n",
        "    print(\"Pass\")"
      ]
    },
    {
      "cell_type": "code",
      "execution_count": null,
      "id": "559a7033",
      "metadata": {
        "id": "559a7033",
        "outputId": "d30b195b-5476-40ee-a8a8-535e3b2208ad"
      },
      "outputs": [
        {
          "name": "stdout",
          "output_type": "stream",
          "text": [
            "2\n",
            "2.5\n",
            "Hello\n",
            "Hello\n",
            "Hello\n",
            "Hello\n"
          ]
        }
      ],
      "source": [
        "#Python Variables\n",
        "x = 2 # x là biến kiểu số nguyên (int)\n",
        "print(x)\n",
        "price = 2.5 # là biến kiểu số thực (float)\n",
        "print(price)\n",
        "word = 'Hello' # là biến kiểu chuỗi (string)\n",
        "print(word)\n",
        "\n",
        "word = 'Hello' # là biến kiểu chuỗi (string)\n",
        "print(word)\n",
        "word = \"Hello\"  # là biến kiểu chuỗi (string)\n",
        "print(word)\n",
        "word = '''Hello''' # là biến kiểu chuỗi (string)\n",
        "print(word)"
      ]
    },
    {
      "cell_type": "code",
      "execution_count": null,
      "id": "f42fde90",
      "metadata": {
        "id": "f42fde90",
        "outputId": "5a6690b7-e0e5-4ef8-fd2c-61d0c74b6e51"
      },
      "outputs": [
        {
          "name": "stdout",
          "output_type": "stream",
          "text": [
            "3\n"
          ]
        }
      ],
      "source": [
        "#Python Variables\n",
        "x = 2 # x là biến kiểu số nguyên (int)\n",
        "y = x + 1 # y là biến kiểu số nguyên (int)\n",
        "print(y)"
      ]
    },
    {
      "cell_type": "code",
      "execution_count": null,
      "id": "c40146a3",
      "metadata": {
        "id": "c40146a3",
        "outputId": "0a380ee3-970d-4492-e9ff-8be51eedd4d6"
      },
      "outputs": [
        {
          "name": "stdout",
          "output_type": "stream",
          "text": [
            "Python Version: 3.13.5\n"
          ]
        }
      ],
      "source": [
        "#python_version()\n",
        "# comment\n",
        "from platform import python_version # import hàm python_version từ module platform\n",
        "print(\"Python Version:\", python_version())"
      ]
    },
    {
      "cell_type": "code",
      "execution_count": null,
      "id": "79bd0818",
      "metadata": {
        "id": "79bd0818",
        "outputId": "d38a677c-0729-423a-cf12-ce59be68bc3c"
      },
      "outputs": [
        {
          "name": "stdout",
          "output_type": "stream",
          "text": [
            "Hello World\n",
            "2\n",
            "2.5\n",
            "7j\n"
          ]
        }
      ],
      "source": [
        "#Python Data Types\n",
        "x = \"Hello World\" #str\n",
        "print(x)\n",
        "x = 2 #int\n",
        "print(x)\n",
        "x = 2.5 #float\n",
        "print(x)\n",
        "x = 7j #complex\n",
        "print(x)"
      ]
    },
    {
      "cell_type": "code",
      "execution_count": null,
      "id": "5f8892f5",
      "metadata": {
        "id": "5f8892f5",
        "outputId": "cda0f77a-216f-4c3c-ef66-d83c631ba468"
      },
      "outputs": [
        {
          "name": "stdout",
          "output_type": "stream",
          "text": [
            "['apple', 'banana', 'cherry']\n",
            "('apple', 'banana', 'cherry')\n",
            "range(0, 6)\n",
            "{'name': 'Tom', 'age': 20}\n",
            "{'apple', 'cherry', 'banana'}\n",
            "frozenset({'apple', 'cherry', 'banana'})\n"
          ]
        }
      ],
      "source": [
        "#Python Data Types\n",
        "x = [\"apple\", \"banana\", \"cherry\"] #list\n",
        "print(x)\n",
        "x = (\"apple\", \"banana\", \"cherry\") #tuple\n",
        "print(x)\n",
        "x = range(6) #range\n",
        "print(x)\n",
        "x = {\"name\" : \"Tom\", \"age\" : 20} #dict\n",
        "print(x)\n",
        "x = {\"apple\", \"banana\", \"cherry\"} #set\n",
        "print(x)\n",
        "x = frozenset({\"apple\", \"banana\", \"cherry\"})#frozenset\n",
        "print(x)"
      ]
    },
    {
      "cell_type": "code",
      "execution_count": null,
      "id": "f01e5077",
      "metadata": {
        "id": "f01e5077",
        "outputId": "60d2e5e0-4706-4c88-d48a-720a8cdaa897"
      },
      "outputs": [
        {
          "name": "stdout",
          "output_type": "stream",
          "text": [
            "True\n",
            "b'Hello'\n",
            "bytearray(b'\\x00\\x00\\x00\\x00\\x00')\n",
            "<memory at 0x00000232B8FD6440>\n",
            "None\n"
          ]
        }
      ],
      "source": [
        "#Python Data Types\n",
        "x = True #bool\n",
        "print(x)\n",
        "x = b\"Hello\" #bytes\n",
        "print(x)\n",
        "x = bytearray(5) #bytearray\n",
        "print(x)\n",
        "x = memoryview(bytes(5)) #memoryview\n",
        "print(x)\n",
        "x = None #NoneType\n",
        "print(x)"
      ]
    },
    {
      "cell_type": "code",
      "execution_count": null,
      "id": "2f04e0a2",
      "metadata": {
        "id": "2f04e0a2",
        "outputId": "1f70cdcc-0ca4-4a77-fdbb-8885f84e6dfc"
      },
      "outputs": [
        {
          "name": "stdout",
          "output_type": "stream",
          "text": [
            "3 <class 'str'>\n",
            "3 <class 'int'>\n",
            "3.0 <class 'float'>\n"
          ]
        }
      ],
      "source": [
        "#Python Casting\n",
        "x = str(3) # x will be '3'\n",
        "y = int(3) # y will be 3\n",
        "z = float(3) # z will be 3.0\n",
        "print(x, type(x))\n",
        "print(y, type(y))\n",
        "print(z, type(z))"
      ]
    },
    {
      "cell_type": "code",
      "execution_count": null,
      "id": "27c92628",
      "metadata": {
        "id": "27c92628",
        "outputId": "11bb17ed-44a1-4729-e0ac-e61b77f848f7"
      },
      "outputs": [
        {
          "name": "stdout",
          "output_type": "stream",
          "text": [
            "7 + 2 = 9\n",
            "7 - 2 = 5\n",
            "7 * 2 = 14\n",
            "7 / 2 = 3.5\n",
            "7 // 2 = 3\n",
            "7 % 2 = 1\n",
            "7 ** 2 = 49\n"
          ]
        }
      ],
      "source": [
        "#Python Basic Operators\n",
        "print('7 + 2 =', 7 + 2)\n",
        "print('7 - 2 =', 7 - 2)\n",
        "print('7 * 2 =', 7 * 2)\n",
        "print('7 / 2 =', 7 / 2)\n",
        "print('7 // 2 =', 7 // 2)\n",
        "print('7 % 2 =', 7 % 2)\n",
        "print('7 ** 2 =', 7 ** 2)"
      ]
    },
    {
      "cell_type": "code",
      "execution_count": null,
      "id": "cc13279a",
      "metadata": {
        "id": "cc13279a",
        "outputId": "92bfb6b1-27d3-4f06-e7e2-f50671a888c3"
      },
      "outputs": [
        {
          "name": "stdout",
          "output_type": "stream",
          "text": [
            "True\n",
            "False\n",
            "False\n"
          ]
        }
      ],
      "source": [
        "#Python Booleans: True or False\n",
        "print(3 > 2)\n",
        "print(3 == 2)\n",
        "print(3 < 2)"
      ]
    },
    {
      "cell_type": "code",
      "execution_count": null,
      "id": "8da29b70",
      "metadata": {
        "id": "8da29b70",
        "outputId": "d124e31f-5551-4577-93d4-e8bf7d007979"
      },
      "outputs": [
        {
          "name": "stdout",
          "output_type": "stream",
          "text": [
            "Your BMI is: 20.8\n"
          ]
        }
      ],
      "source": [
        "#Python BMI Calculator\n",
        "# BMI Calculator in Python\n",
        "height_cm = 170 # chieu cao cm\n",
        "weight_kg = 60 # can nang kg\n",
        "height_m = height_cm/100 # chuyen cm sang m\n",
        "BMI = (weight_kg/(height_m**2)) # tinh BMI\n",
        "\n",
        "print(\"Your BMI is: \" + str(round(BMI,1)))"
      ]
    },
    {
      "cell_type": "markdown",
      "id": "a547a31f",
      "metadata": {
        "id": "a547a31f"
      },
      "source": [
        "\n",
        "\n",
        "\n",
        "## Future value of a specified principal amount, rate of interest, and a number of years"
      ]
    },
    {
      "cell_type": "code",
      "execution_count": null,
      "id": "082eaf0f",
      "metadata": {
        "id": "082eaf0f",
        "outputId": "158bcf2b-31a4-4f60-8330-e35ef1d25934"
      },
      "outputs": [
        {
          "name": "stdout",
          "output_type": "stream",
          "text": [
            "fv =  194.87\n"
          ]
        }
      ],
      "source": [
        "#How much is your $100 worth after 7 years?\n",
        "fv = 100 * 1.1 ** 7 # tính lãi kép\n",
        "print('fv = ', round(fv, 2))\n",
        "# output = 194.87"
      ]
    },
    {
      "cell_type": "code",
      "execution_count": null,
      "id": "66f118fb",
      "metadata": {
        "id": "66f118fb",
        "outputId": "e63ff322-9571-4eee-db08-3a00a5b04f28"
      },
      "outputs": [
        {
          "name": "stdout",
          "output_type": "stream",
          "text": [
            "194.87\n"
          ]
        }
      ],
      "source": [
        "# Future Value\n",
        "pv = 100\n",
        "r = 0.1\n",
        "n = 7\n",
        "fv = pv * ((1 + (r)) ** n) # tính lãi kép\n",
        "print(round(fv, 2))"
      ]
    },
    {
      "cell_type": "code",
      "execution_count": null,
      "id": "502029ee",
      "metadata": {
        "id": "502029ee",
        "outputId": "2727746f-7031-4ad5-bd8b-68a18c67d398"
      },
      "outputs": [
        {
          "name": "stdout",
          "output_type": "stream",
          "text": [
            "194.87\n"
          ]
        }
      ],
      "source": [
        "# Future Value\n",
        "amount = 100\n",
        "interest = 10 #10% = 0.01 * 10\n",
        "years = 7\n",
        "\n",
        "future_value = amount * ((1 + (0.01 * interest)) ** years) # tính lãi kép\n",
        "print(round(future_value, 2))"
      ]
    },
    {
      "cell_type": "markdown",
      "id": "06696790",
      "metadata": {
        "id": "06696790"
      },
      "source": [
        "## Python Data Structures"
      ]
    },
    {
      "cell_type": "code",
      "execution_count": null,
      "id": "a8d2ccb4",
      "metadata": {
        "id": "a8d2ccb4",
        "outputId": "fbd9baf4-012f-44e4-c1c4-b3d3b61eb3f5"
      },
      "outputs": [
        {
          "name": "stdout",
          "output_type": "stream",
          "text": [
            "['apple', 'banana', 'cherry']\n",
            "('apple', 'banana', 'cherry')\n",
            "{'name': 'Tom', 'age': 20}\n",
            "{'apple', 'cherry', 'banana'}\n"
          ]
        }
      ],
      "source": [
        "# Python Data Types\n",
        "x = [\"apple\", \"banana\", \"cherry\"] #list\n",
        "print(x)\n",
        "x = (\"apple\", \"banana\", \"cherry\") #tuple\n",
        "print(x)\n",
        "x = {\"name\" : \"Tom\", \"age\" : 20} #dict\n",
        "print(x)\n",
        "x = {\"apple\", \"banana\", \"cherry\"} #set\n",
        "print(x)"
      ]
    },
    {
      "cell_type": "code",
      "execution_count": null,
      "id": "2b93a492",
      "metadata": {
        "id": "2b93a492",
        "outputId": "df4f2ea1-3056-4ff4-bafa-1d7d1da7d786"
      },
      "outputs": [
        {
          "name": "stdout",
          "output_type": "stream",
          "text": [
            "4\n",
            "60\n",
            "70\n",
            "90\n"
          ]
        }
      ],
      "source": [
        "#Lists []\n",
        "x = [60, 70, 80, 90] # khai báo một list\n",
        "print(len(x))\n",
        "print(x[0])\n",
        "print(x[1])\n",
        "print(x[-1])"
      ]
    },
    {
      "cell_type": "code",
      "execution_count": null,
      "id": "9c430e1e",
      "metadata": {
        "id": "9c430e1e",
        "outputId": "c57b513c-e8e6-4ef4-fa13-e548187eb0a1"
      },
      "outputs": [
        {
          "name": "stdout",
          "output_type": "stream",
          "text": [
            "10\n",
            "20\n",
            "30\n",
            "50\n"
          ]
        }
      ],
      "source": [
        "#Tuples ()\n",
        "x = (10, 20, 30, 40, 50) # khai báo một tuple\n",
        "print(x[0])\n",
        "print(x[1])\n",
        "print(x[2])\n",
        "print(x[-1])"
      ]
    },
    {
      "cell_type": "code",
      "execution_count": null,
      "id": "b605eb2f",
      "metadata": {
        "id": "b605eb2f",
        "outputId": "5ea0830a-d46a-4837-cf07-6f7b35b81f38"
      },
      "outputs": [
        {
          "name": "stdout",
          "output_type": "stream",
          "text": [
            "True\n",
            "False\n",
            "True\n",
            "3\n",
            "3\n",
            "2\n"
          ]
        }
      ],
      "source": [
        "# Sets {}\n",
        "animals = {'cat', 'dog'} # khai báo một set\n",
        "print('cat' in animals)\n",
        "print('fish' in animals)\n",
        "animals.add('fish')# thêm phần tử 'fish' vào set\n",
        "print('fish' in animals)\n",
        "print(len(animals))\n",
        "animals.add('cat') # thêm phần tử 'cat' vào set\n",
        "print(len(animals))\n",
        "animals.remove('cat') # xóa phần tử 'cat' khỏi set\n",
        "print(len(animals))"
      ]
    },
    {
      "cell_type": "code",
      "execution_count": null,
      "id": "28a84330",
      "metadata": {
        "id": "28a84330",
        "outputId": "cef088bd-6944-40a4-8b50-b21bde8c6326"
      },
      "outputs": [
        {
          "name": "stdout",
          "output_type": "stream",
          "text": [
            "English\n"
          ]
        }
      ],
      "source": [
        "#Dictionary {key : value}\n",
        "k = { 'EN':'English', 'FR':'French' } # khai báo một dictionary\n",
        "\n",
        "print(k['EN'])"
      ]
    },
    {
      "cell_type": "code",
      "execution_count": null,
      "id": "0fdb98e9",
      "metadata": {
        "id": "0fdb98e9",
        "outputId": "71cf6efd-6b5b-4283-ca32-5706cc4f9765"
      },
      "outputs": [
        {
          "name": "stdout",
          "output_type": "stream",
          "text": [
            "['apple', 'banana', 'cherry']\n",
            "('red', 'green', 'blue')\n",
            "{'cat', 'dog'}\n",
            "{'name': 'Tom', 'age': 20}\n"
          ]
        }
      ],
      "source": [
        "# Python Data Structures\n",
        "fruits = [\"apple\", \"banana\", \"cherry\"] #lists []\n",
        "print(fruits)\n",
        "colors = (\"red\", \"green\", \"blue\") #tuples ()\n",
        "print(colors)\n",
        "animals = {'cat', 'dog'} #sets {}\n",
        "print(animals)\n",
        "person = {\"name\" : \"Tom\", \"age\" : 20} #dictionaries {}\n",
        "print(person)"
      ]
    },
    {
      "cell_type": "code",
      "execution_count": null,
      "id": "048b5363",
      "metadata": {
        "id": "048b5363",
        "outputId": "4bd8cb6a-735c-4843-acd1-0333c95174db"
      },
      "outputs": [
        {
          "name": "stdout",
          "output_type": "stream",
          "text": [
            "Total expenses: 293.5\n"
          ]
        }
      ],
      "source": [
        "#Python for Finance Applications\n",
        "# Python Lists\n",
        "expenses = [72.50, 80.75, 50.00, 90.25] # danh sách các khoản chi tiêu\n",
        "total_expenses = sum(expenses) # tính tổng các khoản chi tiêu\n",
        "print(\"Total expenses:\", total_expenses)"
      ]
    },
    {
      "cell_type": "code",
      "execution_count": null,
      "id": "09bd9c1b",
      "metadata": {
        "id": "09bd9c1b",
        "outputId": "15cae27b-aa70-49d2-cc4a-5f829dbd37b7"
      },
      "outputs": [
        {
          "name": "stdout",
          "output_type": "stream",
          "text": [
            "Account name: Cash Account number: 1001\n",
            "Account name: Accounts Receivable Account number: 1002\n",
            "Account name: Inventory Account number: 1003\n"
          ]
        }
      ],
      "source": [
        "# Python for Finance Applications\n",
        "# Python Tuples\n",
        "accounts = ((\"Cash\", 1001), (\"Accounts Receivable\", 1002),(\"Inventory\", 1003)) # danh sách các tài khoản\n",
        "for account in accounts: # lặp qua từng tài khoản trong danh sách\n",
        "    print(\"Account name:\", account[0], \"Account number:\", account[1])"
      ]
    },
    {
      "cell_type": "code",
      "execution_count": null,
      "id": "9215354c",
      "metadata": {
        "id": "9215354c",
        "outputId": "f5de8c61-0b53-48be-e3e9-caf51a97d3b5"
      },
      "outputs": [
        {
          "name": "stdout",
          "output_type": "stream",
          "text": [
            "Account number 1004 is not in use.\n"
          ]
        }
      ],
      "source": [
        "# Python for Finance Applications\n",
        "# Python Sets\n",
        "account_numbers = {1001, 1002, 1003} # tập hợp các số tài khoản\n",
        "new_account_number = 1004 # số tài khoản mới\n",
        "if new_account_number not in account_numbers: # kiểm tra nếu số tài khoản mới chưa có trong tập hợp\n",
        "    print(\"Account number\", new_account_number, \"is not in use.\")"
      ]
    },
    {
      "cell_type": "code",
      "execution_count": null,
      "id": "09e00d81",
      "metadata": {
        "id": "09e00d81",
        "outputId": "05379fbb-5884-466d-bd83-6766874fcb18"
      },
      "outputs": [
        {
          "name": "stdout",
          "output_type": "stream",
          "text": [
            "Account number: 1001\n",
            "Account name: Cash\n",
            "Account balance: 500.0\n",
            "Account type: Asset\n",
            "Account number: 1002\n",
            "Account name: Accounts Receivable\n",
            "Account balance: 1000.0\n",
            "Account type: Asset\n",
            "Account number: 2001\n",
            "Account name: Accounts Payable\n",
            "Account balance: 750.0\n",
            "Account type: Liability\n"
          ]
        }
      ],
      "source": [
        "# Python for Finance Applications\n",
        "# Python Dictionaries\n",
        "accounts = {\"1001\": {\"name\": \"Cash\", \"balance\": 500.00, \"type\": \"Asset\"},\n",
        "\"1002\": {\"name\": \"Accounts Receivable\", \"balance\": 1000.00, \"type\": \"Asset\"},\n",
        "\"2001\": {\"name\": \"Accounts Payable\", \"balance\": 750.00, \"type\": \"Liability\"}} # danh sách các tài khoản\n",
        "for account_number, account_info in accounts.items(): # lặp qua từng tài khoản trong dictionary\n",
        "    print(\"Account number:\", account_number)\n",
        "    print(\"Account name:\", account_info[\"name\"])\n",
        "    print(\"Account balance:\", account_info[\"balance\"])\n",
        "    print(\"Account type:\", account_info[\"type\"])"
      ]
    },
    {
      "cell_type": "markdown",
      "id": "781e9b87",
      "metadata": {
        "id": "781e9b87"
      },
      "source": [
        "##  Python Control Logic and Loops"
      ]
    },
    {
      "cell_type": "code",
      "execution_count": null,
      "id": "8061a374",
      "metadata": {
        "id": "8061a374",
        "outputId": "d0d68cda-43df-40dc-f08e-ba9157e9fdd3"
      },
      "outputs": [
        {
          "name": "stdout",
          "output_type": "stream",
          "text": [
            "Pass\n"
          ]
        }
      ],
      "source": [
        "# Python if\n",
        "score = 80 # điểm số\n",
        "\n",
        "if score >=60 : # score lớn hoặc bằng 60 thì in ra Pass\n",
        "\n",
        "    print(\"Pass\")"
      ]
    },
    {
      "cell_type": "code",
      "execution_count": null,
      "id": "0db029fd",
      "metadata": {
        "id": "0db029fd",
        "outputId": "ec6e6c4b-0f33-47d7-b595-0a8064555e09"
      },
      "outputs": [
        {
          "name": "stdout",
          "output_type": "stream",
          "text": [
            "Pass\n"
          ]
        }
      ],
      "source": [
        "# Python if else\n",
        "score = 80 # điểm số\n",
        "if score >=60 : # score lớn hoặc bằng 60 thì in ra Pass\n",
        "    print(\"Pass\")\n",
        "else: # score nhỏ hơn 60 thì in ra Fail\n",
        "    print(\"Fail\")"
      ]
    },
    {
      "cell_type": "code",
      "execution_count": null,
      "id": "13fb1bf9",
      "metadata": {
        "id": "13fb1bf9",
        "outputId": "bad9ad64-4610-42fc-8d99-8deeacd3343b"
      },
      "outputs": [
        {
          "name": "stdout",
          "output_type": "stream",
          "text": [
            "A\n"
          ]
        }
      ],
      "source": [
        "#Python if elif else\n",
        "score = 95 # điểm số\n",
        "if score >= 90 : # score lớn hoặc bằng 90 thì in ra A\n",
        "\n",
        "    print(\"A\")\n",
        "\n",
        "elif score >=60 :#  score lớn hoặc bằng 60 thì in ra Pass\n",
        "    print(\"Pass\")\n",
        "\n",
        "else: # score nhỏ hơn 60 thì in ra Fail\n",
        "\n",
        "    print(\"Fail\")"
      ]
    },
    {
      "cell_type": "code",
      "execution_count": null,
      "id": "b84b468a",
      "metadata": {
        "id": "b84b468a",
        "outputId": "9c189cce-886b-4c5c-dab5-fa98e5e29c63"
      },
      "outputs": [
        {
          "name": "stdout",
          "output_type": "stream",
          "text": [
            "1\n",
            "2\n",
            "3\n",
            "4\n",
            "5\n"
          ]
        }
      ],
      "source": [
        "#Python for Loops\n",
        "for i in range(1,6): # lặp từ 1 đến 5\n",
        "    print(i)"
      ]
    },
    {
      "cell_type": "code",
      "execution_count": null,
      "id": "ef677a3c",
      "metadata": {
        "id": "ef677a3c",
        "outputId": "2a828bd7-8ca7-48e4-d474-8869f17db2e3"
      },
      "outputs": [
        {
          "name": "stdout",
          "output_type": "stream",
          "text": [
            "1  *  1  =  1\n",
            "1  *  2  =  2\n",
            "1  *  3  =  3\n",
            "1  *  4  =  4\n",
            "1  *  5  =  5\n",
            "1  *  6  =  6\n",
            "1  *  7  =  7\n",
            "1  *  8  =  8\n",
            "1  *  9  =  9\n",
            "2  *  1  =  2\n",
            "2  *  2  =  4\n",
            "2  *  3  =  6\n",
            "2  *  4  =  8\n",
            "2  *  5  =  10\n",
            "2  *  6  =  12\n",
            "2  *  7  =  14\n",
            "2  *  8  =  16\n",
            "2  *  9  =  18\n",
            "3  *  1  =  3\n",
            "3  *  2  =  6\n",
            "3  *  3  =  9\n",
            "3  *  4  =  12\n",
            "3  *  5  =  15\n",
            "3  *  6  =  18\n",
            "3  *  7  =  21\n",
            "3  *  8  =  24\n",
            "3  *  9  =  27\n",
            "4  *  1  =  4\n",
            "4  *  2  =  8\n",
            "4  *  3  =  12\n",
            "4  *  4  =  16\n",
            "4  *  5  =  20\n",
            "4  *  6  =  24\n",
            "4  *  7  =  28\n",
            "4  *  8  =  32\n",
            "4  *  9  =  36\n",
            "5  *  1  =  5\n",
            "5  *  2  =  10\n",
            "5  *  3  =  15\n",
            "5  *  4  =  20\n",
            "5  *  5  =  25\n",
            "5  *  6  =  30\n",
            "5  *  7  =  35\n",
            "5  *  8  =  40\n",
            "5  *  9  =  45\n",
            "6  *  1  =  6\n",
            "6  *  2  =  12\n",
            "6  *  3  =  18\n",
            "6  *  4  =  24\n",
            "6  *  5  =  30\n",
            "6  *  6  =  36\n",
            "6  *  7  =  42\n",
            "6  *  8  =  48\n",
            "6  *  9  =  54\n",
            "7  *  1  =  7\n",
            "7  *  2  =  14\n",
            "7  *  3  =  21\n",
            "7  *  4  =  28\n",
            "7  *  5  =  35\n",
            "7  *  6  =  42\n",
            "7  *  7  =  49\n",
            "7  *  8  =  56\n",
            "7  *  9  =  63\n",
            "8  *  1  =  8\n",
            "8  *  2  =  16\n",
            "8  *  3  =  24\n",
            "8  *  4  =  32\n",
            "8  *  5  =  40\n",
            "8  *  6  =  48\n",
            "8  *  7  =  56\n",
            "8  *  8  =  64\n",
            "8  *  9  =  72\n",
            "9  *  1  =  9\n",
            "9  *  2  =  18\n",
            "9  *  3  =  27\n",
            "9  *  4  =  36\n",
            "9  *  5  =  45\n",
            "9  *  6  =  54\n",
            "9  *  7  =  63\n",
            "9  *  8  =  72\n",
            "9  *  9  =  81\n"
          ]
        }
      ],
      "source": [
        "# Python for loops\n",
        "# for loops\n",
        "for i in range(1,10):# lặp từ 1 đến 9\n",
        "    for j in range(1,10):#  lặp từ 1 đến 9\n",
        "        print(i, ' * ' , j , ' = ', i*j)"
      ]
    },
    {
      "cell_type": "code",
      "execution_count": null,
      "id": "c056deb8",
      "metadata": {
        "id": "c056deb8",
        "outputId": "e766c067-e47a-412d-8fe9-a96452651fc5"
      },
      "outputs": [
        {
          "name": "stdout",
          "output_type": "stream",
          "text": [
            "10\n",
            "11\n",
            "12\n",
            "13\n",
            "14\n",
            "15\n",
            "16\n",
            "17\n",
            "18\n",
            "19\n"
          ]
        }
      ],
      "source": [
        "# Python while loops\n",
        "# while loops\n",
        "age = 10 # khởi tạo biến age với giá trị ban đầu là 10\n",
        "while age < 20:# điều kiện lặp\n",
        "    print(age)\n",
        "    age = age + 1# tăng giá trị của age lên 1 sau mỗi vòng lặp"
      ]
    },
    {
      "cell_type": "markdown",
      "id": "41d0db10",
      "metadata": {
        "id": "41d0db10"
      },
      "source": [
        "## Python Functions"
      ]
    },
    {
      "cell_type": "code",
      "execution_count": null,
      "id": "1f8e0d44",
      "metadata": {
        "id": "1f8e0d44",
        "outputId": "a3c1068d-7fe6-42a4-ebb9-70e86068a66f"
      },
      "outputs": [
        {
          "name": "stdout",
          "output_type": "stream",
          "text": [
            "194.87\n"
          ]
        }
      ],
      "source": [
        "# Python Function def\n",
        "# indentation for blocks. four spaces\n",
        "def getfv(pv, r, n):# hàm tính giá trị tương lai\n",
        "\n",
        "    fv = pv * ((1 + (r)) ** n)# tính lãi kép\n",
        "    return fv # trả về giá trị fv\n",
        "\n",
        "fv = getfv(100, 0.1, 7) # tính giá trị tương lai\n",
        "print(round(fv, 2))"
      ]
    },
    {
      "cell_type": "markdown",
      "id": "3dca94b0",
      "metadata": {
        "id": "3dca94b0"
      },
      "source": [
        "## Python Classes/Objects"
      ]
    },
    {
      "cell_type": "code",
      "execution_count": null,
      "id": "ad08afbb",
      "metadata": {
        "id": "ad08afbb",
        "outputId": "b1224f37-050b-4698-c89c-7ea1bb946f8d"
      },
      "outputs": [
        {
          "name": "stdout",
          "output_type": "stream",
          "text": [
            "5\n"
          ]
        }
      ],
      "source": [
        "# Python class\n",
        "class MyClass: # định nghĩa một lớp có tên MyClass\n",
        "    x = 5\n",
        "\n",
        "c1 = MyClass()# tạo một đối tượng c1 từ lớp MyClass\n",
        "print(c1.x)"
      ]
    },
    {
      "cell_type": "code",
      "execution_count": null,
      "id": "587a6bb8",
      "metadata": {
        "id": "587a6bb8",
        "outputId": "7fc63479-f2ba-4bf4-8a1e-bdc95be845d2"
      },
      "outputs": [
        {
          "name": "stdout",
          "output_type": "stream",
          "text": [
            "Alan\n",
            "20\n"
          ]
        }
      ],
      "source": [
        "# Python Classes/Objects\n",
        "class Person: # định nghĩa một lớp có tên Person\n",
        "\n",
        "    def __init__(self, name, age):# hàm khởi tạo với các tham số name và age\n",
        "        self.name = name # gán giá trị của tham số name cho thuộc tính name của đối tượng\n",
        "        self.age = age # gán giá trị của tham số age cho thuộc tính age của đối tượng\n",
        "\n",
        "p1 = Person(\"Alan\", 20) # tạo một đối tượng p1 từ lớp Person\n",
        "\n",
        "print(p1.name)\n",
        "print(p1.age)"
      ]
    },
    {
      "cell_type": "code",
      "execution_count": null,
      "id": "cbdcff2c",
      "metadata": {
        "id": "cbdcff2c",
        "outputId": "b6c4b27e-9471-4839-916c-e3129074fa6f"
      },
      "outputs": [
        {
          "name": "stdout",
          "output_type": "stream",
          "text": [
            "Hello my name is Alan\n"
          ]
        }
      ],
      "source": [
        "# Python Classes/Objects\n",
        "class Person:\n",
        "\n",
        "    def __init__(self, name, age):# hàm khởi tạo với các tham số name và age\n",
        "        self.name = name # gán giá trị của tham số name cho thuộc tính name của đối tượng\n",
        "        self.age = age # gán giá trị của tham số age cho thuộc tính age của đối tượng\n",
        "\n",
        "    def myfunc(self): # định nghĩa một phương thức myfunc\n",
        "        print(\"Hello my name is \" + self.name)\n",
        "\n",
        "p1 = Person(\"Alan\", 20)# tạo một đối tượng p1 từ lớp Person\n",
        "p1.myfunc()# gọi phương thức myfunc của đối tượng p1"
      ]
    },
    {
      "cell_type": "code",
      "execution_count": null,
      "id": "7f81e0fc",
      "metadata": {
        "id": "7f81e0fc",
        "outputId": "86e9570f-1a27-4d71-eb1c-38bd659ea4b9"
      },
      "outputs": [
        {
          "name": "stdout",
          "output_type": "stream",
          "text": [
            "Hello my name is Alan\n",
            "Alan\n",
            "20\n"
          ]
        }
      ],
      "source": [
        "#Python Classes/Objects\n",
        "class Person:\n",
        "\n",
        "    def __init__(self, name, age):# hàm khởi tạo với các tham số name và age\n",
        "        self.name = name # gán giá trị của tham số name cho thuộc tính name của đối tượng\n",
        "        self.age = age # gán giá trị của tham số age cho thuộc tính age của đối tượng\n",
        "\n",
        "    def myfunc(self):# định nghĩa một phương thức myfunc\n",
        "\n",
        "        print(\"Hello my name is \" + self.name)\n",
        "\n",
        "p1 = Person(\"Alan\", 20)# tạo một đối tượng p1 từ lớp Person\n",
        "p1.myfunc()# gọi phương thức myfunc của đối tượng p1\n",
        "print(p1.name)\n",
        "print(p1.age)"
      ]
    },
    {
      "cell_type": "code",
      "execution_count": null,
      "id": "914c549b",
      "metadata": {
        "id": "914c549b"
      },
      "outputs": [],
      "source": [
        "# Python Classes and Obects\n",
        "class Vehicle:\n",
        "    name = \"\" # thuộc tính name\n",
        "    kind = \"car\" # thuộc tính kind\n",
        "    color = \"\" # thuộc tính color\n",
        "    value = 100.00 # thuộc tính value\n",
        "    def description(self): # định nghĩa một phương thức description\n",
        "        desc_str = \"%s is a %s %s worth $%.2f.\" %(self.name, self.color, self.kind, self.value) # định nghĩa một phương thức description\n",
        "        return desc_str # trả về chuỗi desc_str"
      ]
    },
    {
      "cell_type": "code",
      "execution_count": null,
      "id": "a47dd7aa",
      "metadata": {
        "id": "a47dd7aa",
        "outputId": "bd7f871e-5f6f-4cd9-bb46-f24ee5fa3bd6"
      },
      "outputs": [
        {
          "name": "stdout",
          "output_type": "stream",
          "text": [
            "Fer is a red convertibleworth $60000.00.\n",
            "Fer\n",
            "Jump is a blue vanworth $10000.00.\n",
            "Jump\n"
          ]
        }
      ],
      "source": [
        "# Python Classes and Objects\n",
        "# Khởi tạo đối tượng car1 từ lớp Vehicle và gán các thuộc tính\n",
        "car1 = Vehicle()\n",
        "car1.name = \"Fer\"         # thuộc tính name của đối tượng car1\n",
        "car1.color = \"red\"        # thuộc tính color của đối tượng car1\n",
        "car1.kind = \"convertible\" # thuộc tính kind của đối tượng car1\n",
        "car1.value = 60000.00     # thuộc tính value của đối tượng car1\n",
        "\n",
        "# Khởi tạo đối tượng car2 từ lớp Vehicle và gán các thuộc tính\n",
        "car2 = Vehicle()\n",
        "car2.name = \"Jump\" # thuộc tính name của đối tượng car2\n",
        "car2.color = \"blue\" #thuộc tính color của đối tượng car2\n",
        "car2.kind = \"van\" # thuộc tính kind của đối tượng car2\n",
        "car2.value = 10000.00 # thuộc tính value của đối tượng car2\n",
        "\n",
        "# In ra mô tả và tên của từng xe\n",
        "print(car1.description())\n",
        "print(car1.name)\n",
        "print(car2.description())\n",
        "print(car2.name)\n",
        "\n",
        "# Định nghĩa lớp Vehicle\n",
        "class Vehicle:\n",
        "    name = \"\"         # thuộc tính name\n",
        "    kind = \"car\"      # thuộc tính kind\n",
        "    color = \"\"        # thuộc tính color\n",
        "    value = 100.00    # thuộc tính value\n",
        "    def description(self): # định nghĩa một phương thức description\n",
        "        desc_str = \"%s is a %s %s worth $%.2f.\" % (self.name, self.color, self.kind, self.value) # định nghĩa một phương thức description\n",
        "        return desc_str #trả về chuỗi desc_str"
      ]
    },
    {
      "cell_type": "markdown",
      "id": "19cc1646",
      "metadata": {
        "id": "19cc1646"
      },
      "source": [
        "## Python Modules"
      ]
    },
    {
      "cell_type": "code",
      "execution_count": null,
      "id": "3ff0cb34",
      "metadata": {
        "id": "3ff0cb34",
        "outputId": "cb71d6dc-6937-4711-ce29-c8b7af512f67"
      },
      "outputs": [
        {
          "name": "stdout",
          "output_type": "stream",
          "text": [
            "Hello, Alan\n"
          ]
        }
      ],
      "source": [
        "# Python Modules\n",
        "import mymodule  # Import (nạp) module có tên là mymodule (file mymodule.py phải tồn tại cùng thư mục hoặc trong sys.path)\n",
        "\n",
        "mymodule.greeting(\"Alan\")  # Gọi hàm greeting() trong module mymodule với đối số là \"Alan\"\n",
        "\n"
      ]
    },
    {
      "cell_type": "code",
      "execution_count": null,
      "id": "420929b3",
      "metadata": {
        "id": "420929b3",
        "outputId": "cbcff01c-7ee9-4cc4-d258-abb72cb5b4fb"
      },
      "outputs": [
        {
          "name": "stdout",
          "output_type": "stream",
          "text": [
            "Hello World\n",
            "This is Python File Input Output\n"
          ]
        }
      ],
      "source": [
        "# Python File Input / Output\n",
        "with open('myfile.txt', 'w') as file: # Mở (hoặc tạo) file \"myfile.txt\" với chế độ ghi ('w') và dùng \"with\" để tự động đóng file sau khi xong\n",
        "    file.write('Hello World\\nThis is Python File Input Output') # Ghi chuỗi vào file (có xuống dòng sau \"Hello World\")\n",
        "with open('myfile.txt', 'r') as file: # Mở lại file \"myfile.txt\" với chế độ đọc ('r')\n",
        "    text = file.read()   # Đọc toàn bộ nội dung file vào biến text\n",
        "print(text)"
      ]
    },
    {
      "cell_type": "code",
      "execution_count": null,
      "id": "9551dd00",
      "metadata": {
        "id": "9551dd00",
        "outputId": "dff2cae5-16f0-4575-d4c3-cd21be0f2b10"
      },
      "outputs": [
        {
          "name": "stdout",
          "output_type": "stream",
          "text": [
            "mymodule.py\n",
            "def greeting(name):\n",
            "    print(\"Hello, \" + name)\n",
            "    \n"
          ]
        }
      ],
      "source": [
        "# Python File Input / Output\n",
        "filename = 'mymodule.py' # Gán tên file cần thao tác vào biến filename\n",
        "with open(filename, 'w') as file:  # Mở (hoặc tạo mới) file 'mymodule.py' với chế độ ghi ('w')\n",
        "    text = '''def greeting(name):\n",
        "    print(\"Hello, \" + name)\n",
        "    ''' # Chuẩn bị nội dung dạng chuỗi nhiều dòng để ghi vào file\n",
        "    file.write(text)   # Ghi nội dung của biến text vào file\n",
        "\n",
        "with open(filename, 'r') as file:   # Mở lại file với chế độ đọc ('r')\n",
        "\n",
        "    text = file.read() # Đọc toàn bộ nội dung file vào biến text\n",
        "\n",
        "print(filename)\n",
        "print(text)"
      ]
    },
    {
      "cell_type": "code",
      "execution_count": null,
      "id": "08cac31e",
      "metadata": {
        "id": "08cac31e",
        "outputId": "c2d840fe-1631-44c2-9340-0c8ad38398e0"
      },
      "outputs": [
        {
          "name": "stdout",
          "output_type": "stream",
          "text": [
            "Hello World!\n"
          ]
        }
      ],
      "source": [
        "# Python main() function\n",
        "#Python main() function\n",
        "def main(): # Định nghĩa hàm main (hàm chính của chương trình)\n",
        "    print(\"Hello World!\")\n",
        "if __name__ == \"__main__\":  # Đây là điều kiện đặc biệt trong Python:\n",
        "                            # - Nếu file này được chạy trực tiếp (python tenfile.py) thì __name__ = \"__main__\"\n",
        "                            # - Nếu file này được import vào file khác thì __name__ ≠ \"__main__\"\n",
        "    main()  # Gọi hàm main (chạy chương trình)"
      ]
    },
    {
      "cell_type": "markdown",
      "id": "c377e848",
      "metadata": {
        "id": "c377e848"
      },
      "source": [
        "## Files and Exception Handling"
      ]
    },
    {
      "cell_type": "code",
      "execution_count": null,
      "id": "d1876108",
      "metadata": {
        "id": "d1876108",
        "outputId": "c1f7836c-ec1c-426f-9de7-77f155a728ea"
      },
      "outputs": [
        {
          "name": "stdout",
          "output_type": "stream",
          "text": [
            "Hello World\n"
          ]
        }
      ],
      "source": [
        "# Python Files (File Handling)\n",
        "f = open(\"myfile.txt\", \"w\")\n",
        "# Mở (hoặc tạo) file \"myfile.txt\" với chế độ ghi (\"w\")\n",
        "# Nếu file đã tồn tại, nội dung cũ sẽ bị xóa\n",
        "f.write(\"Hello World\")\n",
        "# Ghi chuỗi \"Hello World\" vào file\n",
        "f.close()\n",
        "# Đóng file lại (giải phóng tài nguyên)\n",
        "f = open(\"myfile.txt\", \"r\")\n",
        "# Mở file \"myfile.txt\" với chế độ đọc (\"r\")\n",
        "text = f.read()\n",
        "# Đọc toàn bộ nội dung file và gán vào biến text\n",
        "print(text)\n",
        "f.close()\n",
        "# Đóng file sau khi đọc xong\n"
      ]
    },
    {
      "cell_type": "code",
      "execution_count": null,
      "id": "66f75586",
      "metadata": {
        "id": "66f75586",
        "outputId": "6c7da9e3-bba3-4166-e442-b6a5bb28b2a6"
      },
      "outputs": [
        {
          "name": "stdout",
          "output_type": "stream",
          "text": [
            "Hello World\n"
          ]
        }
      ],
      "source": [
        "# Python File Input / Output\n",
        "with open('myfile.txt', 'w') as file:    # Mở file myfile.txt với chế độ ghi (write)\n",
        "    file.write('Hello World')            # Ghi chuỗi \"Hello World\" vào file\n",
        "with open('myfile.txt', 'r') as file:    # Mở file myfile.txt với chế độ đọc (read)\n",
        "    text = file.read()                   # Đọc toàn bộ nội dung file vào biến text\n",
        "print(text)                              # In nội dung đọc được ra màn hình\n"
      ]
    },
    {
      "cell_type": "code",
      "execution_count": null,
      "id": "dcb6a683",
      "metadata": {
        "id": "dcb6a683",
        "outputId": "fa9fbb96-6f31-4512-f637-8c2a1c1855b6"
      },
      "outputs": [
        {
          "name": "stdout",
          "output_type": "stream",
          "text": [
            "Hello World\n",
            "Python File IO\n"
          ]
        }
      ],
      "source": [
        "# Python File Input / Output\n",
        "with open('myfile.txt', 'w') as file:    # Mở file myfile.txt với chế độ ghi (write)\n",
        "    file.write('Hello World\\nPython File IO')    # Ghi 2 dòng văn bản vào file\n",
        "\n",
        "with open('myfile.txt', 'r') as file:    # Mở file myfile.txt với chế độ đọc (read)\n",
        "    text = file.read()                   # Đọc toàn bộ nội dung file vào biến text\n",
        "\n",
        "print(text)\n"
      ]
    },
    {
      "cell_type": "code",
      "execution_count": 4,
      "id": "9ebad5a7",
      "metadata": {
        "colab": {
          "base_uri": "https://localhost:8080/"
        },
        "id": "9ebad5a7",
        "outputId": "5557b7f7-3b44-4805-db43-c7c9b3bfd1a5"
      },
      "outputs": [
        {
          "name": "stdout",
          "output_type": "stream",
          "text": [
            "\n",
            "New line\n"
          ]
        }
      ],
      "source": [
        "# Python File Input / Output\n",
        "with open('myfile.txt', 'a+') as file:    # Mở file myfile.txt với chế độ ghi nối thêm (append + read)\n",
        "    file.write('\\n' + 'New line')         # Thêm dòng mới \"New line\" vào cuối file\n",
        "\n",
        "with open('myfile.txt', 'r') as file:     # Mở lại file myfile.txt với chế độ đọc\n",
        "    text = file.read()                    # Đọc toàn bộ nội dung file vào biến text\n",
        "\n",
        "print(text)    # In nội dung file ra màn hình\n"
      ]
    },
    {
      "cell_type": "code",
      "execution_count": null,
      "id": "5eb96178",
      "metadata": {
        "id": "5eb96178",
        "outputId": "3072364e-b694-4e56-fc6c-3c9bf1a68988"
      },
      "outputs": [
        {
          "name": "stdout",
          "output_type": "stream",
          "text": [
            " Volume in drive D is DATA\n",
            " Volume Serial Number is FE8E-63BE\n",
            "\n",
            " Directory of d:\\PTDL\\sgu25_data_analytics\\exerciese\\DAO2\n",
            "\n",
            "09/17/2025  07:35 PM    <DIR>          .\n",
            "09/16/2025  07:28 PM    <DIR>          ..\n",
            "09/16/2025  07:32 PM    <DIR>          .ipynb_checkpoints\n",
            "09/16/2025  08:21 PM            28,645 03_exercise_01.ipynb\n",
            "09/16/2025  08:57 PM           120,578 04_exercise_02.ipynb\n",
            "09/16/2025  08:38 PM             7,603 4a.png\n",
            "09/16/2025  08:42 PM            18,206 4b.png\n",
            "09/17/2025  07:52 PM            35,598 Buoi02_Python101.ipynb\n",
            "09/17/2025  07:50 PM                37 myfile.txt\n",
            "09/17/2025  07:45 PM                54 mymodule.py\n",
            "09/16/2025  08:56 PM            27,494 pi.png\n",
            "09/17/2025  07:33 PM    <DIR>          __pycache__\n",
            "               8 File(s)        238,215 bytes\n",
            "               4 Dir(s)  144,107,114,496 bytes free\n"
          ]
        }
      ],
      "source": [
        "#Python Files\n",
        "# !ls list files\n",
        "!dir"
      ]
    },
    {
      "cell_type": "code",
      "execution_count": null,
      "id": "ba31f5c7",
      "metadata": {
        "id": "ba31f5c7",
        "outputId": "f2d73cdf-d5a1-472b-a726-4bf780e4110c"
      },
      "outputs": [
        {
          "name": "stdout",
          "output_type": "stream",
          "text": [
            "d:\\PTDL\\sgu25_data_analytics\\exerciese\\DAO2\n"
          ]
        }
      ],
      "source": [
        "# Python OS, IO, files, and Google Drive\n",
        "import os                         # Import module os để làm việc với hệ điều hành\n",
        "\n",
        "cwd = os.getcwd()                 # Lấy đường dẫn thư mục hiện tại (current working directory)\n",
        "print(cwd)\n"
      ]
    },
    {
      "cell_type": "code",
      "execution_count": null,
      "id": "d4da0b96",
      "metadata": {
        "id": "d4da0b96",
        "outputId": "f682cec1-c8e7-443b-e419-5c29287566a9"
      },
      "outputs": [
        {
          "data": {
            "text/plain": [
              "['.ipynb_checkpoints',\n",
              " '03_exercise_01.ipynb',\n",
              " '04_exercise_02.ipynb',\n",
              " '4a.png',\n",
              " '4b.png',\n",
              " 'Buoi02_Python101.ipynb',\n",
              " 'myfile.txt',\n",
              " 'mymodule.py',\n",
              " 'pi.png',\n",
              " '__pycache__']"
            ]
          },
          "execution_count": 131,
          "metadata": {},
          "output_type": "execute_result"
        }
      ],
      "source": [
        "# os.listdir()\n",
        "os.listdir(cwd)  # Liệt kê tất cả file/thư mục trong cwd"
      ]
    },
    {
      "cell_type": "code",
      "execution_count": null,
      "id": "cd76508b",
      "metadata": {
        "id": "cd76508b",
        "outputId": "df3ca962-ff8e-47ad-df10-532fb7d219a5"
      },
      "outputs": [
        {
          "name": "stdout",
          "output_type": "stream",
          "text": [
            "Không tìm thấy thư mục: d:\\PTDL\\sgu25_data_analytics\\exerciese\\DAO2\\sample_data\n"
          ]
        }
      ],
      "source": [
        "# os.path.join()\n",
        "import os                                # Import module os\n",
        "\n",
        "cwd = os.getcwd()                        # Lấy thư mục hiện tại\n",
        "path = os.path.join(cwd, 'sample_data')  # Ghép đường dẫn cwd với 'sample_data'\n",
        "if os.path.exists(path):                      # Kiểm tra folder có tồn tại\n",
        "    print(path)                              # In ra đường dẫn đầy đủ tới thư mục sample_data\n",
        "    print(os.listdir(path))               # Liệt kê các file/thư mục trong sample_data\n",
        "else:\n",
        "    print(\"Không tìm thấy thư mục:\", path)"
      ]
    },
    {
      "cell_type": "code",
      "execution_count": 1,
      "id": "0029d033",
      "metadata": {
        "colab": {
          "base_uri": "https://localhost:8080/",
          "height": 34
        },
        "id": "0029d033",
        "outputId": "a4c442af-9e0a-443e-cffb-472df6b48219"
      },
      "outputs": [
        {
          "data": {
            "application/javascript": "\n    async function download(id, filename, size) {\n      if (!google.colab.kernel.accessAllowed) {\n        return;\n      }\n      const div = document.createElement('div');\n      const label = document.createElement('label');\n      label.textContent = `Downloading \"${filename}\": `;\n      div.appendChild(label);\n      const progress = document.createElement('progress');\n      progress.max = size;\n      div.appendChild(progress);\n      document.body.appendChild(div);\n\n      const buffers = [];\n      let downloaded = 0;\n\n      const channel = await google.colab.kernel.comms.open(id);\n      // Send a message to notify the kernel that we're ready.\n      channel.send({})\n\n      for await (const message of channel.messages) {\n        // Send a message to notify the kernel that we're ready.\n        channel.send({})\n        if (message.buffers) {\n          for (const buffer of message.buffers) {\n            buffers.push(buffer);\n            downloaded += buffer.byteLength;\n            progress.value = downloaded;\n          }\n        }\n      }\n      const blob = new Blob(buffers, {type: 'application/binary'});\n      const a = document.createElement('a');\n      a.href = window.URL.createObjectURL(blob);\n      a.download = filename;\n      div.appendChild(a);\n      a.click();\n      div.remove();\n    }\n  ",
            "text/plain": [
              "<IPython.core.display.Javascript object>"
            ]
          },
          "metadata": {},
          "output_type": "display_data"
        },
        {
          "data": {
            "application/javascript": "download(\"download_e0302dd4-b4be-4898-b750-6af8f2ab2709\", \"io_file_myday.txt\", 47)",
            "text/plain": [
              "<IPython.core.display.Javascript object>"
            ]
          },
          "metadata": {},
          "output_type": "display_data"
        },
        {
          "name": "stdout",
          "output_type": "stream",
          "text": [
            "downloaded\n"
          ]
        }
      ],
      "source": [
        "# from google.colab import files\n",
        "from google.colab import files                       # import thư viện files của Colab\n",
        "\n",
        "with open('io_file_myday.txt', 'w') as f:            # mở/tạo file io_file_myday.txt với chế độ ghi\n",
        "    f.write('Google Colab File Write Text some content Myday')   # ghi nội dung vào file\n",
        "\n",
        "import time                                          # import thư viện time\n",
        "time.sleep(1)                                        # tạm dừng 1 giây\n",
        "\n",
        "files.download('io_file_myday.txt')                  # tải file io_file_myday.txt về máy\n",
        "print('downloaded')                                  # in thông báo đã tải xong\n"
      ]
    },
    {
      "cell_type": "code",
      "execution_count": 2,
      "id": "GiDJKX9Exncl",
      "metadata": {
        "colab": {
          "base_uri": "https://localhost:8080/",
          "height": 90
        },
        "id": "GiDJKX9Exncl",
        "outputId": "509d33ea-9b9c-448a-8e79-249d681cccde"
      },
      "outputs": [
        {
          "data": {
            "text/html": [
              "\n",
              "     <input type=\"file\" id=\"files-4ada4095-c04d-4722-a9be-f12756fd84dc\" name=\"files[]\" multiple disabled\n",
              "        style=\"border:none\" />\n",
              "     <output id=\"result-4ada4095-c04d-4722-a9be-f12756fd84dc\">\n",
              "      Upload widget is only available when the cell has been executed in the\n",
              "      current browser session. Please rerun this cell to enable.\n",
              "      </output>\n",
              "      <script>// Copyright 2017 Google LLC\n",
              "//\n",
              "// Licensed under the Apache License, Version 2.0 (the \"License\");\n",
              "// you may not use this file except in compliance with the License.\n",
              "// You may obtain a copy of the License at\n",
              "//\n",
              "//      http://www.apache.org/licenses/LICENSE-2.0\n",
              "//\n",
              "// Unless required by applicable law or agreed to in writing, software\n",
              "// distributed under the License is distributed on an \"AS IS\" BASIS,\n",
              "// WITHOUT WARRANTIES OR CONDITIONS OF ANY KIND, either express or implied.\n",
              "// See the License for the specific language governing permissions and\n",
              "// limitations under the License.\n",
              "\n",
              "/**\n",
              " * @fileoverview Helpers for google.colab Python module.\n",
              " */\n",
              "(function(scope) {\n",
              "function span(text, styleAttributes = {}) {\n",
              "  const element = document.createElement('span');\n",
              "  element.textContent = text;\n",
              "  for (const key of Object.keys(styleAttributes)) {\n",
              "    element.style[key] = styleAttributes[key];\n",
              "  }\n",
              "  return element;\n",
              "}\n",
              "\n",
              "// Max number of bytes which will be uploaded at a time.\n",
              "const MAX_PAYLOAD_SIZE = 100 * 1024;\n",
              "\n",
              "function _uploadFiles(inputId, outputId) {\n",
              "  const steps = uploadFilesStep(inputId, outputId);\n",
              "  const outputElement = document.getElementById(outputId);\n",
              "  // Cache steps on the outputElement to make it available for the next call\n",
              "  // to uploadFilesContinue from Python.\n",
              "  outputElement.steps = steps;\n",
              "\n",
              "  return _uploadFilesContinue(outputId);\n",
              "}\n",
              "\n",
              "// This is roughly an async generator (not supported in the browser yet),\n",
              "// where there are multiple asynchronous steps and the Python side is going\n",
              "// to poll for completion of each step.\n",
              "// This uses a Promise to block the python side on completion of each step,\n",
              "// then passes the result of the previous step as the input to the next step.\n",
              "function _uploadFilesContinue(outputId) {\n",
              "  const outputElement = document.getElementById(outputId);\n",
              "  const steps = outputElement.steps;\n",
              "\n",
              "  const next = steps.next(outputElement.lastPromiseValue);\n",
              "  return Promise.resolve(next.value.promise).then((value) => {\n",
              "    // Cache the last promise value to make it available to the next\n",
              "    // step of the generator.\n",
              "    outputElement.lastPromiseValue = value;\n",
              "    return next.value.response;\n",
              "  });\n",
              "}\n",
              "\n",
              "/**\n",
              " * Generator function which is called between each async step of the upload\n",
              " * process.\n",
              " * @param {string} inputId Element ID of the input file picker element.\n",
              " * @param {string} outputId Element ID of the output display.\n",
              " * @return {!Iterable<!Object>} Iterable of next steps.\n",
              " */\n",
              "function* uploadFilesStep(inputId, outputId) {\n",
              "  const inputElement = document.getElementById(inputId);\n",
              "  inputElement.disabled = false;\n",
              "\n",
              "  const outputElement = document.getElementById(outputId);\n",
              "  outputElement.innerHTML = '';\n",
              "\n",
              "  const pickedPromise = new Promise((resolve) => {\n",
              "    inputElement.addEventListener('change', (e) => {\n",
              "      resolve(e.target.files);\n",
              "    });\n",
              "  });\n",
              "\n",
              "  const cancel = document.createElement('button');\n",
              "  inputElement.parentElement.appendChild(cancel);\n",
              "  cancel.textContent = 'Cancel upload';\n",
              "  const cancelPromise = new Promise((resolve) => {\n",
              "    cancel.onclick = () => {\n",
              "      resolve(null);\n",
              "    };\n",
              "  });\n",
              "\n",
              "  // Wait for the user to pick the files.\n",
              "  const files = yield {\n",
              "    promise: Promise.race([pickedPromise, cancelPromise]),\n",
              "    response: {\n",
              "      action: 'starting',\n",
              "    }\n",
              "  };\n",
              "\n",
              "  cancel.remove();\n",
              "\n",
              "  // Disable the input element since further picks are not allowed.\n",
              "  inputElement.disabled = true;\n",
              "\n",
              "  if (!files) {\n",
              "    return {\n",
              "      response: {\n",
              "        action: 'complete',\n",
              "      }\n",
              "    };\n",
              "  }\n",
              "\n",
              "  for (const file of files) {\n",
              "    const li = document.createElement('li');\n",
              "    li.append(span(file.name, {fontWeight: 'bold'}));\n",
              "    li.append(span(\n",
              "        `(${file.type || 'n/a'}) - ${file.size} bytes, ` +\n",
              "        `last modified: ${\n",
              "            file.lastModifiedDate ? file.lastModifiedDate.toLocaleDateString() :\n",
              "                                    'n/a'} - `));\n",
              "    const percent = span('0% done');\n",
              "    li.appendChild(percent);\n",
              "\n",
              "    outputElement.appendChild(li);\n",
              "\n",
              "    const fileDataPromise = new Promise((resolve) => {\n",
              "      const reader = new FileReader();\n",
              "      reader.onload = (e) => {\n",
              "        resolve(e.target.result);\n",
              "      };\n",
              "      reader.readAsArrayBuffer(file);\n",
              "    });\n",
              "    // Wait for the data to be ready.\n",
              "    let fileData = yield {\n",
              "      promise: fileDataPromise,\n",
              "      response: {\n",
              "        action: 'continue',\n",
              "      }\n",
              "    };\n",
              "\n",
              "    // Use a chunked sending to avoid message size limits. See b/62115660.\n",
              "    let position = 0;\n",
              "    do {\n",
              "      const length = Math.min(fileData.byteLength - position, MAX_PAYLOAD_SIZE);\n",
              "      const chunk = new Uint8Array(fileData, position, length);\n",
              "      position += length;\n",
              "\n",
              "      const base64 = btoa(String.fromCharCode.apply(null, chunk));\n",
              "      yield {\n",
              "        response: {\n",
              "          action: 'append',\n",
              "          file: file.name,\n",
              "          data: base64,\n",
              "        },\n",
              "      };\n",
              "\n",
              "      let percentDone = fileData.byteLength === 0 ?\n",
              "          100 :\n",
              "          Math.round((position / fileData.byteLength) * 100);\n",
              "      percent.textContent = `${percentDone}% done`;\n",
              "\n",
              "    } while (position < fileData.byteLength);\n",
              "  }\n",
              "\n",
              "  // All done.\n",
              "  yield {\n",
              "    response: {\n",
              "      action: 'complete',\n",
              "    }\n",
              "  };\n",
              "}\n",
              "\n",
              "scope.google = scope.google || {};\n",
              "scope.google.colab = scope.google.colab || {};\n",
              "scope.google.colab._files = {\n",
              "  _uploadFiles,\n",
              "  _uploadFilesContinue,\n",
              "};\n",
              "})(self);\n",
              "</script> "
            ],
            "text/plain": [
              "<IPython.core.display.HTML object>"
            ]
          },
          "metadata": {},
          "output_type": "display_data"
        },
        {
          "name": "stdout",
          "output_type": "stream",
          "text": [
            "Saving 4b.png to 4b.png\n",
            "User uploaded file \"4b.png\" with length 18206 bytes\n"
          ]
        }
      ],
      "source": [
        "# Python Files\n",
        "from google.colab import files                                    # import module files của Colab\n",
        "uploaded = files.upload()                                         # mở cửa sổ chọn file để upload\n",
        "\n",
        "for fn in uploaded.keys():                                        # lặp qua từng file được upload\n",
        "    print('User uploaded file \"{name}\" with length {length} bytes'.format(\n",
        "        name=fn, length=len(uploaded[fn]) ))                      # in tên file và dung lượng\n"
      ]
    },
    {
      "cell_type": "code",
      "execution_count": 5,
      "id": "cxeVAWVCx6FB",
      "metadata": {
        "colab": {
          "base_uri": "https://localhost:8080/"
        },
        "id": "cxeVAWVCx6FB",
        "outputId": "d9c83621-5478-4a8d-dd21-6bb47330ee5a"
      },
      "outputs": [
        {
          "name": "stdout",
          "output_type": "stream",
          "text": [
            "myfile.txt removed\n"
          ]
        }
      ],
      "source": [
        "# os.remove()\n",
        "import os                                # import module os để làm việc với file\n",
        "\n",
        "if os.path.exists(\"myfile.txt\"):         # kiểm tra nếu file myfile.txt tồn tại\n",
        "    os.remove(\"myfile.txt\")              # xóa file myfile.txt\n",
        "    print(\"myfile.txt removed\")          # in thông báo đã xóa\n",
        "else:\n",
        "    print(\"The file does not exist\")     # in thông báo nếu file không tồn tại\n"
      ]
    },
    {
      "cell_type": "code",
      "execution_count": 6,
      "id": "pg-2kJI3yNSp",
      "metadata": {
        "colab": {
          "base_uri": "https://localhost:8080/"
        },
        "id": "pg-2kJI3yNSp",
        "outputId": "d7b9a4fc-7bc0-4908-81ee-83a4d1dc5ad7"
      },
      "outputs": [
        {
          "data": {
            "text/plain": [
              "['.config', 'io_file_myday.txt', '4b.png', 'sample_data']"
            ]
          },
          "execution_count": 6,
          "metadata": {},
          "output_type": "execute_result"
        }
      ],
      "source": [
        "#os.mkdir(\"myfolder1\")\n",
        "#os.rmdir(\"myfolder1\")\n",
        "import os                  # import module os để làm việc với hệ thống file\n",
        "\n",
        "os.listdir()               # liệt kê file/thư mục trong thư mục hiện tại\n",
        "\n",
        "os.mkdir(\"myfolder1\")      # tạo thư mục mới tên là myfolder1\n",
        "\n",
        "os.listdir()               # liệt kê lại để thấy myfolder1 vừa được tạo\n",
        "\n",
        "os.rmdir(\"myfolder1\")      # xóa thư mục myfolder1 (chỉ xóa được nếu thư mục rỗng)\n",
        "\n",
        "os.listdir()               # liệt kê lần nữa để thấy myfolder1 đã bị xóa\n"
      ]
    },
    {
      "cell_type": "code",
      "execution_count": 7,
      "id": "qfrMzMx7yZIh",
      "metadata": {
        "colab": {
          "base_uri": "https://localhost:8080/"
        },
        "id": "qfrMzMx7yZIh",
        "outputId": "b73bfb9a-b55a-4d04-b6ce-f87759825323"
      },
      "outputs": [
        {
          "name": "stdout",
          "output_type": "stream",
          "text": [
            "Exception Error\n"
          ]
        }
      ],
      "source": [
        "# Python Try Except (Exception Handling)\n",
        "#Python try except\n",
        "try:                               # khối try: chạy đoạn code có thể gây lỗi\n",
        "    print(x)                        # biến x chưa được định nghĩa → sẽ gây lỗi\n",
        "\n",
        "except:                            # nếu có lỗi xảy ra thì chạy khối except\n",
        "    print(\"Exception Error\")        # in ra thông báo lỗi\n"
      ]
    },
    {
      "cell_type": "code",
      "execution_count": 8,
      "id": "Cvijy0QyykGP",
      "metadata": {
        "colab": {
          "base_uri": "https://localhost:8080/"
        },
        "id": "Cvijy0QyykGP",
        "outputId": "d8c9fe86-674c-4531-f745-8500d3de68b8"
      },
      "outputs": [
        {
          "name": "stdout",
          "output_type": "stream",
          "text": [
            "Hello\n",
            "Finally process\n"
          ]
        }
      ],
      "source": [
        "# Python try: except: finally:\n",
        "try:                                   # khối try: chạy code có thể lỗi\n",
        "    print(\"Hello\")                     # lệnh này chạy bình thường, in ra \"Hello\"\n",
        "\n",
        "except:                                # khối except: chỉ chạy nếu có lỗi\n",
        "    print(\"Exception Error\")           # không chạy vì try không có lỗi\n",
        "\n",
        "finally:                               # khối finally: luôn luôn chạy dù có lỗi hay không\n",
        "    print(\"Finally process\")           # in ra \"Finally process\"\n",
        "\n"
      ]
    },
    {
      "cell_type": "code",
      "execution_count": 9,
      "id": "AnHzA1YcyuD_",
      "metadata": {
        "colab": {
          "base_uri": "https://localhost:8080/"
        },
        "id": "AnHzA1YcyuD_",
        "outputId": "40ef1652-a238-40bf-f175-c4d0db694267"
      },
      "outputs": [
        {
          "name": "stdout",
          "output_type": "stream",
          "text": [
            "Hello\n",
            "No exception\n"
          ]
        }
      ],
      "source": [
        "# Python try except else\n",
        "try:                               # khối try: chạy code có thể gây lỗi\n",
        "    print(\"Hello\")                  # lệnh này chạy ok, in ra \"Hello\"\n",
        "\n",
        "except:                            # chạy nếu có lỗi trong khối try\n",
        "    print(\"Exception Error\")        # không chạy vì không có lỗi\n",
        "\n",
        "else:                              # chạy nếu KHÔNG có lỗi trong khối try\n",
        "    print(\"No exception\")           # in ra \"No exception\"\n"
      ]
    },
    {
      "cell_type": "code",
      "execution_count": 10,
      "id": "KJrRrnJJy3kt",
      "metadata": {
        "colab": {
          "base_uri": "https://localhost:8080/"
        },
        "id": "KJrRrnJJy3kt",
        "outputId": "bcca1f15-5cbe-4738-e7ff-07a923b0f247"
      },
      "outputs": [
        {
          "name": "stdout",
          "output_type": "stream",
          "text": [
            "Hello\n",
            "No exception\n",
            "Finally process\n"
          ]
        }
      ],
      "source": [
        "# Python try: except: else: finally:\n",
        "try:                                   # khối try: chạy code có thể gây lỗi\n",
        "    print(\"Hello\")                     # in ra \"Hello\"\n",
        "\n",
        "except:                                # chạy nếu có lỗi trong khối try\n",
        "    print(\"Exception Error\")           # không chạy vì không có lỗi\n",
        "\n",
        "else:                                  # chạy nếu KHÔNG có lỗi trong khối try\n",
        "    print(\"No exception\")               # in ra \"No exception\"\n",
        "\n",
        "finally:                               # luôn luôn chạy dù có lỗi hay không\n",
        "    print(\"Finally process\")            # in ra \"Finally process\"\n"
      ]
    },
    {
      "cell_type": "code",
      "execution_count": 11,
      "id": "Gf-4CrukzBDZ",
      "metadata": {
        "colab": {
          "base_uri": "https://localhost:8080/"
        },
        "id": "Gf-4CrukzBDZ",
        "outputId": "bcafbd6f-e68c-4a83-a9d1-b7dabfd3eb26"
      },
      "outputs": [
        {
          "name": "stdout",
          "output_type": "stream",
          "text": [
            "Enter the price of the stock (e.g. 10): 10\n",
            "Enter the number of shares (e.g. 2): 2\n",
            "The total value of the shares is: 20.0\n",
            "Thank you.\n"
          ]
        }
      ],
      "source": [
        "# Python try: except: else: finally:\n",
        "try:                                                        # khối try: chạy code có thể gây lỗi\n",
        "    price = float(input(\"Enter the price of the stock (e.g. 10): \"))   # nhập giá cổ phiếu, chuyển sang float\n",
        "    shares = int(input(\"Enter the number of shares (e.g. 2): \"))       # nhập số lượng cổ phiếu, chuyển sang int\n",
        "    total = price * shares                                             # tính tổng giá trị cổ phiếu\n",
        "\n",
        "except Exception as e:                                     # bắt mọi lỗi (Exception) nếu có trong try\n",
        "    print(\"Exception error:\", str(e))                      # in ra thông báo lỗi\n",
        "\n",
        "else:                                                      # chạy nếu không có lỗi trong try\n",
        "    print(\"The total value of the shares is:\", total)      # in ra tổng giá trị cổ phiếu\n",
        "\n",
        "finally:                                                   # luôn chạy dù có lỗi hay không\n",
        "    print(\"Thank you.\")                                    # in ra lời cảm ơn\n"
      ]
    },
    {
      "cell_type": "code",
      "execution_count": 12,
      "id": "zhRp2NlozI9Z",
      "metadata": {
        "colab": {
          "base_uri": "https://localhost:8080/"
        },
        "id": "zhRp2NlozI9Z",
        "outputId": "58d454fb-82a9-4550-e8b8-df116408d42e"
      },
      "outputs": [
        {
          "name": "stdout",
          "output_type": "stream",
          "text": [
            "file saved\n"
          ]
        }
      ],
      "source": [
        "# Python try: except: else: finally:\n",
        "try:                                               # thử chạy code có thể gây lỗi\n",
        "    file = open(\"myfile.txt\", \"w\")                 # mở (hoặc tạo) file ở chế độ ghi ('w')\n",
        "    file.write(\"Python write file\")                # ghi nội dung vào file\n",
        "    file.close()                                   # đóng file\n",
        "    print(\"file saved\")                            # in thông báo thành công\n",
        "\n",
        "except:                                            # nếu có lỗi xảy ra\n",
        "    print(\"Exception file Error\")                  # in thông báo lỗi\n"
      ]
    },
    {
      "cell_type": "code",
      "execution_count": 13,
      "id": "JeT1GB5uzVsK",
      "metadata": {
        "colab": {
          "base_uri": "https://localhost:8080/"
        },
        "id": "JeT1GB5uzVsK",
        "outputId": "031bde19-441c-4808-bb2e-65332ca55a76"
      },
      "outputs": [
        {
          "name": "stdout",
          "output_type": "stream",
          "text": [
            "Exception file Error\n",
            "Finally process\n"
          ]
        }
      ],
      "source": [
        "# Python try: except: else: finally:\n",
        "try:                                         # thử chạy đoạn code có thể gây lỗi\n",
        "    file = open(\"myfile.txt\")                # mở file (mặc định 'r' - chỉ đọc)\n",
        "    file.write(\"Python write file\")          # cố gắng ghi vào file (sẽ lỗi vì file chỉ đọc)\n",
        "    print(\"file saved\")                      # in thông báo khi ghi thành công\n",
        "\n",
        "except:                                      # nếu có lỗi xảy ra ở khối try\n",
        "    print(\"Exception file Error\")            # in thông báo lỗi\n",
        "\n",
        "finally:                                     # luôn luôn chạy dù có lỗi hay không\n",
        "    file.close()                             # đóng file (nhưng có nguy cơ lỗi nếu file chưa mở)\n",
        "    print(\"Finally process\")                 # in thông báo kết thúc\n"
      ]
    },
    {
      "cell_type": "code",
      "execution_count": 14,
      "id": "3ARMIWkKzjHR",
      "metadata": {
        "colab": {
          "base_uri": "https://localhost:8080/"
        },
        "id": "3ARMIWkKzjHR",
        "outputId": "9aed2dc1-890f-4db5-a281-3886f11228eb"
      },
      "outputs": [
        {
          "name": "stdout",
          "output_type": "stream",
          "text": [
            "file saved\n",
            "Finally process\n"
          ]
        }
      ],
      "source": [
        "# Python try: except: else: finally:\n",
        "try:                                                # thử chạy code\n",
        "    file = open(\"myfile.txt\", 'w')                  # mở (hoặc tạo) file với chế độ ghi ('w')\n",
        "    file.write(\"Python write file\")                 # ghi nội dung vào file\n",
        "    print(\"file saved\")                             # in thông báo khi ghi thành công\n",
        "\n",
        "except:                                             # nếu có lỗi xảy ra\n",
        "    print(\"Exception file Error\")                   # in thông báo lỗi\n",
        "\n",
        "finally:                                            # luôn luôn chạy dù có lỗi hay không\n",
        "    file.close()                                    # đóng file\n",
        "    print(\"Finally process\")                        # in thông báo kết thúc\n"
      ]
    },
    {
      "cell_type": "markdown",
      "id": "AygBp8iU0yo7",
      "metadata": {
        "id": "AygBp8iU0yo7"
      },
      "source": [
        "# Data Analytics and Visualization with Python"
      ]
    },
    {
      "cell_type": "markdown",
      "id": "HggvkZCM1uNR",
      "metadata": {
        "id": "HggvkZCM1uNR"
      },
      "source": [
        "## Numpy\n"
      ]
    },
    {
      "cell_type": "code",
      "execution_count": 15,
      "id": "g_HOJvs81wjY",
      "metadata": {
        "colab": {
          "base_uri": "https://localhost:8080/"
        },
        "id": "g_HOJvs81wjY",
        "outputId": "5fd89905-1c4f-456b-8243-c4f59ad4cddb"
      },
      "outputs": [
        {
          "data": {
            "text/plain": [
              "array([ 2,  4,  6,  8, 10])"
            ]
          },
          "execution_count": 15,
          "metadata": {},
          "output_type": "execute_result"
        }
      ],
      "source": [
        "# NumPy\n",
        "v = list(range(1, 6))        # tạo list [1, 2, 3, 4, 5] bằng range\n",
        "v                            # in list ra (trong Jupyter sẽ hiện kết quả)\n",
        "\n",
        "2 * v                        # nhân list với 2 → lặp lại list: [1,2,3,4,5,1,2,3,4,5]\n",
        "\n",
        "import numpy as np           # import thư viện numpy\n",
        "\n",
        "v = np.arange(1, 6)          # tạo mảng numpy [1 2 3 4 5]\n",
        "\n",
        "v                            # in mảng numpy ra\n",
        "\n",
        "2 * v                        # nhân mảng với 2 → tính toán từng phần tử: [2 4 6 8 10]\n"
      ]
    },
    {
      "cell_type": "code",
      "execution_count": 16,
      "id": "5kb2IJzB195Y",
      "metadata": {
        "colab": {
          "base_uri": "https://localhost:8080/"
        },
        "id": "5kb2IJzB195Y",
        "outputId": "9b101284-7d39-4b1b-ae5d-0acbdff3e9b4"
      },
      "outputs": [
        {
          "name": "stdout",
          "output_type": "stream",
          "text": [
            "['apple', 'banana', 'cherry']\n",
            "('red', 'green', 'blue')\n",
            "{'dog', 'cat'}\n",
            "{'name': 'Tom', 'age': 20}\n"
          ]
        }
      ],
      "source": [
        "# Python Data Structures\n",
        "fruits = [\"apple\", \"banana\", \"cherry\"]   # list []\n",
        "print(fruits)\n",
        "\n",
        "colors = (\"red\", \"green\", \"blue\")        # tuple ()\n",
        "print(colors)\n",
        "\n",
        "animals = {'cat', 'dog'}                 # set {}\n",
        "print(animals)\n",
        "\n",
        "person = {\"name\": \"Tom\", \"age\": 20}      # dictionary {key: value}\n",
        "print(person)\n"
      ]
    },
    {
      "cell_type": "code",
      "execution_count": 17,
      "id": "3ewxnDjx2Jqu",
      "metadata": {
        "colab": {
          "base_uri": "https://localhost:8080/"
        },
        "id": "3ewxnDjx2Jqu",
        "outputId": "b934fb91-6a97-4d95-abe3-90d0f306cf7d"
      },
      "outputs": [
        {
          "name": "stdout",
          "output_type": "stream",
          "text": [
            "4\n",
            "60\n",
            "70\n",
            "90\n"
          ]
        }
      ],
      "source": [
        "# Lists []\n",
        "x = [60, 70, 80, 90]      # tạo list gồm 4 phần tử\n",
        "\n",
        "print(len(x))             # in độ dài list (4)\n",
        "\n",
        "print(x[0])               # in phần tử đầu tiên (60)\n",
        "\n",
        "print(x[1])               # in phần tử thứ hai (70)\n",
        "\n",
        "print(x[-1])              # in phần tử cuối cùng (90)\n"
      ]
    },
    {
      "cell_type": "code",
      "execution_count": 18,
      "id": "kzXYFVD02TD4",
      "metadata": {
        "colab": {
          "base_uri": "https://localhost:8080/"
        },
        "id": "kzXYFVD02TD4",
        "outputId": "53b3ec15-410c-4dbb-e9f0-c622292658fd"
      },
      "outputs": [
        {
          "data": {
            "text/plain": [
              "array([ 4, 10, 18])"
            ]
          },
          "execution_count": 18,
          "metadata": {},
          "output_type": "execute_result"
        }
      ],
      "source": [
        "# NumPy Create Array\n",
        "import numpy as np                # import thư viện numpy\n",
        "\n",
        "a = np.array([1, 2, 3])           # tạo mảng numpy a = [1 2 3]\n",
        "\n",
        "b = np.array([4, 5, 6])           # tạo mảng numpy b = [4 5 6]\n",
        "\n",
        "c = a * b                         # nhân từng phần tử (element-wise): [1*4, 2*5, 3*6]\n",
        "\n",
        "c                                 # hiển thị kết quả mảng c\n"
      ]
    },
    {
      "cell_type": "markdown",
      "id": "GepV8vIy25QI",
      "metadata": {
        "id": "GepV8vIy25QI"
      },
      "source": [
        "## NumPy ndarray:Multidimensional Array Object\n"
      ]
    },
    {
      "cell_type": "code",
      "execution_count": 19,
      "id": "2oIgTZaN3Bj0",
      "metadata": {
        "id": "2oIgTZaN3Bj0"
      },
      "outputs": [],
      "source": [
        "# NumPy ndarray\n",
        "import numpy as np                 # import thư viện numpy\n",
        "\n",
        "a = np.array([1, 2, 3, 4, 5])      # tạo mảng numpy a = [1 2 3 4 5]\n"
      ]
    },
    {
      "cell_type": "code",
      "execution_count": 20,
      "id": "i6IG3ECN3bZR",
      "metadata": {
        "id": "i6IG3ECN3bZR"
      },
      "outputs": [],
      "source": [
        "a = np.array([[1,2,3,4,5],[6,7,8,9,10],[11,12,13,14,15],[16,17,18,19,20]]) # tạo mảng numpy 2 chiều (ma trận 4x5)"
      ]
    },
    {
      "cell_type": "code",
      "execution_count": 21,
      "id": "WAmiq1cH3jrE",
      "metadata": {
        "colab": {
          "base_uri": "https://localhost:8080/"
        },
        "id": "WAmiq1cH3jrE",
        "outputId": "24046a93-217e-46a0-b088-7de5fe778ff5"
      },
      "outputs": [
        {
          "data": {
            "text/plain": [
              "array([[ 0,  1,  2,  3],\n",
              "       [10, 11, 12, 13],\n",
              "       [20, 21, 22, 23]])"
            ]
          },
          "execution_count": 21,
          "metadata": {},
          "output_type": "execute_result"
        }
      ],
      "source": [
        "import numpy as np                           # import thư viện numpy\n",
        "\n",
        "a = np.array([                               # tạo mảng numpy 2D (ma trận 3x4)\n",
        "    [0,  1,  2,  3],                         # hàng 1\n",
        "    [10, 11, 12, 13],                        # hàng 2\n",
        "    [20, 21, 22, 23]                         # hàng 3\n",
        "])\n",
        "\n",
        "a                                              # hiển thị ma trận\n"
      ]
    },
    {
      "cell_type": "code",
      "execution_count": 22,
      "id": "y8ldG3er35m4",
      "metadata": {
        "id": "y8ldG3er35m4"
      },
      "outputs": [],
      "source": [
        "a = np.array([[0, 1, 2, 3], [10, 11, 12, 13], [20, 21, 22, 23]])  # tạo mảng numpy 2 chiều (ma trận 3x4)"
      ]
    },
    {
      "cell_type": "markdown",
      "id": "gZjPKV5-4E1I",
      "metadata": {
        "id": "gZjPKV5-4E1I"
      },
      "source": [
        "## pandas"
      ]
    },
    {
      "cell_type": "code",
      "execution_count": 23,
      "id": "Ya82xT2Q4I6z",
      "metadata": {
        "id": "Ya82xT2Q4I6z"
      },
      "outputs": [],
      "source": [
        "# Creating pd.DataFrame\n",
        "import pandas as pd                                # import thư viện pandas\n",
        "\n",
        "df = pd.DataFrame({                                # tạo DataFrame từ dictionary\n",
        "    \"a\": [4, 5, 6],                                # cột 'a'\n",
        "    \"b\": [7, 8, 9],                                # cột 'b'\n",
        "    \"c\": [10, 11, 12]                              # cột 'c'\n",
        "}, index=[1, 2, 3])                                # đặt chỉ mục (index) là 1, 2, 3\n"
      ]
    },
    {
      "cell_type": "code",
      "execution_count": 24,
      "id": "ZF38LfSb4tGN",
      "metadata": {
        "colab": {
          "base_uri": "https://localhost:8080/",
          "height": 203
        },
        "id": "ZF38LfSb4tGN",
        "outputId": "568fcd1b-cfac-4c9f-d74f-04185bf970f9"
      },
      "outputs": [
        {
          "data": {
            "text/html": [
              "<div style=\"max-width:800px; border: 1px solid var(--colab-border-color);\"><style>\n",
              "      pre.function-repr-contents {\n",
              "        overflow-x: auto;\n",
              "        padding: 8px 12px;\n",
              "        max-height: 500px;\n",
              "      }\n",
              "\n",
              "      pre.function-repr-contents.function-repr-contents-collapsed {\n",
              "        cursor: pointer;\n",
              "        max-height: 100px;\n",
              "      }\n",
              "    </style>\n",
              "    <pre style=\"white-space: initial; background:\n",
              "         var(--colab-secondary-surface-color); padding: 8px 12px;\n",
              "         border-bottom: 1px solid var(--colab-border-color);\"><b>pandas.core.frame.DataFrame</b><br/>def __init__(data=None, index: Axes | None=None, columns: Axes | None=None, dtype: Dtype | None=None, copy: bool | None=None) -&gt; None</pre><pre class=\"function-repr-contents function-repr-contents-collapsed\" style=\"\"><a class=\"filepath\" style=\"display:none\" href=\"#\">/usr/local/lib/python3.12/dist-packages/pandas/core/frame.py</a>Two-dimensional, size-mutable, potentially heterogeneous tabular data.\n",
              "\n",
              "Data structure also contains labeled axes (rows and columns).\n",
              "Arithmetic operations align on both row and column labels. Can be\n",
              "thought of as a dict-like container for Series objects. The primary\n",
              "pandas data structure.\n",
              "\n",
              "Parameters\n",
              "----------\n",
              "data : ndarray (structured or homogeneous), Iterable, dict, or DataFrame\n",
              "    Dict can contain Series, arrays, constants, dataclass or list-like objects. If\n",
              "    data is a dict, column order follows insertion-order. If a dict contains Series\n",
              "    which have an index defined, it is aligned by its index. This alignment also\n",
              "    occurs if data is a Series or a DataFrame itself. Alignment is done on\n",
              "    Series/DataFrame inputs.\n",
              "\n",
              "    If data is a list of dicts, column order follows insertion-order.\n",
              "\n",
              "index : Index or array-like\n",
              "    Index to use for resulting frame. Will default to RangeIndex if\n",
              "    no indexing information part of input data and no index provided.\n",
              "columns : Index or array-like\n",
              "    Column labels to use for resulting frame when data does not have them,\n",
              "    defaulting to RangeIndex(0, 1, 2, ..., n). If data contains column labels,\n",
              "    will perform column selection instead.\n",
              "dtype : dtype, default None\n",
              "    Data type to force. Only a single dtype is allowed. If None, infer.\n",
              "copy : bool or None, default None\n",
              "    Copy data from inputs.\n",
              "    For dict data, the default of None behaves like ``copy=True``.  For DataFrame\n",
              "    or 2d ndarray input, the default of None behaves like ``copy=False``.\n",
              "    If data is a dict containing one or more Series (possibly of different dtypes),\n",
              "    ``copy=False`` will ensure that these inputs are not copied.\n",
              "\n",
              "    .. versionchanged:: 1.3.0\n",
              "\n",
              "See Also\n",
              "--------\n",
              "DataFrame.from_records : Constructor from tuples, also record arrays.\n",
              "DataFrame.from_dict : From dicts of Series, arrays, or dicts.\n",
              "read_csv : Read a comma-separated values (csv) file into DataFrame.\n",
              "read_table : Read general delimited file into DataFrame.\n",
              "read_clipboard : Read text from clipboard into DataFrame.\n",
              "\n",
              "Notes\n",
              "-----\n",
              "Please reference the :ref:`User Guide &lt;basics.dataframe&gt;` for more information.\n",
              "\n",
              "Examples\n",
              "--------\n",
              "Constructing DataFrame from a dictionary.\n",
              "\n",
              "&gt;&gt;&gt; d = {&#x27;col1&#x27;: [1, 2], &#x27;col2&#x27;: [3, 4]}\n",
              "&gt;&gt;&gt; df = pd.DataFrame(data=d)\n",
              "&gt;&gt;&gt; df\n",
              "   col1  col2\n",
              "0     1     3\n",
              "1     2     4\n",
              "\n",
              "Notice that the inferred dtype is int64.\n",
              "\n",
              "&gt;&gt;&gt; df.dtypes\n",
              "col1    int64\n",
              "col2    int64\n",
              "dtype: object\n",
              "\n",
              "To enforce a single dtype:\n",
              "\n",
              "&gt;&gt;&gt; df = pd.DataFrame(data=d, dtype=np.int8)\n",
              "&gt;&gt;&gt; df.dtypes\n",
              "col1    int8\n",
              "col2    int8\n",
              "dtype: object\n",
              "\n",
              "Constructing DataFrame from a dictionary including Series:\n",
              "\n",
              "&gt;&gt;&gt; d = {&#x27;col1&#x27;: [0, 1, 2, 3], &#x27;col2&#x27;: pd.Series([2, 3], index=[2, 3])}\n",
              "&gt;&gt;&gt; pd.DataFrame(data=d, index=[0, 1, 2, 3])\n",
              "   col1  col2\n",
              "0     0   NaN\n",
              "1     1   NaN\n",
              "2     2   2.0\n",
              "3     3   3.0\n",
              "\n",
              "Constructing DataFrame from numpy ndarray:\n",
              "\n",
              "&gt;&gt;&gt; df2 = pd.DataFrame(np.array([[1, 2, 3], [4, 5, 6], [7, 8, 9]]),\n",
              "...                    columns=[&#x27;a&#x27;, &#x27;b&#x27;, &#x27;c&#x27;])\n",
              "&gt;&gt;&gt; df2\n",
              "   a  b  c\n",
              "0  1  2  3\n",
              "1  4  5  6\n",
              "2  7  8  9\n",
              "\n",
              "Constructing DataFrame from a numpy ndarray that has labeled columns:\n",
              "\n",
              "&gt;&gt;&gt; data = np.array([(1, 2, 3), (4, 5, 6), (7, 8, 9)],\n",
              "...                 dtype=[(&quot;a&quot;, &quot;i4&quot;), (&quot;b&quot;, &quot;i4&quot;), (&quot;c&quot;, &quot;i4&quot;)])\n",
              "&gt;&gt;&gt; df3 = pd.DataFrame(data, columns=[&#x27;c&#x27;, &#x27;a&#x27;])\n",
              "...\n",
              "&gt;&gt;&gt; df3\n",
              "   c  a\n",
              "0  3  1\n",
              "1  6  4\n",
              "2  9  7\n",
              "\n",
              "Constructing DataFrame from dataclass:\n",
              "\n",
              "&gt;&gt;&gt; from dataclasses import make_dataclass\n",
              "&gt;&gt;&gt; Point = make_dataclass(&quot;Point&quot;, [(&quot;x&quot;, int), (&quot;y&quot;, int)])\n",
              "&gt;&gt;&gt; pd.DataFrame([Point(0, 0), Point(0, 3), Point(2, 3)])\n",
              "   x  y\n",
              "0  0  0\n",
              "1  0  3\n",
              "2  2  3\n",
              "\n",
              "Constructing DataFrame from Series/DataFrame:\n",
              "\n",
              "&gt;&gt;&gt; ser = pd.Series([1, 2, 3], index=[&quot;a&quot;, &quot;b&quot;, &quot;c&quot;])\n",
              "&gt;&gt;&gt; df = pd.DataFrame(data=ser, index=[&quot;a&quot;, &quot;c&quot;])\n",
              "&gt;&gt;&gt; df\n",
              "   0\n",
              "a  1\n",
              "c  3\n",
              "\n",
              "&gt;&gt;&gt; df1 = pd.DataFrame([1, 2, 3], index=[&quot;a&quot;, &quot;b&quot;, &quot;c&quot;], columns=[&quot;x&quot;])\n",
              "&gt;&gt;&gt; df2 = pd.DataFrame(data=df1, index=[&quot;a&quot;, &quot;c&quot;])\n",
              "&gt;&gt;&gt; df2\n",
              "   x\n",
              "a  1\n",
              "c  3</pre>\n",
              "      <script>\n",
              "      if (google.colab.kernel.accessAllowed && google.colab.files && google.colab.files.view) {\n",
              "        for (const element of document.querySelectorAll('.filepath')) {\n",
              "          element.style.display = 'block'\n",
              "          element.onclick = (event) => {\n",
              "            event.preventDefault();\n",
              "            event.stopPropagation();\n",
              "            google.colab.files.view(element.textContent, 509);\n",
              "          };\n",
              "        }\n",
              "      }\n",
              "      for (const element of document.querySelectorAll('.function-repr-contents')) {\n",
              "        element.onclick = (event) => {\n",
              "          event.preventDefault();\n",
              "          event.stopPropagation();\n",
              "          element.classList.toggle('function-repr-contents-collapsed');\n",
              "        };\n",
              "      }\n",
              "      </script>\n",
              "      </div>"
            ],
            "text/plain": [
              "pandas.core.frame.DataFrame"
            ]
          },
          "execution_count": 24,
          "metadata": {},
          "output_type": "execute_result"
        }
      ],
      "source": [
        "# Pandas DataFrame\n",
        "type(df)   # kiểm tra kiểu dữ liệu của biến df\n"
      ]
    },
    {
      "cell_type": "code",
      "execution_count": 1,
      "id": "c0bQq4Tv4-Or",
      "metadata": {
        "id": "c0bQq4Tv4-Or"
      },
      "outputs": [
        {
          "name": "stdout",
          "output_type": "stream",
          "text": [
            "pandas imported\n"
          ]
        }
      ],
      "source": [
        "import numpy as np                    # import thư viện numpy (xử lý mảng số)\n",
        "import pandas as pd                   # import thư viện pandas (xử lý dữ liệu dạng bảng)\n",
        "import matplotlib.pyplot as plt       # import matplotlib (vẽ biểu đồ)\n",
        "print('pandas imported')              # in ra thông báo để xác nhận đã import xong\n"
      ]
    }
  ],
  "metadata": {
    "colab": {
      "provenance": []
    },
    "kernelspec": {
      "display_name": "base",
      "language": "python",
      "name": "python3"
    },
    "language_info": {
      "codemirror_mode": {
        "name": "ipython",
        "version": 3
      },
      "file_extension": ".py",
      "mimetype": "text/x-python",
      "name": "python",
      "nbconvert_exporter": "python",
      "pygments_lexer": "ipython3",
      "version": "3.13.5"
    }
  },
  "nbformat": 4,
  "nbformat_minor": 5
}
