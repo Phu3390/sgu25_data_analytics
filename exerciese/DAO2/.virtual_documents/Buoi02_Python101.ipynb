





#Python Hello World
print("Hello World")


#Python Syntax
# comment


#Python Syntax
score = 80
if score >=60 : # score lớn hoặc bằng 60 thì in ra Pass
    print("Pass")


#Python Variables
x = 2 # x là biến kiểu số nguyên (int)
print(x)
price = 2.5 # là biến kiểu số thực (float)
print(price)
word = 'Hello' # là biến kiểu chuỗi (string)
print(word)

word = 'Hello' # là biến kiểu chuỗi (string)
print(word)
word = "Hello"  # là biến kiểu chuỗi (string)
print(word)
word = '''Hello''' # là biến kiểu chuỗi (string)
print(word)


#Python Variables
x = 2 # x là biến kiểu số nguyên (int)
y = x + 1 # y là biến kiểu số nguyên (int)
print(y)


#python_version()
# comment
from platform import python_version # import hàm python_version từ module platform
print("Python Version:", python_version())


#Python Data Types
x = "Hello World" #str
print(x)
x = 2 #int
print(x)
x = 2.5 #float
print(x)
x = 7j #complex
print(x)


#Python Data Types
x = ["apple", "banana", "cherry"] #list
print(x)
x = ("apple", "banana", "cherry") #tuple
print(x)
x = range(6) #range
print(x)
x = {"name" : "Tom", "age" : 20} #dict
print(x)
x = {"apple", "banana", "cherry"} #set
print(x)
x = frozenset({"apple", "banana", "cherry"})#frozenset
print(x)


#Python Data Types
x = True #bool
print(x)
x = b"Hello" #bytes
print(x)
x = bytearray(5) #bytearray
print(x)
x = memoryview(bytes(5)) #memoryview
print(x)
x = None #NoneType
print(x)


#Python Casting
x = str(3) # x will be '3'
y = int(3) # y will be 3
z = float(3) # z will be 3.0
print(x, type(x))
print(y, type(y))
print(z, type(z))


#Python Basic Operators
print('7 + 2 =', 7 + 2)
print('7 - 2 =', 7 - 2)
print('7 * 2 =', 7 * 2)
print('7 / 2 =', 7 / 2)
print('7 // 2 =', 7 // 2)
print('7 % 2 =', 7 % 2)
print('7 ** 2 =', 7 ** 2)


#Python Booleans: True or False
print(3 > 2)
print(3 == 2)
print(3 < 2)


#Python BMI Calculator
# BMI Calculator in Python
height_cm = 170 # chieu cao cm
weight_kg = 60 # can nang kg
height_m = height_cm/100 # chuyen cm sang m
BMI = (weight_kg/(height_m**2)) # tinh BMI

print("Your BMI is: " + str(round(BMI,1)))





#How much is your $100 worth after 7 years?
fv = 100 * 1.1 ** 7 # tính lãi kép
print('fv = ', round(fv, 2))
# output = 194.87


# Future Value
pv = 100
r = 0.1
n = 7
fv = pv * ((1 + (r)) ** n) # tính lãi kép
print(round(fv, 2))


# Future Value
amount = 100
interest = 10 #10% = 0.01 * 10
years = 7

future_value = amount * ((1 + (0.01 * interest)) ** years) # tính lãi kép
print(round(future_value, 2))





# Python Data Types
x = ["apple", "banana", "cherry"] #list
print(x)
x = ("apple", "banana", "cherry") #tuple
print(x)
x = {"name" : "Tom", "age" : 20} #dict
print(x)
x = {"apple", "banana", "cherry"} #set
print(x)


#Lists []
x = [60, 70, 80, 90] # khai báo một list
print(len(x))
print(x[0])
print(x[1])
print(x[-1])


#Tuples ()
x = (10, 20, 30, 40, 50) # khai báo một tuple
print(x[0])
print(x[1])
print(x[2])
print(x[-1])


# Sets {}
animals = {'cat', 'dog'} # khai báo một set
print('cat' in animals)
print('fish' in animals)
animals.add('fish')# thêm phần tử 'fish' vào set
print('fish' in animals)
print(len(animals))
animals.add('cat') # thêm phần tử 'cat' vào set
print(len(animals))
animals.remove('cat') # xóa phần tử 'cat' khỏi set
print(len(animals))


#Dictionary {key : value}
k = { 'EN':'English', 'FR':'French' } # khai báo một dictionary

print(k['EN'])


# Python Data Structures
fruits = ["apple", "banana", "cherry"] #lists []
print(fruits)
colors = ("red", "green", "blue") #tuples ()
print(colors)
animals = {'cat', 'dog'} #sets {}
print(animals)
person = {"name" : "Tom", "age" : 20} #dictionaries {}
print(person)


#Python for Finance Applications
# Python Lists
expenses = [72.50, 80.75, 50.00, 90.25] # danh sách các khoản chi tiêu
total_expenses = sum(expenses) # tính tổng các khoản chi tiêu
print("Total expenses:", total_expenses)


# Python for Finance Applications
# Python Tuples
accounts = (("Cash", 1001), ("Accounts Receivable", 1002),("Inventory", 1003)) # danh sách các tài khoản
for account in accounts: # lặp qua từng tài khoản trong danh sách
    print("Account name:", account[0], "Account number:", account[1])


# Python for Finance Applications
# Python Sets
account_numbers = {1001, 1002, 1003} # tập hợp các số tài khoản
new_account_number = 1004 # số tài khoản mới
if new_account_number not in account_numbers: # kiểm tra nếu số tài khoản mới chưa có trong tập hợp
    print("Account number", new_account_number, "is not in use.")


# Python for Finance Applications
# Python Dictionaries
accounts = {"1001": {"name": "Cash", "balance": 500.00, "type": "Asset"},
"1002": {"name": "Accounts Receivable", "balance": 1000.00, "type": "Asset"},
"2001": {"name": "Accounts Payable", "balance": 750.00, "type": "Liability"}} # danh sách các tài khoản
for account_number, account_info in accounts.items(): # lặp qua từng tài khoản trong dictionary
    print("Account number:", account_number)
    print("Account name:", account_info["name"])
    print("Account balance:", account_info["balance"])
    print("Account type:", account_info["type"])





# Python if
score = 80 # điểm số

if score >=60 : # score lớn hoặc bằng 60 thì in ra Pass

    print("Pass")


# Python if else
score = 80 # điểm số
if score >=60 : # score lớn hoặc bằng 60 thì in ra Pass
    print("Pass")
else: # score nhỏ hơn 60 thì in ra Fail
    print("Fail")


#Python if elif else
score = 95 # điểm số
if score >= 90 : # score lớn hoặc bằng 90 thì in ra A

    print("A")

elif score >=60 :#  score lớn hoặc bằng 60 thì in ra Pass
    print("Pass")

else: # score nhỏ hơn 60 thì in ra Fail

    print("Fail")


#Python for Loops
for i in range(1,6): # lặp từ 1 đến 5
    print(i)


# Python for loops
# for loops
for i in range(1,10):# lặp từ 1 đến 9
    for j in range(1,10):#  lặp từ 1 đến 9
        print(i, ' * ' , j , ' = ', i*j)


# Python while loops
# while loops
age = 10 # khởi tạo biến age với giá trị ban đầu là 10
while age < 20:# điều kiện lặp
    print(age)
    age = age + 1# tăng giá trị của age lên 1 sau mỗi vòng lặp





# Python Function def
# indentation for blocks. four spaces
def getfv(pv, r, n):# hàm tính giá trị tương lai

    fv = pv * ((1 + (r)) ** n)# tính lãi kép
    return fv # trả về giá trị fv

fv = getfv(100, 0.1, 7) # tính giá trị tương lai
print(round(fv, 2))





# Python class
class MyClass: # định nghĩa một lớp có tên MyClass
    x = 5

c1 = MyClass()# tạo một đối tượng c1 từ lớp MyClass
print(c1.x)


# Python Classes/Objects
class Person: # định nghĩa một lớp có tên Person

    def __init__(self, name, age):# hàm khởi tạo với các tham số name và age
        self.name = name # gán giá trị của tham số name cho thuộc tính name của đối tượng
        self.age = age # gán giá trị của tham số age cho thuộc tính age của đối tượng

p1 = Person("Alan", 20) # tạo một đối tượng p1 từ lớp Person

print(p1.name)
print(p1.age)


# Python Classes/Objects
class Person:

    def __init__(self, name, age):# hàm khởi tạo với các tham số name và age
        self.name = name # gán giá trị của tham số name cho thuộc tính name của đối tượng
        self.age = age # gán giá trị của tham số age cho thuộc tính age của đối tượng

    def myfunc(self): # định nghĩa một phương thức myfunc
        print("Hello my name is " + self.name)

p1 = Person("Alan", 20)# tạo một đối tượng p1 từ lớp Person
p1.myfunc()# gọi phương thức myfunc của đối tượng p1


#Python Classes/Objects
class Person:

    def __init__(self, name, age):# hàm khởi tạo với các tham số name và age
        self.name = name # gán giá trị của tham số name cho thuộc tính name của đối tượng
        self.age = age # gán giá trị của tham số age cho thuộc tính age của đối tượng

    def myfunc(self):# định nghĩa một phương thức myfunc

        print("Hello my name is " + self.name)

p1 = Person("Alan", 20)# tạo một đối tượng p1 từ lớp Person
p1.myfunc()# gọi phương thức myfunc của đối tượng p1
print(p1.name)
print(p1.age)


# Python Classes and Obects
class Vehicle:
    name = "" # thuộc tính name
    kind = "car" # thuộc tính kind
    color = "" # thuộc tính color
    value = 100.00 # thuộc tính value
    def description(self): # định nghĩa một phương thức description
        desc_str = "%s is a %s %s worth $%.2f." %(self.name, self.color, self.kind, self.value) # định nghĩa một phương thức description
        return desc_str # trả về chuỗi desc_str


# Python Classes and Objects
# Khởi tạo đối tượng car1 từ lớp Vehicle và gán các thuộc tính
car1 = Vehicle()
car1.name = "Fer"         # thuộc tính name của đối tượng car1
car1.color = "red"        # thuộc tính color của đối tượng car1
car1.kind = "convertible" # thuộc tính kind của đối tượng car1
car1.value = 60000.00     # thuộc tính value của đối tượng car1

# Khởi tạo đối tượng car2 từ lớp Vehicle và gán các thuộc tính
car2 = Vehicle()
car2.name = "Jump" # thuộc tính name của đối tượng car2
car2.color = "blue" #thuộc tính color của đối tượng car2
car2.kind = "van" # thuộc tính kind của đối tượng car2
car2.value = 10000.00 # thuộc tính value của đối tượng car2

# In ra mô tả và tên của từng xe
print(car1.description())
print(car1.name)
print(car2.description())
print(car2.name)

# Định nghĩa lớp Vehicle
class Vehicle:
    name = ""         # thuộc tính name
    kind = "car"      # thuộc tính kind
    color = ""        # thuộc tính color
    value = 100.00    # thuộc tính value
    def description(self): # định nghĩa một phương thức description
        desc_str = "%s is a %s %s worth $%.2f." % (self.name, self.color, self.kind, self.value) # định nghĩa một phương thức description
        return desc_str #trả về chuỗi desc_str





# Python Modules
import mymodule  # Import (nạp) module có tên là mymodule (file mymodule.py phải tồn tại cùng thư mục hoặc trong sys.path)

mymodule.greeting("Alan")  # Gọi hàm greeting() trong module mymodule với đối số là "Alan"




# Python File Input / Output
with open('myfile.txt', 'w') as file: # Mở (hoặc tạo) file "myfile.txt" với chế độ ghi ('w') và dùng "with" để tự động đóng file sau khi xong
    file.write('Hello World\nThis is Python File Input Output') # Ghi chuỗi vào file (có xuống dòng sau "Hello World")
with open('myfile.txt', 'r') as file: # Mở lại file "myfile.txt" với chế độ đọc ('r')
    text = file.read()   # Đọc toàn bộ nội dung file vào biến text
print(text)


# Python File Input / Output
filename = 'mymodule.py' # Gán tên file cần thao tác vào biến filename
with open(filename, 'w') as file:  # Mở (hoặc tạo mới) file 'mymodule.py' với chế độ ghi ('w')
    text = '''def greeting(name):
    print("Hello, " + name)
    ''' # Chuẩn bị nội dung dạng chuỗi nhiều dòng để ghi vào file
    file.write(text)   # Ghi nội dung của biến text vào file

with open(filename, 'r') as file:   # Mở lại file với chế độ đọc ('r')

    text = file.read() # Đọc toàn bộ nội dung file vào biến text

print(filename)
print(text)


# Python main() function
#Python main() function
def main(): # Định nghĩa hàm main (hàm chính của chương trình)
    print("Hello World!")
if __name__ == "__main__":  # Đây là điều kiện đặc biệt trong Python:
                            # - Nếu file này được chạy trực tiếp (python tenfile.py) thì __name__ = "__main__"
                            # - Nếu file này được import vào file khác thì __name__ ≠ "__main__"
    main()  # Gọi hàm main (chạy chương trình)





# Python Files (File Handling)
f = open("myfile.txt", "w")
# Mở (hoặc tạo) file "myfile.txt" với chế độ ghi ("w")
# Nếu file đã tồn tại, nội dung cũ sẽ bị xóa
f.write("Hello World")
# Ghi chuỗi "Hello World" vào file
f.close()
# Đóng file lại (giải phóng tài nguyên)
f = open("myfile.txt", "r")
# Mở file "myfile.txt" với chế độ đọc ("r")
text = f.read()
# Đọc toàn bộ nội dung file và gán vào biến text
print(text)
f.close()
# Đóng file sau khi đọc xong



# Python File Input / Output
with open('myfile.txt', 'w') as file:    # Mở file myfile.txt với chế độ ghi (write)
    file.write('Hello World')            # Ghi chuỗi "Hello World" vào file
with open('myfile.txt', 'r') as file:    # Mở file myfile.txt với chế độ đọc (read)
    text = file.read()                   # Đọc toàn bộ nội dung file vào biến text
print(text)                              # In nội dung đọc được ra màn hình



# Python File Input / Output
with open('myfile.txt', 'w') as file:    # Mở file myfile.txt với chế độ ghi (write)
    file.write('Hello World\nPython File IO')    # Ghi 2 dòng văn bản vào file

with open('myfile.txt', 'r') as file:    # Mở file myfile.txt với chế độ đọc (read)
    text = file.read()                   # Đọc toàn bộ nội dung file vào biến text

print(text)



# Python File Input / Output
with open('myfile.txt', 'a+') as file:    # Mở file myfile.txt với chế độ ghi nối thêm (append + read)
    file.write('\n' + 'New line')         # Thêm dòng mới "New line" vào cuối file

with open('myfile.txt', 'r') as file:     # Mở lại file myfile.txt với chế độ đọc
    text = file.read()                    # Đọc toàn bộ nội dung file vào biến text

print(text)    # In nội dung file ra màn hình



#Python Files
# !ls list files
!dir


# Python OS, IO, files, and Google Drive
import os                         # Import module os để làm việc với hệ điều hành

cwd = os.getcwd()                 # Lấy đường dẫn thư mục hiện tại (current working directory)
print(cwd)



# os.listdir()
os.listdir(cwd)  # Liệt kê tất cả file/thư mục trong cwd


# os.path.join()
import os                                # Import module os

cwd = os.getcwd()                        # Lấy thư mục hiện tại
path = os.path.join(cwd, 'sample_data')  # Ghép đường dẫn cwd với 'sample_data'
if os.path.exists(path):                      # Kiểm tra folder có tồn tại
    print(path)                              # In ra đường dẫn đầy đủ tới thư mục sample_data
    print(os.listdir(path))               # Liệt kê các file/thư mục trong sample_data
else:
    print("Không tìm thấy thư mục:", path)


# from google.colab import files
from google.colab import files                       # import thư viện files của Colab

with open('io_file_myday.txt', 'w') as f:            # mở/tạo file io_file_myday.txt với chế độ ghi
    f.write('Google Colab File Write Text some content Myday')   # ghi nội dung vào file

import time                                          # import thư viện time
time.sleep(1)                                        # tạm dừng 1 giây

files.download('io_file_myday.txt')                  # tải file io_file_myday.txt về máy
print('downloaded')                                  # in thông báo đã tải xong



# Python Files
from google.colab import files                                    # import module files của Colab
uploaded = files.upload()                                         # mở cửa sổ chọn file để upload

for fn in uploaded.keys():                                        # lặp qua từng file được upload
    print('User uploaded file "{name}" with length {length} bytes'.format(
        name=fn, length=len(uploaded[fn]) ))                      # in tên file và dung lượng



# os.remove()
import os                                # import module os để làm việc với file

if os.path.exists("myfile.txt"):         # kiểm tra nếu file myfile.txt tồn tại
    os.remove("myfile.txt")              # xóa file myfile.txt
    print("myfile.txt removed")          # in thông báo đã xóa
else:
    print("The file does not exist")     # in thông báo nếu file không tồn tại



#os.mkdir("myfolder1")
#os.rmdir("myfolder1")
import os                  # import module os để làm việc với hệ thống file

os.listdir()               # liệt kê file/thư mục trong thư mục hiện tại

os.mkdir("myfolder1")      # tạo thư mục mới tên là myfolder1

os.listdir()               # liệt kê lại để thấy myfolder1 vừa được tạo

os.rmdir("myfolder1")      # xóa thư mục myfolder1 (chỉ xóa được nếu thư mục rỗng)

os.listdir()               # liệt kê lần nữa để thấy myfolder1 đã bị xóa



# Python Try Except (Exception Handling)
#Python try except
try:                               # khối try: chạy đoạn code có thể gây lỗi
    print(x)                        # biến x chưa được định nghĩa → sẽ gây lỗi

except:                            # nếu có lỗi xảy ra thì chạy khối except
    print("Exception Error")        # in ra thông báo lỗi



# Python try: except: finally:
try:                                   # khối try: chạy code có thể lỗi
    print("Hello")                     # lệnh này chạy bình thường, in ra "Hello"

except:                                # khối except: chỉ chạy nếu có lỗi
    print("Exception Error")           # không chạy vì try không có lỗi

finally:                               # khối finally: luôn luôn chạy dù có lỗi hay không
    print("Finally process")           # in ra "Finally process"




# Python try except else
try:                               # khối try: chạy code có thể gây lỗi
    print("Hello")                  # lệnh này chạy ok, in ra "Hello"

except:                            # chạy nếu có lỗi trong khối try
    print("Exception Error")        # không chạy vì không có lỗi

else:                              # chạy nếu KHÔNG có lỗi trong khối try
    print("No exception")           # in ra "No exception"



# Python try: except: else: finally:
try:                                   # khối try: chạy code có thể gây lỗi
    print("Hello")                     # in ra "Hello"

except:                                # chạy nếu có lỗi trong khối try
    print("Exception Error")           # không chạy vì không có lỗi

else:                                  # chạy nếu KHÔNG có lỗi trong khối try
    print("No exception")               # in ra "No exception"

finally:                               # luôn luôn chạy dù có lỗi hay không
    print("Finally process")            # in ra "Finally process"



# Python try: except: else: finally:
try:                                                        # khối try: chạy code có thể gây lỗi
    price = float(input("Enter the price of the stock (e.g. 10): "))   # nhập giá cổ phiếu, chuyển sang float
    shares = int(input("Enter the number of shares (e.g. 2): "))       # nhập số lượng cổ phiếu, chuyển sang int
    total = price * shares                                             # tính tổng giá trị cổ phiếu

except Exception as e:                                     # bắt mọi lỗi (Exception) nếu có trong try
    print("Exception error:", str(e))                      # in ra thông báo lỗi

else:                                                      # chạy nếu không có lỗi trong try
    print("The total value of the shares is:", total)      # in ra tổng giá trị cổ phiếu

finally:                                                   # luôn chạy dù có lỗi hay không
    print("Thank you.")                                    # in ra lời cảm ơn



# Python try: except: else: finally:
try:                                               # thử chạy code có thể gây lỗi
    file = open("myfile.txt", "w")                 # mở (hoặc tạo) file ở chế độ ghi ('w')
    file.write("Python write file")                # ghi nội dung vào file
    file.close()                                   # đóng file
    print("file saved")                            # in thông báo thành công

except:                                            # nếu có lỗi xảy ra
    print("Exception file Error")                  # in thông báo lỗi



# Python try: except: else: finally:
try:                                         # thử chạy đoạn code có thể gây lỗi
    file = open("myfile.txt")                # mở file (mặc định 'r' - chỉ đọc)
    file.write("Python write file")          # cố gắng ghi vào file (sẽ lỗi vì file chỉ đọc)
    print("file saved")                      # in thông báo khi ghi thành công

except:                                      # nếu có lỗi xảy ra ở khối try
    print("Exception file Error")            # in thông báo lỗi

finally:                                     # luôn luôn chạy dù có lỗi hay không
    file.close()                             # đóng file (nhưng có nguy cơ lỗi nếu file chưa mở)
    print("Finally process")                 # in thông báo kết thúc



# Python try: except: else: finally:
try:                                                # thử chạy code
    file = open("myfile.txt", 'w')                  # mở (hoặc tạo) file với chế độ ghi ('w')
    file.write("Python write file")                 # ghi nội dung vào file
    print("file saved")                             # in thông báo khi ghi thành công

except:                                             # nếu có lỗi xảy ra
    print("Exception file Error")                   # in thông báo lỗi

finally:                                            # luôn luôn chạy dù có lỗi hay không
    file.close()                                    # đóng file
    print("Finally process")                        # in thông báo kết thúc









# NumPy
v = list(range(1, 6))        # tạo list [1, 2, 3, 4, 5] bằng range
v                            # in list ra (trong Jupyter sẽ hiện kết quả)

2 * v                        # nhân list với 2 → lặp lại list: [1,2,3,4,5,1,2,3,4,5]

import numpy as np           # import thư viện numpy

v = np.arange(1, 6)          # tạo mảng numpy [1 2 3 4 5]

v                            # in mảng numpy ra

2 * v                        # nhân mảng với 2 → tính toán từng phần tử: [2 4 6 8 10]



# Python Data Structures
fruits = ["apple", "banana", "cherry"]   # list []
print(fruits)

colors = ("red", "green", "blue")        # tuple ()
print(colors)

animals = {'cat', 'dog'}                 # set {}
print(animals)

person = {"name": "Tom", "age": 20}      # dictionary {key: value}
print(person)



# Lists []
x = [60, 70, 80, 90]      # tạo list gồm 4 phần tử

print(len(x))             # in độ dài list (4)

print(x[0])               # in phần tử đầu tiên (60)

print(x[1])               # in phần tử thứ hai (70)

print(x[-1])              # in phần tử cuối cùng (90)



# NumPy Create Array
import numpy as np                # import thư viện numpy

a = np.array([1, 2, 3])           # tạo mảng numpy a = [1 2 3]

b = np.array([4, 5, 6])           # tạo mảng numpy b = [4 5 6]

c = a * b                         # nhân từng phần tử (element-wise): [1*4, 2*5, 3*6]

c                                 # hiển thị kết quả mảng c






# NumPy ndarray
import numpy as np                 # import thư viện numpy

a = np.array([1, 2, 3, 4, 5])      # tạo mảng numpy a = [1 2 3 4 5]



a = np.array([[1,2,3,4,5],[6,7,8,9,10],[11,12,13,14,15],[16,17,18,19,20]]) # tạo mảng numpy 2 chiều (ma trận 4x5)


import numpy as np                           # import thư viện numpy

a = np.array([                               # tạo mảng numpy 2D (ma trận 3x4)
    [0,  1,  2,  3],                         # hàng 1
    [10, 11, 12, 13],                        # hàng 2
    [20, 21, 22, 23]                         # hàng 3
])

a                                              # hiển thị ma trận



a = np.array([[0, 1, 2, 3], [10, 11, 12, 13], [20, 21, 22, 23]])  # tạo mảng numpy 2 chiều (ma trận 3x4)





# Creating pd.DataFrame
import pandas as pd                                # import thư viện pandas

df = pd.DataFrame({                                # tạo DataFrame từ dictionary
    "a": [4, 5, 6],                                # cột 'a'
    "b": [7, 8, 9],                                # cột 'b'
    "c": [10, 11, 12]                              # cột 'c'
}, index=[1, 2, 3])                                # đặt chỉ mục (index) là 1, 2, 3



# Pandas DataFrame
type(df)   # kiểm tra kiểu dữ liệu của biến df



import numpy as np                    # import thư viện numpy (xử lý mảng số)
import pandas as pd                   # import thư viện pandas (xử lý dữ liệu dạng bảng)
import matplotlib.pyplot as plt       # import matplotlib (vẽ biểu đồ)
print('pandas imported')              # in ra thông báo để xác nhận đã import xong



s = pd.Series([1,3,5,np.nan,6,8])# tạo một Series với các giá trị, trong đó có np.nan (giá trị thiếu)
s # in ra Series s


dates = pd.date_range('20181001',periods=6) # tạo một chuỗi ngày bắt đầu từ 1/10/2018, gồm 6 ngày liên tiếp
dates # in ra chuỗi ngày dates


df = pd.DataFrame(np.random.randn(6,4),index=dates, columns=list('ABCD'))# tạo DataFrame 6x4 với chỉ mục là chuỗi ngày và cột là A, B, C, D
df # in ra DataFrame df


df = pd.DataFrame(np.random.randn(3,5),
index=['student1','student2','student3'],
columns=list('ABCDE')) # tạo DataFrame 3x5 với chỉ mục là tên sinh viên và cột là A, B, C, D, E
df # in ra DataFrame df


df2 = pd.DataFrame({ 'A' : 1.,
'B' : pd.Timestamp('20181001'),
'C' : pd.Series(2.5,index=list(range(4)),dtype='float32'),
'D' : np.array([3] * 4,dtype='int32'),
'E' : pd.Categorical(["test","train","test","train"]),
'F' : 'foo' }) #  tạo DataFrame df2 với các cột có kiểu dữ liệu khác nhau
df2 # in ra DataFrame df2


df2.dtypes # kiểm tra kiểu dữ liệu của từng cột trong df2


# Python Finance Application with Pandas
import pandas as pd   # import thư viện pandas để làm việc với dữ liệu dạng bảng (DataFrame)

# Tạo DataFrame rỗng để lưu các giao dịch
columns = ['Date', 'Description', 'Amount']   # định nghĩa tên các cột
ledger = pd.DataFrame(columns=columns)        # tạo DataFrame với cột: Date, Description, Amount

# Hàm thêm một giao dịch mới vào sổ
def add_transaction(date, description, amount):
    global ledger                                       # dùng biến toàn cục ledger
    new_transaction = pd.DataFrame(                     # tạo DataFrame 1 dòng mới
        [[date, description, amount]], columns=columns  # gồm: ngày, mô tả, số tiền
    )
    ledger = pd.concat([ledger, new_transaction], ignore_index=True)  # ghép dòng mới vào ledger

# Hàm xem toàn bộ sổ giao dịch
def view_ledger():
    print(ledger)    # in toàn bộ DataFrame ledger

# Hàm tính số dư hiện tại
def get_balance():
    return ledger['Amount'].sum()   # tính tổng giá trị cột 'Amount'

# Thêm một số giao dịch mẫu để test
add_transaction('2023-11-01', 'Income', 1000)      # giao dịch 1: Thu nhập +1000
add_transaction('2023-11-02', 'Groceries', -200)   # giao dịch 2: Mua đồ ăn -200
add_transaction('2023-11-03', 'Utilities', -100)   # giao dịch 3: Hóa đơn điện nước -100

# Xem lại sổ giao dịch
view_ledger()   # in toàn bộ bảng ledger

# Kiểm tra số dư hiện tại
print("Current Balance:", get_balance())   # in ra số dư (1000 - 200 - 100 = 700)






# Data Visualization in Google Colab
import seaborn as sns # import thư viện seaborn để vẽ biểu đồ
sns.set(style="ticks", color_codes=True) # thiết lập phong cách biểu đồ
iris = sns.load_dataset("iris") # tải bộ dữ liệu iris
g = sns.pairplot(iris, hue="species") # vẽ biểu đồ phân tán các cặp biến trong iris, phân biệt theo loài hoa


# import libraries
import numpy as np # import thư viện numpy để xử lý mảng số
import pandas as pd # import thư viện pandas để xử lý dữ liệu dạng bảng
plt.show()   # để hiển thị biểu đồ
import matplotlib.pyplot as plt # import thư viện matplotlib để vẽ biểu đồ
import seaborn as sns # import thư viện seaborn để vẽ biểu đồ
from pandas.plotting import scatter_matrix # import hàm scatter_matrix từ pandas để vẽ ma trận phân tán


# Load dataset
url = "https://archive.ics.uci.edu/ml/machine-learning-databases/iris/iris.data"
names = ['sepal-length', 'sepal-width', 'petal-length', 'petal-width', 'class']
df = pd.read_csv(url, names=names)
print(df.head(10))


df.tail(10) # in 10 dòng cuối của DataFrame df


df.describe() # thống kê mô tả các cột số trong df


print(df.info())
print(df.shape)


df.groupby('class').size() # đếm số lượng mẫu theo từng lớp (class)


plt.rcParams["figure.figsize"] = (10,8) # thiết lập kích thước biểu đồ
df.plot(kind='box', subplots=True, layout=(2,2), sharex=False, sharey=False) # vẽ biểu đồ hộp (box plot) cho từng cột
plt.show() # hiển thị biểu đồ


df.hist()  # vẽ biểu đồ histogram cho từng cột
plt.show() # hiển thị biểu đồ


scatter_matrix(df) # vẽ ma trận phân tán (scatter matrix)
plt.show() # hiển thị ma trận phân tán


sns.pairplot(df, hue="class", size=2) # vẽ biểu đồ phân tán các cặp biến, phân biệt theo lớp (class)








# Biến
n = 12 # biến n là kiểu nguyên
print(n)
n = n + 0.1 # biến n chuyển sang kiểu thực
print(n)


#D ữ liệu kiểu chuỗi
name = 'matt'
# chuỗi trong nó có chứa dấu nháy đơn
print
with_quote = "I ain't gonna"
# chuỗi có nôi dung nằm trên 2 dòng
print(with_quote)
longer = """This string has multiple lines in it"""
print(longer)





# Xuất dữ liệu
print(42)
#42
a = 3.564
print("a = ", a)
print("a = \n", a)
print("a","b")
#a b
print("a","b",sep="")
#ab
print(192,168,178,42,sep=".")
#192.168.178.42
print("a","b",sep=":-)")
#a:-)b


#Nhập dữ liệu
name = input("What's your name? ") # hỏi tên
print("Nice to meet you " + name + "!")
age = input("Your age? ") # hỏi tuổi
print("You are already " + age + " years old, " + name+ "!")
age = int(input("Your age? ")) # hỏi tuổi và chuyển sang kiểu int
print("You are already %d years old!", age)





#Giải phương trình bậc 2
a = float(input("A = "))  # nhập hệ số a, chuyển thành số thực
b = float(input("B = "))  # nhập hệ số b, chuyển thành số thực
c = float(input("C = "))  # nhập hệ số c, chuyển thành số thực

delta = b*b - 4*a*c       # tính biệt thức delta = b^2 - 4ac

if delta == 0:  # nếu delta = 0 thì phương trình có nghiệm kép
    print("Nghiệm kép: x =", -b / (2*a))

if delta < 0:   # nếu delta < 0 thì phương trình vô nghiệm
    print("Phương trình vô nghiệm")

if delta > 0:   # nếu delta > 0 thì phương trình có 2 nghiệm phân biệt
    x1 = (-b + delta**0.5) / (2*a)  # nghiệm thứ nhất
    x2 = (-b - delta**0.5) / (2*a)  # nghiệm thứ hai
    print("X1 =", x1)  # in nghiệm X1
    print("X2 =", x2)  # in nghiệm X2








#Kiểu số
A = 1234 # hệ cơ số 10
print(A)
B = 0xAF1 # hệ cơ số 16
print(B)
C = 0o772 # hệ cơ số 8
print(C)
D = 0b1001 # hệ cơ số 2
print(D)

K = str(1234) # chuyển thành str ở hệ cơ số 10
print(K)
L = hex(1234) # chuyển thành str ở hệ cơ số 16
print(L)
M = oct(1234) # chuyển thành str ở hệ cơ số 8
print(M)
N = bin(1234) # chuyển thành str ở hệ cơ số 2
print(N)


# Kiểu số
X = 12.34 # dạng số thực
print(X)
Y = 314.15279e-2 # dạng số nguyên và phần mũ 10
print(Y)

A = 3+4j # số phức
B = 2-2j # số phức
print(A+B) # sẽ in ra (5+2j)





# Cấu trúc rẽ nhánh if-else
name = input("What's your name? ")   # nhập tên từ bàn phím
print("Nice to meet you " + name + "!")  # in lời chào kèm tên

age = int(input("Your age? "))  # nhập tuổi, chuyển thành số nguyên
print("You are already", age, "years old,", name, "!")  # in tuổi ra màn hình

if age >= 18:  # nếu tuổi >= 18
    print("Đủ tuổi đi bầu cử")  # thông báo đủ tuổi bầu cử
    if age > 100:  # nếu tuổi > 100
        print("Có vẻ sai sai!")  # cảnh báo vì tuổi bất thường
else:  # ngược lại (tuổi < 18)
    print("Nhỏ quá")  # thông báo còn nhỏ



# “phép toán” if
A = 10  # gán giá trị 10 cho A
B = 20  # gán giá trị 20 cho B

X = A if A > B else B  # nếu A > B thì X = A, ngược lại X = B
print("Giá trị lớn nhất là:", X)  # in ra giá trị max






# Vòng lặp for
for d in range(10,20): # in các số từ 10 đến 19
    print(d)
for d in range(20,10,-1): # in các số từ 20 đến 11
    print(d)





# Hàm
def tich(a, b = 1):# hàm tính tích của a và b, b mặc định là 1
    return a*b # trả về kết quả a*b
print(tich(10, 20)) # 200
print(tich(10)) # 10
print(tich(a=5)) # 5
print(tich(b=6, a=5)) # 30








#Kiểu chuỗi
s = "Good" + " " + "Morning!" # Phép nối chuỗi
print(s)
s = "AB" * 3 # Phép nhân bản
print(s)
s in '1ABABABCD' # Kiểm tra nội dung
print(s)


# Cắt chuỗi
s = '0123456789' # chuỗi mẫu
print(s[3:6])# 345
print(s[3:])# 3456789
print(s[:6])# 012345
print(s[-7:-4])# 345
print(s[-4:-7])#
print(s[-4:-7:-1]) # 654
print(s[:len(s)])# 0123456789
print(s[:len(s)-1])# 012345678
print(s[:])# 0123456789
print(s[len(s)::-1]) # 9876543210
print(s[len(s)-1::-1])# 9876543210
print(s[len(s)-2::-1])# 876543210


#Định dạng chuỗi
"Chao %s, gio la %d gio" % ('txnam', 10)
"Can bac 2 cua 2 = %f" % (2**0.5)
"Can bac 2 cua 2 = %10.3f" % (2**0.5)
"Can bac 2 cua 2 = %10f" % (2**0.5)
"Can bac 2 cua 2 = %.7f" % (2**0.5)


#Định dạng chuỗi
myname = 'DHNTT'  
s = f'This is {myname}.'        # f-string, sẽ thay {myname} bằng giá trị biến => 'This is DHNTT.'  
print(s)
w = f'{s} {myname}'             # lồng biến s và myname => 'This is DHNTT. DHNTT'  
print(w)
z = f'{{s}} {s}'                # {{ }} để in dấu ngoặc nhọn thay vì format => '{s} This is DHNTT.'  
print(z)

# điền lần lượt từng giá trị vào giữa cặp ngoặc nhọn
print('a: {}, b: {}, c: {}'.format(1, 2, 3))  

# điền nhưng không lần lượt
print('a: {1}, b: {2}, c: {0}'.format('one', 'two', 'three'))  

# two same values: {0}, {0} -> dùng lại cùng một giá trị nhiều lần
print('two same values: {0}, {0}'.format(1, 2))  

# điền và chỉ định từng giá trị theo tên
print('1: {one}, 2: {two}'.format(one=111, two=222))  



# Định dạng chuỗi
# căn giữa: '   aaaa   '
print('{:^10}'.format('aaaa'))     


# căn lề trái: 'aaaa      '
print('{:<10}'.format('aaaa'))     


# căn lề phải: '      aaaa'
print('{:>10}'.format('aaaa'))     


# căn lề phải, thay khoảng trắng bằng -: '------aaaa'
print('{:->10}'.format('aaaa'))    


# căn lề trái, thay khoảng trắng *: 'aaaa******'
print('{:*<10}'.format('aaaa'))    


# căn giữa, thay khoảng trắng bằng +: '+++aaaa+++'
print('{:+^10}'.format('aaaa'))    







# Giới thiệu và khai báo
# list 5 số nguyên
nums = [1, 2, 3, 4, 5]  
print(nums)               
# list 4 chuỗi
chars = ['a', 'b', 'c', 'd']  
print(chars)               

# list 2 list con
matrix = [[1, 2], [3, 4]]  
print(matrix)               
# list hỗn hợp
mixed = [1, 'one', [2, 'two']]  
print(mixed)                

# list rỗng
empty = []  
print(empty)             



# Khởi tạo list
l1 = list([1, 2, 3, 4]) # list 4 số nguyên
print(l1)

l2 = list('abc') # list 3 chuỗi con
print(l2)

l3 = list() # list rỗng
print(l3)

# list 1000 số nguyên từ 0 đến 999
X = [n for n in range(1000)]
print(X)

# list gồm 10 list con là các cặp [x, x^2] với x chạy từ 0 đến 9
Y = [[x, x*x] for x in range(10)]
print(Y)



#Phép toán, chỉ mục và cắt
l1 = list([1, 2, 3, 4])# list 4 số nguyên
l1[-1] = list('abc')# thay phần tử cuối cùng bằng list 3 chuỗi con
print(l1)
# [1, 2, 3, ['a', 'b', 'c']]


# Các phương thức của list
x = "Nguyen Van An".split() # tách chuỗi thành list các từ
x.sort(key=str.lower) # sắp xếp list theo thứ tự bảng chữ cái, không phân biệt hoa thường
print(x)





# Tuple là một dạng readonly list
# tuple 5 số nguyên
t1 = (1, 2, 3, 4, 5)
print(t1)

# tuple 4 chuỗi
t2 = ('a', 'b', 'c', 'd')
print(t2)

# tuple hỗn hợp
t3 = (1, 'one', [2, 'two'])
print(t3)

# tuple 1 phần tử (phải có dấu phẩy)
t4 = (1,)
print(t4)

# tuple rỗng
t5 = ()
print(t5)






# range(stop): tạo miền từ 0 đến stop-1
r1 = range(5)       # từ 0 đến 4
print(list(r1))     # [0, 1, 2, 3, 4]

# range(start, stop[, step]): tạo miền từ start đến stop-1, cách nhau step
r2 = range(2, 10)   # từ 2 đến 9
print(list(r2))     # [2, 3, 4, 5, 6, 7, 8, 9]

r3 = range(2, 10, 2) # từ 2 đến 9, bước nhảy 2
print(list(r3))     # [2, 4, 6, 8]

r4 = range(10, 2, -2) # từ 10 giảm dần đến 3, bước nhảy -2
print(list(r4))     # [10, 8, 6, 4]






# Giới thiệu và khởi tạo
basket = {'apple', 'orange', 'apple', 'pear'}
print(basket)
# {'orange', 'pear', 'apple'} : set tự động loại bỏ phần tử trùng nhau, không có thứ tự cố định

a = {5, 2, 3, 1, 4}
print("a=", a)  
# a = {1, 2, 3, 4, 5} : set tự động sắp xếp theo thứ tự tăng dần khi in ra

s1 = set([1, 2, 3, 4])  # tập hợp từ list
print("s1 =", s1)       # {1, 2, 3, 4}

s2 = set((1, 1, 1))     # tập hợp từ tuple (tự loại bỏ trùng lặp)
print("s2 =", s2)       # {1}

s3 = s1 - s2            # hiệu tập hợp (các phần tử có trong s1 mà không có trong s2)
print("s3 =", s3)       # {2, 3, 4}

s4 = set(range(1, 100)) # tập hợp các số từ 1 đến 99
print("s4 =", s4)       # {1, 2, 3, ..., 98, 99}



# Khởi tạo Set
# ▪ Tạo set bằng set comprehension
# a = {'r', 'd'}
a = {x for x in 'abracadabra' if x not in 'abc'}
print(a)

# ▪ Set không thể chứa những đối tượng mutable (có thể bị thay đổi), mặc dù chính set lại có thể thay đổi
# a = set(([1,2],[2,3])) # lỗi list

a = set(((1,2),(2,3))) # {(1, 2), (2, 3)}
print(a)

a.add("abc") # {(1, 2), "abc", (2, 3)}
print(a)

# ▪ Frozenset giống set, nhưng không thể bị thay đổi
b = frozenset(((1,2),(2,3))) # {(1,2), (2,3)}
print(b)

# b.add("abc") # lỗi



# Set
my_set = {8.0, "Sinh viên", (1, 2, 3)}
print("ketqua_Set=", my_set)
# Output: ketqua_Set= {'Sinh viên', 8.0, (1, 2, 3)}
# Khởi tạo my_set
my_set = {1, 3}
my_set.add(2)                    # thêm phần tử 2
my_set.update([2, 3, 4])         # cập nhật với list
my_set.update([4, 5], {1, 6, 8}) # cập nhật với list + set
print(my_set)
# Output: {1, 2, 3, 4, 5, 6, 8}



# Các phép toán trên set
a = set('abracadabra')  # {'d', 'r', 'c', 'b', 'a'}
b = set('alacazam')     # {'z', 'c', 'm', 'l', 'a'}

# Phép Hiệu: thuộc a nhưng không thuộc b
print(a - b)   # {'r', 'd', 'b'}

# Phép Hợp: thuộc a hoặc b
print(a | b)   # {'a', 'c', 'r', 'd', 'b', 'm', 'z', 'l'}

# Phép Giao: thuộc cả a và b
print(a & b)   # {'a', 'c'}

# Phép Xor: thuộc a hoặc b nhưng không phải cả 2
print(a ^ b)   # {'r', 'd', 'b', 'm', 'z', 'l'}



# Các phương thức của set
num = {1,3,5,6,8,20,7,8,29,33} # khởi tạo set num
print("Số lớn nhất là :", max(num))
#Số lớn nhất là : 33


#Vòng lặp for của set()
setFruits = {'lemon', 'orange', 'apple', 'pear'} # khởi tạo setFruits
for x in setFruits:  # lặp qua từng phần tử trong setFruits
    print(x)
for letter in set("chivuong"): # lặp qua từng ký tự trong chuỗi "chivuong"
    print(letter)






# Dictionary
dict = {1: 'one', 2: 'two', 3: 'three'} # khởi tạo dict với 3 cặp key:value

# Lấy giá trị với key = 1
print(dict[1])   # one

# Thêm cặp key: value mới
dict[4] = 'four'

# In toàn bộ dict
print(dict)      # {1: 'one', 2: 'two', 3: 'three', 4: 'four'}



dict = {(1,2,3):"abc", 3.1415:"abc"} # key có thể là tuple, float
print(dict) 
#dict = {[1,2,3]:"abc"} # lỗi


# Dictionary (từ điển)
l1 = ["a", "b", "c"] # list 3 chuỗi
l2 = [1, 2, 3] # list 3 số nguyên
 
c = zip(l1, l2)   # Ghép từng phần tử của l1 với l2 thành tuple

for i in c: # in ra từng tuple
    print(i)

# Output:
# ('a', 1)
# ('b', 2)
# ('c', 3)



# Dictionary (từ điển)
# tạo một dict với key là các số nguyên
Dict = {1: 'Nguyen', 2: 'Van', 3: 'An'}
print(Dict)
# {1: ‘Nguyen’, 2: ‘Van’, 3: ‘an’}

# tạo một dict với key hỗn hợp
Dict = {'Name': 'dict', 1: [1, 2, 3, 4]}
print(Dict)
# {'Name': 'dict', 1: [1, 2, 3, 4]}


# tạo một từ điển
Dict = {}
# thêm các giá trị
Dict[0] = 'Xin chao'
Dict[1] = 'lop hoc Khoa học du lieu'
print(Dict)
# {0: ' Xin chao ', 1: ' Khoa học du lieu'}


# tạo một dict mới
Dict = {1: 'Lớp', 2: 'Khoa học', 3: 'Dữ liệu'}

# truy cập theo cách thông thường
print(Dict[1])
# Lớp

# truy cập bằng phương thức get()
print(Dict.get(3))


Dict = {'Ten':'An','Tuoi':20} # tạo dict với 2 cặp key:value
print("Chuỗi tương đương là :",  str (Dict))
#Chuỗi tương đương là : {'Ten': ‘An', 'Tuoi': 20}

Dict = {'Cúc':18, 'Lan':19, 'Hồng':20, 'Mai':27} # tạo dict với 4 cặp key:value
Dict.update({'Lan':21}) #cập nhật tuổi cho Lan
Dict.update({'Đào':25}) #thêm một phần tử mới là Đào
print(Dict)
#{'Cúc':18,'Lan':21,'Hồng':20,'Mai':27,'Đào':25}





# Package
# Cách 1: import đầy đủ
import numpy
# Nếu gọi trực tiếp array([1, 2, 3]) sẽ lỗi
A = numpy.array([1, 2, 3])   # gọi bằng namespace numpy
print("A =", A)

# Cách 2: import với bí danh np (thường dùng)
import numpy as np
B = np.array([1, 2, 3])   # dùng np cho ngắn gọn
print("B =", B)

# Cách 3: import trực tiếp hàm array
from numpy import array
C = array([1, 2, 3])   # dùng luôn không cần np hay numpy
print("C =", C)






# Tạo mảng và truy cập
import numpy as np

a = np.array([1, 2, 3])  # tạo mảng 1 chiều (vector) gồm 3 phần tử
print(type(a))            # kiểu dữ liệu: <class 'numpy.ndarray'>
print(a.shape)            # shape = (3,), tức là mảng có 1 chiều, độ dài 3
print(a[0], a[1], a[2])   # truy xuất các phần tử: 1 2 3
a[0] = 5                  # thay đổi giá trị phần tử đầu tiên từ 1 -> 5
print(a)                  # in ra mảng mới: [5 2 3]

b = np.array([[1, 2, 3],[4, 5, 6]])  # tạo mảng 2 chiều (ma trận 2x3)
print(b.shape)                        # shape = (2, 3), tức 2 hàng 3 cột
print(b[0, 0], b[0, 1], b[1, 0])      # lần lượt: 1 (hàng 0, cột 0), 
                                      # 2 (hàng 0, cột 1),
                                      # 4 (hàng 1, cột 0)

# Hàm np.diag() tạo ma trận đường chéo từ list/array đầu vào
print(np.diag([1, 3, 4]))



import numpy as np

# Lỗi: numpy không có hàm np.range, phải dùng np.arange
# x = np.range(3.0)  # sai
x = np.arange(3.0)    # tạo mảng [0. 1. 2.]

a = np.zeros((2, 2))       # tạo mảng 2x2 toàn số 0
b = np.ones((1, 2))        # tạo mảng 1x2 toàn số 1
c = np.full((3, 2, 2), 9)  # tạo mảng 3x2x2 toàn số 9
d = np.eye(2)              # tạo ma trận đơn vị 2x2

# Sai cú pháp: np.random.random chỉ nhận 1 tham số tuple
# e = np.random.random(3, 2)  # lỗi
e = np.random.random((3, 2)) # tạo mảng 3x2 số ngẫu nhiên [0,1)

# mảng 2x3 với số từ 1 đến 6, kiểu dữ liệu số nguyên 32 bit
x = np.array([[1, 2, 3], [4, 5, 6]], np.int32)

print(x.ndim, x.size)  # số chiều của mảng, số phần tử → "2 6"
print(x.shape)         # kích thước mảng → (2, 3)
print(x.dtype)         # kiểu dữ liệu → dtype('int32')



# Truy cập theo chỉ số (slicing)
import numpy as np

# mảng 3x4
a = np.array([
    [1,  2,  3,  4],
    [5,  6,  7,  8],
    [9, 10, 11, 12]
])

# mảng 2x2 được trích xuất từ a: lấy dòng 0 và 1, cột 1 và 2
b = a[:2, 1:3]

# in phần tử ở hàng 0, cột 1 của a
print(a[0, 1])  # 2

# thay đổi giá trị b[0, 0], thực chất chính là a[0, 1]
b[0, 0] = 77

# kiểm tra lại: giá trị trong a cũng thay đổi theo vì b tham chiếu dữ liệu từ a
print(a[0, 1])  # 77



# Cẩn thận với slicing
row_r1 = a[1, :] # mảng 1 chiều độ dài 4
row_r2 = a[1:2, :] # mảng 2 chiều 1x4
print(row_r1, row_r1.shape) # in ra "[5 6 7 8] (4,)"
print(row_r2, row_r2.shape) # in ra "[[5 6 7 8]] (1, 4)"
col_r1 = a[:, 1] # mảng 1 chiều độ dài 3
col_r2 = a[:, 1:2] # mảng 2 chiều 3x1
print(col_r1, col_r1.shape) # in ra "[ 2 6 10] (3,)"
print(col_r2, col_r2.shape) # in ra "[[ 2]

# [ 6]
# [10]] (3, 1)"





#NumPy có nhiều phép toán về mảng
import numpy as np

x = np.array([[1, 2], [3, 4]], dtype=np.float64) # tạo mảng 2x2 kiểu float64
y = np.array([[5, 6], [7, 8]], dtype=np.float64) # tạo mảng 2x2 kiểu float64
print(x + y) # print(np.add(x, y)), xử lý khác list
print(x - y) # print(np.subtract(x, y))
print(x * y) # print(np.multiply(x, y))
print(x / y) # print(np.divide(x, y))
print(np.sqrt(x)) # khai căn tất cả các phần tử
print(2**x) # tính 2 mũ các phần tử trong x
# chú ý: phép nhân/chia thực hiện theo cặp phần tử của x và y


# Nhân ma trận (dot) và nghịch đảo
import numpy as np # import thư viện numpy

x = np.array([[1, 2],[3, 4]]) # tạo mảng 2x2
y = np.array([[5, 6],[7, 8]]) # tạo mảng 2x2
v = np.array([9, 10]) # tạo mảng 1 chiều (vector) độ dài 2
w = np.array([11, 12]) # tạo mảng 1 chiều (vector) độ dài 2
print(v.dot(w)) # tương tự print(np.dot(v, w))
print(x.dot(v)) # tương tự print(np.dot(x, v))
print(x.dot(y)) # tương tự print(np.dot(x, y))
print(np.linalg.inv(x)) # tính và in nghịch đảo của x


# Ma trận chuyển vị
import numpy as np
x = np.array([[1, 2], [3, 4]]) # tạo mảng 2x2
print(x) # in ra "[[1 2]
# [3 4]]"
print(x.T) # in ra "[[1 3]
# [2 4]]"
# chú ý: mảng 1 chiều không có chuyển vị
y = np.array([1, 2, 3]) # tạo mảng 1 chiều độ dài 3
print(y) # in ra "[1 2 3]"
print(y.T) # in ra "[1 2 3]"
z = np.array([[1, 2, 3]]) # tạo mảng 2 chiều 1x3
print(z.T) # đoán xem in ra cái gì?





# Đọc dữ liệu từ file
from io import StringIO
import numpy as np

# Tạo đối tượng StringIO giống như một file chứa dữ liệu văn bản
c = StringIO("0 1\n2 3")

# Đọc dữ liệu từ "file" c thành mảng numpy (kiểu mặc định: float)
x = np.loadtxt(c)  
# array([[0., 1.],
#        [2., 3.]])

# Tạo một "file" văn bản khác, dữ liệu có cả chuỗi và số
d = StringIO("M 21 72\nF 35 58")

# Đọc dữ liệu với kiểu dữ liệu phức hợp (structured array)
y = np.loadtxt(
    d,
    dtype={'names': ('gender', 'weight', 'height'),   # đặt tên cho từng cột
           'formats': ('S1', 'i4', 'f4')}             # S1: string 1 ký tự, i4: int32, f4: float32
)

# In kết quả: mỗi dòng là một tuple (gender, weight, height)
print(y)  
# [(b'M', 21, 72.) (b'F', 35, 58.)]



# Cơ chế broadcasting
import numpy as np

x = np.array([[1, 2, 3], [4, 5, 6], [7, 8, 9], [10, 11,12]]) # tạo mảng 4x3
v = np.array([1, 0, 1]) # tạo mảng 1 chiều độ dài 3
y = x + v # cộng v vào từng hàng của x
print(y) # in ra "[ 2 2 4]
# [ 5 5 7]
# [ 8 8 10]
# [11 11 13]]"  


# Tính tổng theo các trục
import numpy as np

x = np.array([[1, 2], [3, 4]]) # tạo mảng 2x2

print(np.sum(x)) # tính tổng toàn bộ x, in "10“
print(np.sum(x, axis=0)) # tính tổng mỗi cột, in "[4 6]“
print(np.sum(x, axis=1)) # tính tổng mỗi hàng, in "[3 7]"


# Trích xuất dữ liệu theo dãy
import numpy as np
a = np.array([[1,2], [3, 4], [5, 6]]) # tạo mảng 3x2
# Prints "[1 4 5]"
print(a[[0, 1, 2], [0, 1, 0]]) 
# Prints "[1 4 5]"
print(np.array([a[0, 0], a[1, 1], a[2, 0]]))
# Prints "[2 2]"
print(a[[0, 0], [1, 1]])
# Prints "[2 2]"
print(np.array([a[0, 1], a[0, 1]]))


# Lọc phần tử theo chỉ số
import numpy as np

a = np.array([[1, 2, 3], [4, 5, 6], [7, 8, 9], [10, 11, 12]]) # tạo mảng 4x3
b = np.array([0, 2, 0, 1]) # b là mảng các chỉ số
print(a[np.arange(4), b]) # in ra "[1 6 7 11]"
# cộng tất cả các phần tử được lọc thêm 10
a[np.arange(4), b] += 10 
print(a) # in ra "array([[11, 2, 3],

# [ 4, 5, 16],
# [17, 8, 9],
# [10, 21, 12]])


# Lọc dữ liệu theo điều kiện
import numpy as np

# Tạo mảng 2D (3x2)
a = np.array([[1, 2], [3, 4], [5, 6]])

# Tạo mảng boolean, so sánh từng phần tử với 2
bool_idx = (a > 2)

# In ra mảng boolean (True/False cho từng phần tử)
print(bool_idx)  
# [[False False]
#  [ True  True]
#  [ True  True]]

# Dùng mảng boolean để lọc dữ liệu trong a → trả về 1 mảng 1D chứa các phần tử > 2
print(a[bool_idx])  
# [3 4 5 6]

# Có thể viết ngắn gọn: truyền điều kiện trực tiếp vào a
print(a[a > 2])  
# [3 4 5 6]



# Điều chỉnh cỡ ma trận
import numpy as np

# Tạo mảng 3x2
x = np.array([[1, 3], [4, 4], [4, 2]])
print("Kích thước ban đầu:", x.shape)   # (3, 2)

# Chuyển thành mảng 2x3 (reshape)
x = x.reshape(2, 3)  
print("Reshape 2x3:\n", x)  
# [[1 3 4]
#  [4 4 2]]

# Tạo lại mảng 3x2
x = np.array([[1, 3], [4, 4], [4, 2]])

# Dùng -1 để NumPy tự tính số cột
x = x.reshape(2, -1)  
print("Reshape 2x3 (dùng -1):\n", x)  
# [[1 3 4]
#  [4 4 2]]



# Elementwise operation
import numpy as np

x = np.array([1, 2, 3]) 

# Lấy log cơ số e (ln) của từng phần tử
print(np.log(x))     
# [0.         0.69314718 1.09861229]

# Lấy trị tuyệt đối từng phần tử
print(np.abs(x))     
# [1 2 3]

# Lấy max giữa x và 2 (so sánh từng phần tử)
print(np.maximum(x, 2))  
# [2 2 3]

# Lấy min giữa x và 2 (so sánh từng phần tử)
print(np.minimum(x, 2))  
# [1 2 2]

# Lũy thừa 2 từng phần tử
print(x**2)          
# [1 4 9]



# Tính norm cấp 2 của vector
import numpy as np

# Norm cấp 2 (L2 norm) của vector chính là chiều dài của vector
# |x| = sqrt(x1^2 + x2^2 + ... + xn^2)

x = np.array([[0, 3], [4, 3], [6, 8]])

# Tính norm theo từng dòng (mỗi vector là 1 dòng)
# keepdims=True giữ nguyên số chiều, kết quả có dạng cột
print(np.linalg.norm(x, axis=1, keepdims=True))
# [[ 3.]
#  [ 5.]
#  [10.]]

x = np.array([[0, 6], [4, 0], [3, 8]])

# Tính norm theo từng cột (mỗi vector là 1 cột)
print(np.linalg.norm(x, axis=0, keepdims=True))
# [[5. 10.]]



# Sinh mảng ngẫu nhiên
import numpy as np

# Mảng 3x2 ngẫu nhiên trong [0,1)
print(np.random.random((3, 2)))  

# Một số sinh theo phân phối chuẩn (mean=0, std=1)
print(np.random.randn())  

# Mảng 3 số theo phân phối chuẩn
print(np.random.randn(3))  

# Mảng 3x4 số theo phân phối chuẩn
print(np.random.randn(3, 4))  

# Mảng 2x4 gồm các số nguyên trong [3, 15)
print(np.random.randint(3, 15, (2, 4)))  

# Sinh một dãy là hoán vị ngẫu nhiên của dãy (0..19)
print(np.random.permutation(20))  



# Các hàm thống kê
import numpy as np
a = np.random.randn(3, 4) 
# tính trung bình của cả ma trận a
print(np.mean(a))
# tính trung vị của cột đầu tiên
print(np.median(a[:,0]))
# tính độ lệch chuẩn của từng dòng
print(a.std(axis=0))
# tính phương sai của từng cột
print(a.var(axis=1))





#Ví dụ: vẽ biểu đồ y = x2
import numpy as np # thư viện numpy
import matplotlib.pyplot as plt # thư viện pyplot

# chia đoạn từ -20 đến 20 thành 1000 đoạn
x = np.linspace(-20, 20, 1000)
# tính y
y = x * x
# vẽ biểu đồ tương quan giữa x và y
plt.plot(x, y)
# hiển thị biểu đồ
plt.show()


import numpy as np                 # import thư viện numpy để tính toán số học, tạo mảng
import matplotlib.pyplot as plt    # import matplotlib để vẽ biểu đồ

x = np.arange(0, 3 * np.pi, 0.1)   # tạo mảng x từ 0 đến 3π với bước nhảy 0.1
y_sin = np.sin(x)                  # tính giá trị sin(x) theo từng phần tử trong x
y_cos = np.cos(x)                  # tính giá trị cos(x) theo từng phần tử trong x

plt.plot(x, y_sin)                 # vẽ đồ thị y = sin(x) theo x
plt.plot(x, y_cos)                 # vẽ đồ thị y = cos(x) theo x
plt.xlabel('Trục X')               # đặt nhãn cho trục X
plt.ylabel('Trục Y')               # đặt nhãn cho trục Y
plt.title('Hàm SIN và COS trong khoảng 0 đến 3pi')  # tiêu đề biểu đồ
plt.legend(['SIN(x)', 'COS(x)'])   # hiển thị chú thích cho 2 đường
plt.show()                         # hiển thị biểu đồ






# Ví dụ
import numpy as np
import matplotlib.pyplot as plt

# Chia đoạn [0, 5) thành các bước nhảy 0.2
t = np.arange(0., 5., 0.2)

# Vẽ 3 đường trên cùng một biểu đồ:
# 1. y = x (màu đỏ, nét đứt '--')
# 2. y = x^2 (màu xanh dương, ký hiệu ô vuông 's')
# 3. y = x^3 (màu xanh lá, ký hiệu tam giác '^')
plt.plot(t, t, 'r--',     # đường thẳng y = x
         t, t**2, 'bs',   # parabol y = x^2
         t, t**3, 'g^')   # đường bậc 3 y = x^3

# Hiển thị biểu đồ
plt.show()






# Biểu đồ dạng cột chiều đứng
import matplotlib.pyplot as plt

# Tạo dữ liệu: tên ngành và số lượng tuyển sinh
D = {
    'Dược học': 3000,
    'KT-NH': 900,
    'QTKD': 2000,
    'CNTT': 1200,
    'CK-Oto': 1500,
    'NN': 500
}

# Vẽ biểu đồ cột
plt.bar(range(len(D)), D.values(), align='center')

# Đặt nhãn trên trục X là tên các ngành
plt.xticks(range(len(D)), D.keys())

# Thêm tiêu đề cho biểu đồ
plt.title('Các ngành tuyển sinh của Đại học Nguyễn Tất Thành')

# Hiển thị biểu đồ
plt.show()



# Biểu đồ dạng cột chiều ngang
import matplotlib.pyplot as plt

# Dữ liệu: ngành học và số lượng tuyển sinh
D = { 
    'Dược học': 3000,
    'KT-NH': 900,
    'QTKD': 2000,
    'CNTT': 1200,
    'CK-Oto': 1500,
    'NN': 500
}

# Vẽ biểu đồ cột ngang
# range(len(D)) tạo vị trí trên trục Y, D.values() là dữ liệu trên trục X
plt.barh(range(len(D)), D.values(), align='center')

# Đặt nhãn trên trục Y thành tên các ngành
plt.yticks(range(len(D)), D.keys())

# Thêm tiêu đề cho biểu đồ
plt.title('Các ngành tuyển sinh của Đại học Nguyễn Tất Thành')

# Hiển thị biểu đồ
plt.show()




# Có thể ghép 2 biểu đồ
import matplotlib.pyplot as plt

# Vẽ cột thứ nhất, các cột nằm ở vị trí 1,3,5,7,9
plt.bar([1, 3, 5, 7, 9], [5, 2, 7, 8, 2], label="One")

# Vẽ cột thứ hai, các cột nằm lệch sang phải (2,4,6,8,10)
plt.bar([2, 4, 6, 8, 10], [8, 6, 2, 5, 6], label="Two", color='g')

# Thêm chú thích
plt.legend()

# Nhãn cho trục X và Y
plt.xlabel('bar number')
plt.ylabel('bar height')

# Tiêu đề biểu đồ
plt.title('Ghép 2 biểu đồ')

# Hiển thị
plt.show()






# Làm rõ tương quan chi tiết / tổng thể
import matplotlib.pyplot as plt

# Dữ liệu: tên ngành và số lượng tuyển sinh
D = {
    'Dược học': 3000,
    'KT-NH': 900,
    'QTKD': 2000,
    'CNTT': 1200,
    'CK-Oto': 1500,
    'NN': 500
}

# Vẽ biểu đồ tròn
plt.pie(
    D.values(),             # dữ liệu
    labels=D.keys(),        # nhãn hiển thị
    autopct='%1.1f%%'       # hiển thị % với 1 chữ số thập phân
)

# Giữ biểu đồ tròn (không bị méo)
plt.axis('equal')

# Hiển thị
plt.show()






# Chia thành các biểu đồ con
import numpy as np              # import thư viện numpy để xử lý dữ liệu số học
import matplotlib.pyplot as plt # import matplotlib.pyplot để vẽ đồ thị

# Tạo dãy giá trị x từ 0 đến 3π với bước nhảy 0.1
x = np.arange(0, 3 * np.pi, 0.1)

# Tính giá trị sin(x) ứng với từng phần tử của x
y_sin = np.sin(x)

# Tính giá trị cos(x) ứng với từng phần tử của x
y_cos = np.cos(x)

# Tạo biểu đồ con thứ 1 (trong tổng số 2 hàng, 1 cột) và chọn vị trí là ô thứ 1
plt.subplot(2, 1, 1)

# Vẽ đồ thị sin(x) trên biểu đồ con thứ 1
plt.plot(x, y_sin)

# Đặt tiêu đề cho biểu đồ con thứ 1
plt.title('SIN(x)')

# Tạo biểu đồ con thứ 2 (trong tổng số 2 hàng, 1 cột) và chọn vị trí là ô thứ 2
plt.subplot(2, 1, 2)

# Vẽ đồ thị cos(x) trên biểu đồ con thứ 2
plt.plot(x, y_cos)

# Đặt tiêu đề cho biểu đồ con thứ 2
plt.title('COS(x)')

# Hiển thị tất cả biểu đồ
plt.show()



# Chia thành các biểu đồ con
import numpy as np              # import numpy để tính toán số học
import matplotlib.pyplot as plt # import matplotlib.pyplot để vẽ đồ thị

# Tạo 50 điểm cách đều trong đoạn [0, 5]
x1 = np.linspace(0.0, 5.0)

# Tạo 50 điểm cách đều trong đoạn [0, 2]
x2 = np.linspace(0.0, 2.0)

# Hàm y1 = cos(2πx1) * e^(-x1), vừa dao động vừa giảm biên độ theo thời gian
y1 = np.cos(2 * np.pi * x1) * np.exp(-x1)

# Hàm y2 = cos(2πx2), dao động cos trong khoảng [0, 2]
y2 = np.cos(2 * np.pi * x2)

# Biểu đồ con thứ 1 (2 hàng, 1 cột, vị trí 1)
plt.subplot(2, 1, 1)

# Vẽ đồ thị y1 với dấu tròn 'o' và đường kẻ '-'
plt.plot(x1, y1, 'o-')

# Biểu đồ con thứ 2 (2 hàng, 1 cột, vị trí 2)
plt.subplot(2, 1, 2)

# Vẽ đồ thị y2 với dấu chấm '.' và đường kẻ '-'
plt.plot(x2, y2, '.-')

# Hiển thị tất cả biểu đồ
plt.show()



# Nạp ảnh (png_jpg)
import matplotlib.pyplot as plt       # import matplotlib để vẽ
import matplotlib.image as mpimg      # import module image để đọc ảnh

# Đọc file ảnh "hoahong.jpg" vào biến image
image = mpimg.imread("hoahong.jpg")

# Tạo figure với lưới 2x2 ô (subplots), kích thước 5x5 inch
fig, axs = plt.subplots(2, 2, figsize=(5, 5))

# Hiển thị ảnh trong từng subplot

axs[0, 0].imshow(image)  # Ô hàng 0, cột 0
axs[1, 0].imshow(image)  # Ô hàng 1, cột 0
axs[0, 1].imshow(image)  # Ô hàng 0, cột 1
axs[1, 1].imshow(image)  # Ô hàng 1, cột 1

# Hiển thị toàn bộ figure
plt.show()



# Lưu biểu đồ ra file
import matplotlib.pyplot as plt       # import matplotlib để vẽ
import matplotlib.image as mpimg      # import module image để đọc ảnh

# Đọc file ảnh "hoahong.jpg"
image = mpimg.imread("hoahong.jpg")

# Tạo figure với lưới 2x2 subplot, kích thước 5x5 inch
fig, axs = plt.subplots(2, 2, figsize=(5, 5))

# Hiển thị ảnh trong từng subplot
axs[0, 0].imshow(image)  # ảnh tại ô (0,0)
axs[1, 0].imshow(image)  # ảnh tại ô (1,0)
axs[0, 1].imshow(image)  # ảnh tại ô (0,1)
axs[1, 1].imshow(image)  # ảnh tại ô (1,1)

# Tắt trục cho đẹp (không bắt buộc)
for ax in axs.flat:
    ax.axis('off')

# Lưu figure ra file JPG và PDF
plt.savefig('1.jpg')   # lưu dưới dạng ảnh
plt.savefig('1.pdf')   # lưu dưới dạng file PDF

# Hiển thị figure
plt.show()






# Tạo dữ liệu series (1)
import pandas as pd   # import pandas để làm việc với dữ liệu dạng Series/DataFrame
import numpy as np    # import numpy để tạo dữ liệu số học

# Tạo một pandas Series gồm 4 số nguyên ngẫu nhiên từ 0 đến 99
S = pd.Series(np.random.randint(100, size=4))

# In ra Series vừa tạo
print(S)

# In ra chỉ số (index) của Series, mặc định là 0,1,2,3
print(S.index)

# In ra giá trị (values) của Series dưới dạng numpy array
print(S.values)



# Tạo dữ liệu series (2)
import pandas as pd   # import pandas để làm việc với dữ liệu dạng Series/DataFrame
import numpy as np    # import numpy (trong ví dụ này chưa dùng nhưng vẫn được import)

# Danh sách index cho Series
chi_so = ["Ke toan", "KT", "CNTT", "Co khi"]

# Giá trị tương ứng cho từng index
gia_tri = [310, 360, 580, 340]

# Tạo pandas Series với giá trị và index đã định nghĩa
S = pd.Series(gia_tri, index=chi_so)

# In ra Series vừa tạo
print(S)

# In ra chỉ số (index) của Series
print(S.index)

# In ra giá trị (values) của Series dưới dạng numpy array
print(S.values)



# Tạo dữ liệu series (3)
import pandas as pd   # import pandas để làm việc với Series/DataFrame
import numpy as np    # import numpy (ở đây chưa dùng nhưng vẫn import)

# Danh sách index cho Series, có giá trị trùng nhau ("KT" xuất hiện 2 lần)
chi_so = ["KT", "KT", "CNTT", "Co khi"]

# Giá trị tương ứng cho từng index
gia_tri = [310, 360, 580, 340]

# Tạo pandas Series với giá trị và index đã định nghĩa
# Lưu ý: pandas Series cho phép index trùng nhau
S = pd.Series(gia_tri, index=chi_so)

# In ra Series
print(S)

# In ra chỉ số (index) của Series, bao gồm cả trùng nhau
print(S.index)

# In ra giá trị (values) của Series dưới dạng numpy array
print(S.values)



# Truy vấn dữ liệu thông qua chỉ số
import pandas as pd   # import pandas để làm việc với Series/DataFrame
import numpy as np    # import numpy (ở đây chưa dùng nhưng vẫn import)

# Danh sách index cho Series, có giá trị trùng nhau ("KT" xuất hiện 2 lần)
chi_so = ["KT", "KT", "CNTT", "Co khi"]

# Giá trị tương ứng cho từng index
gia_tri = [310, 360, 580, 340]

# Tạo pandas Series với giá trị và index đã định nghĩa
# Lưu ý: pandas Series cho phép index trùng nhau
S = pd.Series(gia_tri, index=chi_so)

# Lấy giá trị theo index 'Co khi' (trả về 1 giá trị duy nhất)
print(S['Co khi'])  

# Lấy giá trị theo index 'KT' (trả về Series con gồm tất cả giá trị trùng)
print(S['KT'])       

# Lấy giá trị theo cách truy cập thuộc tính (dot notation) với index 'CNTT'
print(S.CNTT)        



# Phép toán trên series
import pandas as pd   # import pandas để làm việc với Series/DataFrame
import numpy as np    # import numpy (ở đây chưa dùng nhưng vẫn import)

# Danh sách index cho Series S
# Lưu ý: Ở đây có vẻ bạn viết chưa đúng, mình sửa lại cho hợp lý
chi_so = ["Ke toan", "KT", "CNTT", "Co khi"]  # index cho Series S

# Giá trị tương ứng cho từng index
gia_tri = [310, 360, 580, 340]

# Tạo pandas Series với giá trị và index đã định nghĩa
# Chỉ số giống nhau sẽ tính gộp (nếu dùng phương thức phù hợp), nếu không có index tương ứng → kết quả sẽ NaN
S = pd.Series(gia_tri, index=chi_so)

# Tạo Series khác P với index ['CNTT', 'PM'] và giá trị 100
P = pd.Series([100, 100], ['CNTT', 'PM'])

# Cộng 2 Series, pandas tự động ghép theo index
# Nếu index trùng nhau, giá trị sẽ cộng
# Nếu index không trùng, kết quả là NaN
Y = S + P

# In kết quả
print(Y)



# apply() một hàm khác trên series
import pandas as pd   # import pandas để làm việc với Series/DataFrame
import numpy as np    # import numpy (ở đây chưa dùng nhưng vẫn import)

# Định nghĩa hàm Tang: nếu x > 500 thì giữ nguyên, nếu <= 500 thì cộng thêm 1000
def Tang(x):
    return x if x > 500 else x + 1000

# Danh sách index cho Series
chi_so = ["Ke toan", "KT", "CNTT", "Co khi"]

# Giá trị tương ứng cho từng index
gia_tri = [310, 360, 580, 340]

# Tạo Series với giá trị và index
S = pd.Series(gia_tri, chi_so)

# Áp dụng hàm Tang cho từng giá trị trong Series S
# Không thay đổi S gốc mà trả về Series mới
print(S.apply(Tang))






# Tạo dataframe từ list
import pandas as pd   # import pandas để làm việc với DataFrame

# Tạo dictionary lưu dữ liệu tội phạm qua các năm
crimes_rates = {
    "Year":[1960, 1961, 1962, 1963, 1964],              # Năm
    "Population":[179323175, 182992000, 185771000, 188483000, 191141000],  # Dân số
    "Total":[3384200, 3488000, 3752200, 4109500, 4564600],                 # Tổng số tội phạm
    "Violent":[288460, 289390, 301510, 316970, 364220]                     # Tội phạm bạo lực
}

# Chuyển dictionary thành pandas DataFrame
crimes_dataframe = pd.DataFrame(crimes_rates)

# In DataFrame ra màn hình
print(crimes_dataframe)



# Tạo dataframe từ list các dictionary
import pandas as pd   # import pandas để làm việc với DataFrame

# Tạo danh sách các dictionary, mỗi dictionary là một "hàng" dữ liệu
data = [
    {'MIT': 5000, 'Stanford': 4500, "DHTL":15000},  # dữ liệu số sinh viên
    {'MIT': 1, 'Stanford': 2, "DHTL":200}           # dữ liệu thứ hạng
]

# Chuyển danh sách dictionary thành DataFrame, đặt tên index là 'NumOfStudents' và 'ranking'
df = pd.DataFrame(data, index=['NumOfStudents', "ranking"])

# In DataFrame ra màn hình
print(df)

# Kiểm tra kiểu dữ liệu của cột 'DHTL' (dtype)
print(df.DHTL.dtype)



# Tạo dataframe từ dictionary serias
import pandas as pd   # import pandas để làm việc với Series/DataFrame

# Tạo dictionary chứa các Series
data = {
    "one": pd.Series([1, 23, 45], index=[1, 2, 3]),           # Series 'one' với index 1,2,3
    "two": pd.Series([1000, 2400, 1132, 3434], index=[1, 2, 3, 4])  # Series 'two' với index 1,2,3,4
}

# Chuyển dictionary thành DataFrame
# pandas tự động kết hợp các index khác nhau, nếu index nào thiếu giá trị sẽ điền NaN
df = pd.DataFrame(data)

# In DataFrame ra màn hình
print(df)






# Tạo panel
import pandas as pd
import numpy as np

# Tạo dữ liệu 3 chiều 2x3x4
data = np.random.rand(2, 3, 4)

# Tạo MultiIndex cho items và major_axis
items = ['Item1', 'Item2']
major_axis = ['Row1', 'Row2', 'Row3']
minor_axis = ['Col1', 'Col2', 'Col3', 'Col4']

# Chuyển mảng 3 chiều thành DataFrame với MultiIndex
df = pd.DataFrame(
    data.reshape(2*3, 4),
    index=pd.MultiIndex.from_product([items, major_axis], names=['Item', 'Row']),
    columns=minor_axis
)

print(df)







import pandas as pd

df2 = pd.DataFrame({'X' : ['B', 'B', 'A', 'A'], 'Y' : [1, 2, 3, 4]})  # Tạo DataFrame với cột 'X' làm nhóm và 'Y' là giá trị số

# Trường hợp 1: groupby mặc định (sort=True)
print(df2.groupby(['X']).sum())

# Trường hợp 2: groupby với sort=False
print(df2.groupby(['X'], sort=False).sum())



# Nhóm phần tử
import pandas as pd

df3 = pd.DataFrame({'X' : ['A', 'B', 'A', 'B'], 'Y' : [1, 4, 3, 2]})  # Tạo DataFrame với nhóm 'X' và giá trị 'Y'

# Lấy tất cả các dòng thuộc nhóm 'A'
print(df3.groupby(['X']).get_group('A'))
# Kết quả:
#    X  Y
# 0  A  1
# 2  A  3

# Lấy tất cả các dòng thuộc nhóm 'B'
print(df3.groupby(['X']).get_group('B'))
# Kết quả:
#    X  Y
# 1  B  4
# 3  B  2






#Viết hàm tính số tiền thu về
# Thử chơi 1 ngày với bộ số myNums, kết quả trả về là result, số tiền mỗi số là money
def one_day(myNums, result, money):
    pay = len(myNums) * money                   # Tổng tiền bỏ ra trong ngày
    get = money * 70 if result in myNums else 0 # Tiền thắng nếu kết quả trúng giải đặc biệt
    return get - pay                            # Lợi nhuận (hoặc lỗ) trong ngày

# Chơi nhiều ngày với bộ số myNums, kết quả trả về là results, mỗi số tiền chơi là money
def many_day(myNums, results, money):
    total = 0
    for x in results:
        total += one_day(myNums, x, money)     # Cộng lợi nhuận/lỗ từng ngày
    return total                                 # Tổng lợi nhuận/lỗ sau nhiều ngày




#Chiến lược: nuôi một số
money = 1000

# thử chiến lược chơi: nuôi một con
print("Chơi con 76 toàn năm 2000:", many_day([76],
s[0:367], money))
print("Chơi con 76 toàn bộ các năm:", many_day([76], s,
money))
# thử chiến lược chơi: nuôi nhiều con
print("Nuôi nhiều số toàn năm 2000:", many_day([76, 92,
3, 10, 51, 45], s[0:367], money))
print("Nuôi nhiều số toàn bộ các năm:", many_day([76,
92, 3, 10, 51,45], s, money))


import numpy as np

total = 0
money = 10  # ví dụ số tiền chơi mỗi số

for d in s:
    total -= money          # trừ tiền chơi mỗi lần
    m = np.random.randint(100)  # kết quả ngẫu nhiên từ 0 đến 99
    if m == d:
        total += 70 * money     # thắng giải đặc biệt

print("Chơi ngẫu nhiên:", total)






# Dự báo sử dụng hồi quy tuyến tính
import matplotlib.pyplot as plt   # Thư viện matplotlib để vẽ biểu đồ
import pandas as pd               # Thư viện pandas để xử lý dữ liệu dạng bảng (DataFrame)
import numpy as np                # Thư viện numpy để tính toán số học, mảng số liệu
from sklearn import linear_model, metrics  # Import mô-đun linear_model (hồi quy tuyến tính,...) và metrics (đánh giá mô hình) từ sklearn

# đọc dữ liệu từ file csv
df = pd.read_csv("nguoi.csv", index_col = 0)  
# Đọc file "nguoi.csv" vào DataFrame df
# index_col=0 có nghĩa là cột đầu tiên trong file (cột "Ten") sẽ được dùng làm chỉ số hàng (index)

print(df)  
# In toàn bộ dữ liệu trong DataFrame ra màn hình để kiểm tra

# vẽ biểu đồ minh họa dataset
plt.plot(df.Cao, df.Nang, 'ro')  
# Vẽ biểu đồ dạng scatter (dùng ký hiệu 'ro' = red color + circle marker)  
# trục X = df.Cao (chiều cao), trục Y = df.Nang (cân nặng)

plt.xlabel('Chiều cao (cm)')  
# Đặt nhãn (label) cho trục X là "Chiều cao (cm)"

plt.ylabel('Cân nặng (kg)')  
# Đặt nhãn (label) cho trục Y là "Cân nặng (kg)"

plt.show()  
# Hiển thị biểu đồ ra màn hình



# Dự báo sử dụng hồi quy tuyến tính
# sử dụng hồi quy tuyến tính
X = df.loc[:, ['Cao']].values # X là dữ liệu đầu vào
y = df.Nang.values # y là dữ liệu đầu ra
model = linear_model.LinearRegression() # loại mô hình
model.fit(X, y) # tập huấn trên dữ liệu
# in một số thông tin về mô hình
mse = metrics.mean_squared_error(model.predict(X), y)
print("Tổng bình phương sai số trên tập mẫu:", mse)
print("Hệ số hồi quy:", model.coef_)
print("Sai số:", model.intercept_)
print(f"Công thức: [Nặng] = {model.coef_} x [Cao] +{model.intercept_}")


# Dự báo sử dụng hồi quy tuyến tính
# vẽ lại sơ đồ
plt.scatter(X, y, c='b')              # Vẽ biểu đồ scatter với dữ liệu gốc (X: chiều cao, y: cân nặng), dùng màu xanh (c='b')
plt.plot(X, model.predict(X))         # Vẽ đường thẳng hồi quy từ mô hình (model.predict(X)), biểu diễn mối quan hệ dự đoán
plt.show()                            # Hiển thị biểu đồ ra màn hình

# dự báo một số tình huống
while True:                           # Tạo vòng lặp vô hạn để liên tục cho phép người dùng nhập dữ liệu

    x = float(input("Nhập chiều cao (nhập 0 để dừng): "))  
    # Yêu cầu người dùng nhập chiều cao, ép kiểu về float
    # Nếu nhập 0 thì sẽ dừng vòng lặp

    if x <= 0: break                  # Nếu giá trị nhập vào <= 0 thì thoát khỏi vòng lặp

    print("Người cao", x, "cm, dự báo cân nặng",  
          model.predict([[x]]))       # Gọi mô hình dự đoán cân nặng từ chiều cao nhập vào và in kết quả



# Dự báo sử dụng hồi quy tuyến tính
import matplotlib.pyplot as plt       # Thư viện matplotlib để vẽ biểu đồ
import pandas as pd                   # Thư viện pandas để xử lý dữ liệu bảng (DataFrame)
import numpy as np                    # Thư viện numpy để tính toán số học, mảng
from sklearn import linear_model, metrics  # Import các mô-đun hồi quy tuyến tính và đánh giá mô hình từ sklearn

# đọc dữ liệu từ file csv
df = pd.read_csv("nguoi2.csv", index_col = 0)  
# Đọc dữ liệu từ file "nguoi2.csv" vào DataFrame df
# index_col=0: dùng cột đầu tiên (cột "Ten") làm chỉ số hàng (index)

print(df)  
# In toàn bộ dữ liệu gốc ra màn hình để kiểm tra

# thêm cột mới, giới tính Nam = 1, giới tính Nữ = 0
df['GT'] = df.Gioitinh.apply(lambda x: 1 if x=='Nam' else 0)  
# Tạo thêm một cột mới tên là "GT"
# Dùng hàm apply + lambda: nếu cột Gioitinh = "Nam" thì gán giá trị 1, nếu không (tức là "Nu") thì gán 0

print(df)  
# In DataFrame ra lại để xem kết quả đã thêm cột "GT"



# Dự báo sử dụng hồi quy tuyến tính
# sử dụng hồi quy tuyến tính
X = df.loc[:, ['Cao', 'GT']].values # X là dữ liệu đầu vào
y = df.Nang.values # y là dữ liệu đầu ra
model = linear_model.LinearRegression() # loại mô hình
model.fit(X, y) # tập huấn trên dữ liệu

# in một số thông tin về mô hình
mse = metrics.mean_squared_error(model.predict(X), y)
print("Tổng bình phương sai số trên tập mẫu:", mse)
print("Hệ số hồi quy:", model.coef_)
print("Sai số:", model.intercept_)
print(f"Công thức: [Nặng] = {model.coef_} x [Cao, Giới tính] +{model.intercept_}")


# dự báo một số tình huống
while True:  
    # Tạo vòng lặp vô hạn để liên tục cho phép người dùng nhập chiều cao

    x = float(input("Nhập chiều cao (nhập 0 để dừng): "))  
    # Yêu cầu người dùng nhập chiều cao, ép kiểu dữ liệu về float
    # Nếu nhập 0 hoặc số âm thì sẽ thoát vòng lặp

    if x <= 0: break  
    # Nếu chiều cao nhập vào <= 0 thì dừng vòng lặp bằng lệnh break

    print("Nam giới cao", x, "cm, dự báo cân nặng",  
          model.predict([[x, 1]]))  
    # Dùng mô hình (model) để dự báo cân nặng cho **nam giới**
    # Đầu vào gồm 2 biến: chiều cao (x) và giới tính (1 = Nam)
    # model.predict([[x, 1]]) trả về mảng numpy chứa cân nặng dự đoán

    print("Nữ giới cao", x, "cm, dự báo cân nặng",  
          model.predict([[x, 0]]))  
    # Dự báo cân nặng cho **nữ giới**
    # Đầu vào gồm 2 biến: chiều cao (x) và giới tính (0 = Nữ)




