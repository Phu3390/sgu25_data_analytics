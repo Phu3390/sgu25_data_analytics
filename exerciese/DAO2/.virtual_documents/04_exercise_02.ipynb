











import numpy as np # Khai báo thư viện numpy

print("1. Tạo một dãy số a có N phần tử (N = 10)")
""" CÁC BẠN LÀM BÀI Ở ĐÂY """
N = 10
a = np.random.randint(1, 100, N)  # Sinh ngẫu nhiên 10 số nguyên trong đoạn [1, 100)

print("Day so a: ", a)





print("2. Các thao tác tính toán đơn giản với dãy số a")
""" CÁC BẠN LÀM BÀI Ở ĐÂY """
# Bình phương các phần tử trong dãy số
a2 = a ** 2 
# Tìm số lượng các phần tử của dãy số
na = len(a) # Sử dụng hàm len để đếm số phần tử trong mảng
print("a. Binh phuong a: ", a2)
print("\nb. Do dai a: ", na)

""" CÁC BẠN LÀM BÀI Ở ĐÂY """
v_max = np.max(a) # Tìm giá trị lớn nhất trong dãy số
v_min = np.min(a)  # Tìm giá trị nhỏ nhất trong dãy số
v_avg = np.mean(a)# Tính giá trị trung bình của dãy số 

print(f'\nc. Gia tri lon nhat: [{v_max}], gia tri nho nhat: [{v_min}], gia tri trung binh [{v_avg}]')

""" CÁC BẠN LÀM BÀI Ở ĐÂY """
v_sigma2 = np.var(a, ddof=1)  # ddof=1 để chia cho N-1
v_var = np.sqrt(v_sigma2) # Độ lệch chuẩn là căn bậc hai của phương sai

print(f'\nd. Phuong sai: [{v_sigma2: .2f}] va do lech chuan: [{v_var: .2f}]')





print("3. Xử lý khác trên dãy số")
""" CÁC BẠN LÀM BÀI Ở ĐÂY """
x = np.arange(1, 11) # Tạo dãy số từ 1 đến 10

print(f'a. Day so x: {x}')


""" CÁC BẠN LÀM BÀI Ở ĐÂY """
a_chan = a[a % 2 == 0] # Lọc các phần tử chẵn trong a
a_le = a[a % 2 != 0] # Lọc các phần tử lẻ trong a
n_a_chan = len(a_chan) # Đếm số phần tử chẵn
n_a_le = len(a_le) # Đếm số phần tử lẻ

x_chan = x[x % 2 == 0] # Lọc các phần tử chẵn trong x
x_le = x[x % 2 != 0] # Lọc các phần tử lẻ trong x
n_x_chan = len(x_chan) # Đếm số phần tử chẵn
n_x_le = len(x_le) # Đếm số phần tử lẻ

a_la_chan = a % 2 == 0 # Kiểm tra từng phần tử trong a có phải là chẵn không
x_la_chan = x % 2 == 0  # Kiểm tra từng phần tử trong x có phải là chẵn không

print( "b. Cac phan tu chan trong day a, b: ")
print(f"+ Day a: {a}")
print(f"  - Loc chan: {a_la_chan}")
print(f"  - Day chua phan tu chan trong a: {a_chan}, so luong {n_a_chan} phan tu.")
print(f"+ Day x: {x}")
print(f"  - Loc chan: {x_la_chan}")
print(f"  - Day chua phan tu chan trong a: {x_chan}, so luong {n_x_chan} phan tu.")


""" CÁC BẠN LÀM BÀI Ở ĐÂY """
v_le = np.arange(1, len(a), 2)  # vị trí lẻ: 1, 3, 5, ...
a_le_pos = a[v_le] # Lấy các phần tử ở vị trí lẻ trong a
x_le_pos = x[v_le] # Lấy các phần tử ở vị trí lẻ trong x
hieu_le = a_le_pos - x_le_pos # Tính hiệu các phần tử ở vị trí lẻ
kc_le = np.sqrt(np.sum(hieu_le ** 2)) # Tính khoảng cách Euclid giữa các phần tử ở vị trí lẻ

print( "c.Tính hiệu các phần tử ở vị trí lẻ của mảng a và x: ")
print(f"+ Vi tri le trong a va x: {v_le}")
print(f"+ Day so a: {a} va cac so o vi tri le: {a_le}")
print(f"+ Day so x: {x} va cac so o vi tri le: {x_le}")
print(f"+ Hieu cua a va x o vi tri le: {hieu_le}")
print(f"+ Khoang cach cac phan tu cua a va x o vi tri le: {kc_le: .2f}")


print("d. Tìm khoảng cách nhỏ nhất giữa tập a và x. Ví dụ: min({1, 3, 5}, {2, 10, 8}} = 1")
"""
Gợi ý: Áp dụng toán tử broatcasting
[[1],                    [[1, 1, 1],        [[2, 10, 8],    =   [[-1, -9, -7],
 [3],   - [2, 10, 8] =    [3, 3, 3],   -     [2, 10, 8],         [ 1, -7, -5],  --> np.min(np.abs(...)) = 1
 [5]]                     [5, 5, 5]]         [2, 10, 8]]         [ 3, -5, -3]]
"""
""" CÁC BẠN LÀM BÀI Ở ĐÂY """
v_min = np.min(np.abs(a[:, np.newaxis] - x)) # Tính khoảng cách nhỏ nhất giữa các phần tử của a và x

print(f"+ Day a: {a}")
print(f"+ Day x: {x}")
print(f"+ Khoang cach nho nhat: {v_min}")





import matplotlib.pyplot as plt  # Khai báo thư viện pyplot trong matplotlib

""" CÁC BẠN LÀM BÀI Ở ĐÂY """
# Sử dụng hàm np.random.randint để sinh dãy số ngẫu nhiên
# Sử dụng hàm np.unique để trả về tần số xuất hiện
arr = np.random.randint(1, 11, 100) # Sinh ngẫu nhiên 100 số nguyên trong đoạn [1, 10]
value, cnt = np.unique(arr, return_counts=True) #   Trả về các giá trị duy nhất và tần số xuất hiện của chúng

print("a. Sinh ngẫu nhiên theo phân bố đều")
print(f"+ Gia tri: {value}")
print(f"+ So lan xuat hien: {cnt}")
print("+ Do thi ham so xuat hien")
plt.figure(figsize=(6,6))      #  kich thuoc ban ve
plt.bar(value, cnt)            #  ve cac khoi chu nhat theo day x, y
plt.xlim(0, 11)                #  gioi han truc x
plt.ylim(0, np.max(cnt) + 10)  #  gioi han truc y
plt.savefig("4a.png")          #  luu do thi
plt.show()                     #  hien thi do thi


""" CÁC BẠN LÀM BÀI Ở ĐÂY """
# Sử dụm hàm np.random.rand() sinh số ngẫu nhiên trong [0,1) --> [0,1) * (b - a) + a --> [a, b)
# Sử dụng hàm sau để tính hàm xác suất chuẩn N(m, s): np.sqrt, np.exp
N = 100
mu = 1.0
sigma = 1.0
a = mu - 5 * sigma
b = mu + 5 * sigma
x_min = a
x_max = b

x = np.random.rand(N) * (b - a) + a  # Sinh N số ngẫu nhiên trong [a, b)
y = (1 / (sigma * np.sqrt(2 * np.pi))) * np.exp(-((x - mu) ** 2) / (2 * sigma ** 2))  # Tính giá trị hàm phân phối chuẩn

print("b. Sinh cặp (x, y) với y làm hàm phân phối chuẩn")
print(f"+ x: {x_min} <= min [{np.min(x): .2f}] <= max [{np.max(x): .2f}] <= {x_max}")
print(f"+ Ve ham so y(x)")
plt.figure(figsize=(6,6))      # kich thuoc ban ve
plt.scatter(x, y)              # ve cac diem (xi, yi)
plt.savefig("4b.png")          #  luu do thi
plt.show()                     #  hien thi do thi


""" CÁC BẠN LÀM BÀI Ở ĐÂY """
# Sử dụng hàm np.random.randn() sinh phân phối chuẩn N(0,1) --> N(m,s^2) = m + N(0,1) * s
# Sử dụng hàm np.histogram với density=True để thống kê số lần xuất hiện với số bins = 300 (do dãy số thực)
N = 100000
mu = 1.0
sigma = 1.0

val = mu + np.random.randn(N) * sigma  # Sinh ngẫu nhiên N giá trị theo phân phối chuẩn
cnt, bins = np.histogram(val, bins=300, density=True)  # Thống kê số lần xuất hiện

print( "c. Sinh day so theo phan phoi chuan")
print(f"+ x: len = {len(x)}, min [{np.min(x)}], max [{np.max(x)}]")
print(f"+ Mat so xac suat cua day so x")
plt.figure(figsize=(6,6))      # kich thuoc ban ve
plt.xlim(np.min(val), np.max(val))
plt.scatter(bins[:-1], cnt)
plt.show()








# a = np.random.randint(100, 200, (6, 4))
""" CÁC BẠN LÀM BÀI Ở ĐÂY """
M = 6
N = 4
a = np.random.randint(100, 200, (M, N))  # Sinh ngẫu nhiên ma trận 6x4 với giá trị từ 100 đến 199

print("Ma trận a: \n", a)





""" CÁC BẠN LÀM BÀI Ở ĐÂY """
a_t = a.T  # Ma trận chuyển vị
v_23 = a[1, 2]  # Phần tử ở dòng 2 cột 3 (chỉ số bắt đầu từ 0)
d_0 = a[0]      # Dòng đầu
d_last = a[-1]  # Dòng cuối
d_2 = a[1]      # Dòng hai
c_l1 = a[:, -2] # Cột kế cuối
c_0 = a[:, 0]   # Cột đầu
dao_cot = np.flip(a, axis=0)  # Đảo các giá trị trên từng cột
tong_dong = np.sum(a, axis=1) # Tổng các dòng
tb_cot = np.mean(a, axis=0)   # Trung bình các cột

print(f"a. In ra ma trận chuyển vị: \n{a_t}")
print(f"\nb. In ra phần tử ở vị trí dòng 2 cột 3: {v_23}")
print(f"\nc. Trích xuất các dòng: ")
print(f"   + Dòng đầu : {d_0}")
print(f"   + Dòng cuối: {d_last}")
print(f"   + Dòng hai : {d_2}")
print(f"\nd. Trích xuất các cột: ")
print(f"   + Cột kế cuối: {c_l1}")
print(f"   + Cột đầu: {c_0}")
print(f"\ne. Đảo các giá trị trên từng cột: \n {dao_cot}")
print(f"\nf. Phép tính theo trục:")
print(f"   + Tổng dòng: {tong_dong}")
print(f"   + Trung bình cột: {tb_cot}")





""" CÁC BẠN LÀM BÀI Ở ĐÂY """
A = np.random.randint(1, 10, (4, 3))  # Ma trận A 4x3
B = np.random.randint(1, 10, (4, 3))  # Ma trận B 4x3
X = np.random.randint(1, 10, (3, 4))  # Ma trận X 3x4

AB_add = A + B        # Tổng từng phần tử
AB_sub = A - B        # Hiệu từng phần tử
AB_mul = A * B        # Tích từng phần tử
Y = np.dot(A, X)      # Nhân ma trận


print("a. Tạo hai ma trận A và B có 4 dòng x 3 cột và X có 3 dòng x 4 cột")
print(f"+ Ma tran A: \n{A}")
print(f"+ Ma tran B: \n{B}")
print(f"+ Ma tran X: \n{X}")

print("\nb. Tính tổng, hiệu, tích của từng phần tử trên hai ma trận A và B")
print(f"A + B = \n{AB_add}")
print(f"A - B = \n{AB_sub}")
print(f"A . B = \n{AB_mul}")

print("\nc. Tính phép nhân ma trận Y = A x X")
print(f"Y = A x X --> shape A ({A.shape}) x shape X ({X.shape}) = shape Y ({Y.shape}) \n{Y}")





""" CÁC BẠN LÀM BÀI Ở ĐÂY """
A = np.array([
    [4, 3, -5],
    [-2, -4, 5],
    [8, 8, 0]
]) # Ma trận A 3x3
y = np.array([2, 5, -3]) # Vector y 3x1

x = np.linalg.solve(A, y)  # Giải hệ phương trình
yy = np.dot(A, x)          # Kiểm tra lại nghiệm
diff = np.linalg.norm(yy - y)  # Sai số


print(f"+ Ma tran A: \n{A}")
print(f"+ Vector y: {y}")
print(f"+ Nghiem x: {x}")
print(f"+ Kiem tra: yy = Ax = {yy} ==> ||yy -y ||_2 = {diff: .2f}")








import matplotlib.pyplot as plt # khai báo thư viện vẽ pyplot
import math

circle = plt.Circle((0, 0), 1, color='g') # tạo đối tượng vòng tròn

fig, ax = plt.subplots(figsize=(6, 6)) # lấy figure và vùng vẽ

plt.plot(0, 0, 'o', color=(0.9, 0.9, 1.0), alpha=0.8) # vẽ điểm tại tâm (0,0)
ax.add_patch(circle) # thêm vòng tròn vào vùng vẽ

x = 0.75; y = math.sqrt(1 - (x ** 2)) # (x = 0.75, y = căn bậc 2 của 1 - x^2)
plt.arrow(0, 0, x, y)

plt.xlim(-1, 1) # giới hạn trục x
plt.ylim(-1, 1) # giới hạn trục y

plt.savefig('pi.png') # lưu đồ thị xuống tập tin
plt.show()            # hiển thị đồ thị


import numpy as np

def calc_pi_monte_carlo(n = 100):
    pi = 0
    
    # gợi ý: sử dụng np.random.rand(s1, s2, ...) --> sinh ngẫu nhiên các số trong nửa đoạn [0.0, 1.0)
    """ CÁC BẠN LÀM BÀI Ở ĐÂY """    
    # Sinh ngẫu nhiên n điểm (x, y) trong hình vuông [-1, 1] x [-1, 1]
    x = np.random.uniform(-1, 1, n)
    y = np.random.uniform(-1, 1, n)
    # Đếm số điểm nằm trong hình tròn tâm (0,0) bán kính 1
    inside = (x**2 + y**2) <= 1
    pi = 4 * np.sum(inside) / n
    
    return pi
# calc_pi_monte_carlo


import math

print("epsilon(n=100): ", calc_pi_monte_carlo(n = 100) - math.pi)
print("epsilon(n=100): ", calc_pi_monte_carlo(n = 100) - math.pi)
print("epsilon(n=10000): ", calc_pi_monte_carlo(n = 10000) - math.pi)
print("epsilon(n=10000): ", calc_pi_monte_carlo(n = 10000) - math.pi)
print("epsilon(n=1000000): ", calc_pi_monte_carlo(n = 1000000) - math.pi)
print("epsilon(n=1000000): ", calc_pi_monte_carlo(n = 1000000) - math.pi)
