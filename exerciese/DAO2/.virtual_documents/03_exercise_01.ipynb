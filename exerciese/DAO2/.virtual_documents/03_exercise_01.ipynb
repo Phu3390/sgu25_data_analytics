





# Khai báo thư viện
import math

# Nhập dữ liệu
x   = float(input('Moi ban nhap vao gia tri cua bien so x: '))
# Xử lý
""" CÁC BẠN LÀM BÀI Ở ĐÂY """
f_x = x + ((x**5)/math.factorial(5))+((math.sqrt(abs(x)))/(x**(3/2)))
# Tính giá trị hàm số f(x)

# Xuất dữ liệu
print(f'Gia tri cua ham so f({x}) = {f_x: .2f}.')








# Nhập dữ liệu
t  = int(input('Nhap vao tong so giay: '))

# Xử lý
""" CÁC BẠN LÀM BÀI Ở ĐÂY """
hh = t // 3600          # Tính số giờ (1 giờ = 3600 giây)
mm = (t % 3600) // 60   # Tính số phút (số giây còn lại chia cho 60)
ss = t % 60             # Tính số giây còn lại


# Xuất dữ liệu
print(f'{t} giay co dang {hh}:{mm}:{ss}')








# Nhập dữ liệu
a  = int(input('Moi ban nhap he so a: '))
b  = int(input('Moi ban nhap he so b: '))

# Xử lý
""" CÁC BẠN LÀM BÀI Ở ĐÂY """
if a == 0:
    if b == 0:
        flag = -1  # Phương trình có vô số nghiệm
    else:
        flag = 0   # Phương trình vô nghiệm
    x = None
else:
    flag = 1       # Phương trình có một nghiệm
    x = -b / a  # Tính nghiệm của phương trình
    
# Xuất dữ liệu
s = f'Phuong trinh {a}x + {b} = 0'
if flag == -1:
    print(f'{s} vo so nghiem.')
elif flag == 0:
    print(f'{s} vo nghiem.')
else:
    print(f'{s} co 1 nghiem x = {x: .2f}.')
# if





s = input("Moi ban nhap chuoi ky so s: ")

en  = ["zero", "one", "two", "three", "four", "five", "six", "seven", "eight", "nine"]
vi  = ["khong", "mot", "hai", "ba", "bon", "nam", "sau", "bay", "tam", "chin"]
num = [0, 1, 2, 3, 4, 5, 6, 7, 8, 9]
""" CÁC BẠN LÀM BÀI Ở ĐÂY """
s_lower = s.lower()  # Chuyển chuỗi nhập về chữ thường để so sánh

if s_lower in en:  # Kiểm tra chuỗi nhập có hợp lệ không
    idx = en.index(s_lower)  # Lấy vị trí trong danh sách tiếng Anh
    print("Chuoi vua nhap hop le!")
    print(f'"{s}" bieu dien so cho "{num[idx]}" va ung voi tieng Viet "{vi[idx]}".')
else:
    print("Chuoi vua nhap khong hop le!")  # Nếu không hợp lệ thì báo lỗi








# Nhập dữ liệu
n   = int(input("Moi ban nhap so nguyen n: "))

# Xuất dữ liệu
s   = 0
""" CÁC BẠN LÀM BÀI Ở ĐÂY """
for i in range(2, n+1, 2):  # Duyệt các số chẵn từ 2 đến n
    s += i  # Cộng dồn vào tổng

print(f'Tong cac so chan tu 1 den {n} la {s}.')





# Nhập dữ liệu
n   = int(input("Moi ban nhap so nguyen n: "))

# Xử lý 
""" CÁC BẠN LÀM BÀI Ở ĐÂY """
lant = True  # Giả sử n là số nguyên tố
if n < 2:
    lant = False  # Số nguyên tố phải lớn hơn hoặc bằng 2
else:
    for i in range(2, int(math.sqrt(n)) + 1):  # Kiểm tra từ 2 đến căn bậc hai của n
        if n % i == 0:  # Nếu n chia hết cho i
            lant = False  # n không phải là số nguyên tố
            break  # Dừng vòng lặp sớm


# Xuất dữ liệu
if lant == True:
    print(f'{n} la so nguyen to.')
else:
    print(f'{n} khong la so nguyen to.')








def NhapDuLieu():
    """
    Input: 
        Ban phim = 1 5 6
    Output:
        (a, b, c) --> (1, 5, 6)
    """
    """ CÁC BẠN LÀM BÀI Ở ĐÂY """    
    # Lặp đến khi nhập đúng 3 số thực
    while True:
        s = input("Moi ban nhap he so a, b, c: ")  # Nhập chuỗi từ bàn phím
        lst = s.strip().split()                     # Tách chuỗi thành list
        if len(lst) != 3:                           # Kiểm tra đủ 3 phần tử chưa
            print("Ban nhap sai! Moi ban nhap lai!")
            continue
        try:
            a = float(lst[0])                       # Chuyển phần tử thứ 1 thành số thực
            b = float(lst[1])                       # Chuyển phần tử thứ 2 thành số thực
            c = float(lst[2])                       # Chuyển phần tử thứ 3 thành số thực
            break                                   # Nếu thành công thì thoát vòng lặp
        except:
            print("Ban nhap sai! Moi ban nhap lai!")# Nếu lỗi thì yêu cầu nhập lại
    return a, b, c 
# NhapDuLieu


# Kiểm tra hàm
a, b, c = NhapDuLieu()


def GiaiPhuongTrinhBac2(a, b, c):
    """
    Input: a, b, c
    Output: 
    + flag = -1 (VSN), 0 (VN), k (k nghiem)
    + () --> flag = -1, 0
    + (x) --> flag = 1
    + (x1, x2) --> flag = 2
    """
    import math
    flag = None
    x = ()
    
    """ CÁC BẠN LÀM BÀI Ở ĐÂY """
     # Xử lý các trường hợp đặc biệt
    if a == 0:
        # Phương trình trở thành bx + c = 0
        if b == 0:
            if c == 0:
                flag = -1  # Vô số nghiệm
                x = ()
            else:
                flag = 0   # Vô nghiệm
                x = ()
        else:
            flag = 1       # 1 nghiệm
            x = (-c / b,)
    else:
        # Phương trình bậc 2
        delta = b**2 - 4*a*c
        if delta < 0:
            flag = 0       # Vô nghiệm
            x = ()
        elif delta == 0:
            flag = 1       # 1 nghiệm kép
            x = (-b / (2*a),)
        else:
            flag = 2       # 2 nghiệm phân biệt
            x1 = (-b + math.sqrt(delta)) / (2*a)
            x2 = (-b - math.sqrt(delta)) / (2*a)
            x = (x1, x2)
    
    return flag, x
# GiaiPhuongTrinhBac2


print("a = 0")
flag, x = GiaiPhuongTrinhBac2(0, 0, 0)
print(f'So nghiem: {flag}, nghiem = {x}')
flag, x = GiaiPhuongTrinhBac2(0, 0, 5)
print(f'So nghiem: {flag}, nghiem = {x}')
flag, x = GiaiPhuongTrinhBac2(0, 5, 6)
print(f'So nghiem: {flag}, nghiem = {x}')

print("a <> 0")
flag, x = GiaiPhuongTrinhBac2(5, 1, 2)
print(f'So nghiem: {flag}, nghiem = {x}')
flag, x = GiaiPhuongTrinhBac2(1, 2, 1)
print(f'So nghiem: {flag}, nghiem = {x}')
flag, x = GiaiPhuongTrinhBac2(1, 5, 6)
print(f'So nghiem: {flag}, nghiem = {x}')


# Kết nối bài
a, b, c = NhapDuLieu()
# Gọi hàm giải
flag, x = GiaiPhuongTrinhBac2(1, 5, 6)
# Xuất dữ liệu
s = f'Phuong trinh bac 2 {a}x^2 + {b}x + {c} = 0'
if flag == -1:
    print(f'{s} co vo so nghiem!')
elif flag == 0:
    print(f'{s} vo nghiem!')
elif flag == 1:
    print(f'{s} co 1 nghiem, x = {x[0]}!')
elif flag == 2:
    print(f'{s} co 2 nghiem, x1 = {x[0]}, x2 = {x[1]}!')
# if








def NhapMang():
    """
    Input:
        Ban phim = 1 4 1 2 3 4 1 2 3 3 1 2 3 4 10 2
    Output:
        a = [1, 4, 1, 2, 3, 4, 1, 2, 3, 3, 1, 2, 3, 4, 10, 2]
    """
    """ CÁC BẠN LÀM BÀI Ở ĐÂY """
    s = input("Moi ban nhap mang so (cach nhau boi khoang trang): ")  # Nhập chuỗi từ bàn phím
    lst = s.strip().split()                                           # Tách chuỗi thành list
    a = []
    for x in lst:
        try:
            a.append(int(x))  # Chuyển từng phần tử thành số nguyên và thêm vào mảng
        except:
            print(f"Gia tri '{x}' khong phai so nguyen, bo qua!")     # Nếu lỗi thì bỏ qua phần tử đó
    
    return a
# NhapMang


a = NhapMang() # 1 4 1 2 3 4 1 2 3 3 1 2 3 4 10 2
print(a)


def XuatMang(a):
    """
    Input:
        a = [1, 4, 1, 2, 3, 4, 1, 2, 3, 3, 1, 2, 3, 4, 10, 2]
    Output: 
        In ra man hinh:
            Mang co 16 phan tu: 1 4 1 2 3 4 1 2 3 3 1 2 3 4 10 2 
    """
    """ CÁC BẠN LÀM BÀI Ở ĐÂY """
    print(f'Mang co {len(a)} phan tu:', end=' ') # In số lượng phần tử
    for x in a:
        print(x, end=' ') # In các phần tử trong mảng
    print()  # Xuống dòng sau khi in xong mảng
    
# XuatMang


a = [1, 4, 1, 2, 3, 4, 1, 2, 3, 3, 1, 2, 3, 4, 10, 2]
XuatMang(a)


import random
def SinhNgauNhien(n, vmin = -10, vmax = 10):
    """
    Input:
        n = 30, vmin = -10, vmax = 10
    Output:
        a = [-1, -4, -8, 6, 4, -5, -1, -4, -9, -5, -10, 0, -6, 2, 1, -9, -9, 10, -8, -9, -7, 9, 2, -4, -1, -6, 5, -6, 9, -8]
    """    
    a = []
    """ CÁC BẠN LÀM BÀI Ở ĐÂY """
    for i in range(n):
        x = random.randint(vmin, vmax)  # Sinh số nguyên ngẫu nhiên trong khoảng vmin-vmax
        a.append(x)  # Thêm số vào mảng
    
    return a
# SinhNgauNhien


b = SinhNgauNhien(30, -10, 10)
print(b)
b = SinhNgauNhien(30, vmin = 0)
print(b)
b = SinhNgauNhien(30, vmax = 2)
print(b)


def DemTongChanLe(a):
    """
    Input: a[] = [1, 4, 2, 0, -1, -7, 3, -6, 4, 9, -5, 7, 7, -7, -10, 1, -10, 9, -4, -6, 10, -2, -10, -8, -3, 2, -7, -10, 6, 0]
    Output: tong, sochan, sole
    """
    tong = 0
    sochan = 0
    sole = 0
    
    """ CÁC BẠN LÀM BÀI Ở ĐÂY """
    for x in a:
        tong += x # Cộng dồn vào tổng
        if x % 2 == 0:
            sochan += 1 # Đếm số chẵn
        else:
            sole += 1 # Đếm số lẻ
    
    return tong, sochan, sole
# DemTongChanLe


a = [1, 4, 2, 0, -1, -7, 3, -6, 4, 9, -5, 7, 7, -7, -10, 1, -10, 9, -4, -6, 10, -2, -10, -8, -3, 2, -7, -10, 6, 0]
print(DemTongChanLe(a))
a = [9, 6, 5, 0, 8, 8, 1, 10, 0, 0, 1, 1, 2, 7, 1, 10, 9, 1, 10, 8, 2, 8, 4, 5, 4, 5, 5, 3, 6, 2]
print(DemTongChanLe(a))


def DayChanLe(a): # Gia tri tra ve
    """
    Input:
        a = [1, 4, 2, 0, -1, -7, 3, -6, 4, 9, -5, 7, 7, -7, -10, 1, -10, 9, -4, -6, 10, -2, -10, -8, -3, 2, -7, -10, 6, 0]
    Output: (achan, ale)
        achan = [4, 2, 0, -6, 4, -10, -10, -4, -6, 10, -2, -10, -8, 2, -10, 6, 0]
        ale = [1, -1, -7, 3, 9, -5, 7, 7, -7, 1, 9, -3, -7]
    """    
    achan = []
    ale = []
    
    """ CÁC BẠN LÀM BÀI Ở ĐÂY """
    for x in a:
        if x % 2 == 0: # Kiểm tra số chẵn
            achan.append(x) # Thêm vào danh sách số chẵn
        else:
            ale.append(x) # Thêm vào danh sách số lẻ
    
    return achan, ale
# DayChanLe


a = [1, 4, 2, 0, -1, -7, 3, -6, 4, 9, -5, 7, 7, -7, -10, 1, -10, 9, -4, -6, 10, -2, -10, -8, -3, 2, -7, -10, 6, 0]
achan, ale = DayChanLe(a)
print(f'DayChanLe:\nChan = {achan}\nLe = {ale}\n')





def XuLyKhongTrung(a):
    """
    Input:
        a = ['A', 'G', 'C', 'A', 'C', 'F', 'F', 'T', 'H']
    Output:
        s = ['A', 'C', 'F', 'G', 'H', 'T']
    """
    s = set([])
    """ CÁC BẠN LÀM BÀI Ở ĐÂY """
    for x in a:
        s.add(x)  # Thêm từng phần tử vào tập hợp (loại trùng)
        
    return sorted(s) # sắp xếp tăng dần và trả về list
# XuLyKhongTrung


a = ['A', 'G', 'C', 'A', 'C', 'F', 'F', 'T', 'H']
b = XuLyKhongTrung(a)
print(b)


def DemSoLanXuatHien(a):
    """
    Input:
        a = ['A', 'G', 'C', 'A', 'C', 'F', 'F', 'T', 'H']
    Output:
        dem = {'A': 2, 'G': 1, 'C': 2, 'F': 2, 'T': 1, 'H': 1}
    """
    dem = {} # (k, v): k (ky tu) v (so lan xuat hien)
    """ CÁC BẠN LÀM BÀI Ở ĐÂY """
    for x in a:
        if x in dem:
            dem[x] += 1  # Nếu đã có thì tăng lên 1
        else:
            dem[x] = 1   # Nếu chưa có thì gán bằng 1   
    
    return dem
# DemSoLanXuatHien


a = ['A', 'G', 'C', 'A', 'C', 'F', 'F', 'T', 'H']
b = DemSoLanXuatHien(a)
print(b)



